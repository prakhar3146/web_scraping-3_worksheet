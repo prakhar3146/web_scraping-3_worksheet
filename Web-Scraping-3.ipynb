{
 "cells": [
  {
   "cell_type": "markdown",
   "metadata": {},
   "source": [
    "QUESTION-1\n",
    "Write a python program which searches all the product under a particular product vertical\n",
    "from www.amazon.in. The product verticals to be searched will be taken as input from user.\n",
    "For e.g. If user input is ‘guitar’. Then search for guitars.\n"
   ]
  },
  {
   "cell_type": "code",
   "execution_count": 4,
   "metadata": {},
   "outputs": [
    {
     "name": "stdout",
     "output_type": "stream",
     "text": [
      "Requirement already satisfied: selenium in c:\\users\\hp\\anaconda3\\lib\\site-packages (3.141.0)\n",
      "Requirement already satisfied: urllib3 in c:\\users\\hp\\anaconda3\\lib\\site-packages (from selenium) (1.25.11)\n"
     ]
    }
   ],
   "source": [
    "#!pip install selenium"
   ]
  },
  {
   "cell_type": "code",
   "execution_count": 121,
   "metadata": {},
   "outputs": [],
   "source": [
    "import selenium\n",
    "from selenium import webdriver"
   ]
  },
  {
   "cell_type": "code",
   "execution_count": 122,
   "metadata": {},
   "outputs": [],
   "source": [
    "driver=webdriver.Chrome(r\"C:\\python\\chromedriver\")"
   ]
  },
  {
   "cell_type": "code",
   "execution_count": 123,
   "metadata": {},
   "outputs": [],
   "source": [
    "url='http://www.amazon.in/'\n",
    "driver.get(url)"
   ]
  },
  {
   "cell_type": "code",
   "execution_count": 124,
   "metadata": {},
   "outputs": [],
   "source": [
    "driver.maximize_window()"
   ]
  },
  {
   "cell_type": "code",
   "execution_count": 125,
   "metadata": {},
   "outputs": [
    {
     "name": "stdout",
     "output_type": "stream",
     "text": [
      " Enter the item that you want to search for: \n",
      "mobile\n"
     ]
    }
   ],
   "source": [
    "print(\" Enter the item that you want to search for: \")\n",
    "item=input()"
   ]
  },
  {
   "cell_type": "code",
   "execution_count": 127,
   "metadata": {},
   "outputs": [],
   "source": [
    "search_column=driver.find_elements_by_xpath(\"//input[@class='nav-input nav-progressive-attribute']\")\n",
    "search_column[0].send_keys(item)"
   ]
  },
  {
   "cell_type": "code",
   "execution_count": 128,
   "metadata": {},
   "outputs": [],
   "source": [
    "search_column[1].click()"
   ]
  },
  {
   "cell_type": "markdown",
   "metadata": {},
   "source": [
    "END OF ANSWER TO THE FIRST QUESTION"
   ]
  },
  {
   "cell_type": "markdown",
   "metadata": {},
   "source": [
    "QUESTION-2\n"
   ]
  },
  {
   "cell_type": "code",
   "execution_count": 24,
   "metadata": {},
   "outputs": [],
   "source": [
    "#Scraping required details"
   ]
  },
  {
   "cell_type": "code",
   "execution_count": 327,
   "metadata": {},
   "outputs": [],
   "source": [
    "def scrape_brand_title():\n",
    "    #driver.get(url)\n",
    "    brand_title=[]\n",
    "    try:\n",
    "        \n",
    "        \n",
    "        br=driver.find_elements_by_xpath(\"//tr[@class='a-spacing-small']\")\n",
    "        for i in br:\n",
    "            \n",
    "            if (i.text.find('Brand')!=-1):\n",
    "                \n",
    "                brand_title.append(i.text.replace(\"Brand\",\"\"))\n",
    "        \n",
    "    except:\n",
    "        brand_title.append(\"--\")\n",
    "        \n",
    "    return brand_title\n",
    "        "
   ]
  },
  {
   "cell_type": "code",
   "execution_count": 258,
   "metadata": {},
   "outputs": [],
   "source": [
    "def scrape_rating():\n",
    "    #driver.get(url)\n",
    "    rating=[]\n",
    "    try:\n",
    "        \n",
    "        rating_el=driver.find_element_by_xpath(\"//td[@class='a-size-base']\")\n",
    "        rating.append(rating_el.text.replace(\"\\n\",\"#\"))\n",
    "        \n",
    "        \n",
    "    except:\n",
    "        print(\"exception raised\")\n",
    "    return r"
   ]
  },
  {
   "cell_type": "code",
   "execution_count": 259,
   "metadata": {},
   "outputs": [],
   "source": [
    "def scrape_url():\n",
    "    #driver.get(url)\n",
    "    urls=[]\n",
    "    url=driver.find_elements_by_xpath(\"//a[@class='a-link-normal a-text-normal']\")\n",
    "    for i in url:\n",
    "        \n",
    "        try:\n",
    "            urls.append(i.get_attribute(\"href\"))\n",
    "        except:\n",
    "            urls.append(\"--\")\n",
    "    return urls"
   ]
  },
  {
   "cell_type": "code",
   "execution_count": 250,
   "metadata": {},
   "outputs": [],
   "source": [
    "def scrape_n_rating():\n",
    "   # driver.get(url)\n",
    "    n_rating=[]\n",
    "    try:\n",
    "        n_rating_el=driver.find_elements_by_xpath(\"//span[@id='acrCustomerReviewText']\")\n",
    "        n_rating.append(n_rating_el[0].text)\n",
    "    except:\n",
    "        n_rating.append(\"--\")\n",
    "    return n_rating"
   ]
  },
  {
   "cell_type": "code",
   "execution_count": 251,
   "metadata": {},
   "outputs": [],
   "source": [
    "def scrape_price():\n",
    "    #driver.get(url)\n",
    "    price=[]\n",
    "    \n",
    "    try:\n",
    "        price_el=driver.find_element_by_xpath(\"//td[@class='a-span12']/span\")\n",
    "        price.append(price_el.text)\n",
    "    except:\n",
    "        price.append(\"--\")\n",
    "    return price"
   ]
  },
  {
   "cell_type": "code",
   "execution_count": 252,
   "metadata": {},
   "outputs": [],
   "source": [
    "def scrape_delivery_date():\n",
    "    #driver.get(url)\n",
    "    \n",
    "    del_date=[]\n",
    "    try:\n",
    "        delivery=driver.find_element_by_xpath(\"//div[@class='a-section a-spacing-mini']/b\")\n",
    "        del_date.append(delivery.text)\n",
    "    except:\n",
    "        del_date.append(\"--\")\n",
    "    return del_date"
   ]
  },
  {
   "cell_type": "code",
   "execution_count": 253,
   "metadata": {},
   "outputs": [],
   "source": [
    "def scrape_details():\n",
    "    #driver.get(url)\n",
    "    details=[]\n",
    "    detail=[]\n",
    "    try:\n",
    "        detail_el=driver.find_elements_by_xpath(\"//ul[@class='a-unordered-list a-vertical a-spacing-mini']/li/span\")\n",
    "        for i in detail_el:\n",
    "            detail.append(i.text)\n",
    "        details.append(detail)\n",
    "    except:\n",
    "        details.append(\"--\")\n",
    "    return details"
   ]
  },
  {
   "cell_type": "code",
   "execution_count": 254,
   "metadata": {},
   "outputs": [],
   "source": [
    "def scrape_availablity():\n",
    "    #driver.get(url)\n",
    "    status=[]\n",
    "    try:\n",
    "        avail_el=driver.find_element_by_xpath(\"//div[@id='availability']/span\")\n",
    "        status.append(avail_el.text)\n",
    "    except:\n",
    "        status.append(\"--\")\n",
    "    return status"
   ]
  },
  {
   "cell_type": "code",
   "execution_count": 329,
   "metadata": {},
   "outputs": [],
   "source": [
    "def scrape_brand_product_title():\n",
    "    #driver.get(url)\n",
    "    product_title=[]\n",
    "    \n",
    "    try:\n",
    "        \n",
    "        br=driver.find_elements_by_xpath(\"//span[@class='a-size-large product-title-word-break']\")\n",
    "        for i in br:\n",
    "            \n",
    "            \n",
    "            \n",
    "                product_title.append(i.text)\n",
    "        \n",
    "    except:\n",
    "        product_title.append(\"--\")\n",
    "    return product_title\n",
    "        "
   ]
  },
  {
   "cell_type": "code",
   "execution_count": 330,
   "metadata": {},
   "outputs": [],
   "source": [
    "#looping through urls to scrape data from the first 3 pages\n",
    "import time"
   ]
  },
  {
   "cell_type": "code",
   "execution_count": 332,
   "metadata": {},
   "outputs": [
    {
     "name": "stdout",
     "output_type": "stream",
     "text": [
      "exception raised\n"
     ]
    },
    {
     "data": {
      "text/plain": [
       "69"
      ]
     },
     "execution_count": 332,
     "metadata": {},
     "output_type": "execute_result"
    }
   ],
   "source": [
    "url=[]\n",
    "price=[]\n",
    "brand=[]\n",
    "product_brand=[]\n",
    "rating_and_num=[]\n",
    "n_rat=[]\n",
    "other=[]\n",
    "delivery=[]\n",
    "availablity=[]\n",
    "page=1\n",
    "try:\n",
    "    while(page<=3):\n",
    "        \n",
    "        curr_url=(driver.current_url)\n",
    "        urls=scrape_url()\n",
    "        url.extend(urls)\n",
    "    \n",
    "        for i in urls:\n",
    "            driver.get(i)\n",
    "            time.sleep(3)\n",
    "            brand.extend(scrape_brand_title())\n",
    "            product_brand.extend(scrape_brand_product_title())\n",
    "            rating_and_num.append(scrape_rating())\n",
    "       \n",
    "            #n_rat.extend(scrape_n_rating(i))\n",
    "            other.extend(scrape_details())\n",
    "            delivery.extend(scrape_delivery_date())\n",
    "            availablity.extend(scrape_availablity())\n",
    "            price.extend(scrape_price())\n",
    "        \n",
    "        driver.get(curr_url)  \n",
    "        \n",
    "        next_btn=driver.find_element_by_xpath(\"//li[@class='a-last']\")\n",
    "        next_btn.click()\n",
    "        page=page+1\n",
    "        time.sleep(3)\n",
    "    \n",
    "except:\n",
    "    \n",
    "    print(\"No more elements to be scraped\")\n",
    "len(product_brand)\n",
    "    "
   ]
  },
  {
   "cell_type": "code",
   "execution_count": 337,
   "metadata": {},
   "outputs": [],
   "source": [
    "n_rat=[]\n",
    "rating=[]\n",
    "#separating rating and number of ratings data\n",
    "for i in rating_and_num:\n",
    "    p=rat_num.find('#')\n",
    "    first=rat_num[:p]\n",
    "    second=rat_num[p+1:]\n",
    "    n_rat.append(first)\n",
    "    rating.append(second)\n"
   ]
  },
  {
   "cell_type": "code",
   "execution_count": 334,
   "metadata": {},
   "outputs": [
    {
     "data": {
      "text/plain": [
       "[' Samsung',\n",
       " ' Samsung',\n",
       " ' Redmi',\n",
       " ' Redmi',\n",
       " ' Realme',\n",
       " ' OnePlus',\n",
       " ' Vivo',\n",
       " ' Samsung',\n",
       " ' Redmi',\n",
       " ' Redmi',\n",
       " ' Samsung',\n",
       " ' Oppo',\n",
       " ' Redmi',\n",
       " ' Redmi',\n",
       " ' Samsung',\n",
       " ' Redmi',\n",
       " ' Samsung',\n",
       " ' Redmi',\n",
       " ' Oppo',\n",
       " ' Realme',\n",
       " ' Samsung',\n",
       " ' Samsung',\n",
       " ' Samsung',\n",
       " ' Samsung',\n",
       " ' Nokia',\n",
       " ' Samsung',\n",
       " ' Nokia',\n",
       " ' Redmi',\n",
       " ' Redmi',\n",
       " ' Samsung',\n",
       " ' Redmi',\n",
       " ' Tecno',\n",
       " ' Redmi',\n",
       " ' Nokia',\n",
       " ' Realme',\n",
       " ' Oppo',\n",
       " ' Samsung',\n",
       " ' Redmi',\n",
       " ' Realme',\n",
       " ' Tecno',\n",
       " ' IKALL',\n",
       " ' IKALL',\n",
       " ' IKALL',\n",
       " ' Vivo',\n",
       " ' Tecno',\n",
       " ' Samsung',\n",
       " ' Samsung',\n",
       " ' Samsung',\n",
       " ' Samsung',\n",
       " ' OnePlus',\n",
       " ' Samsung',\n",
       " ' Redmi',\n",
       " ' Samsung',\n",
       " ' Vivo',\n",
       " ' Oppo',\n",
       " ' LG',\n",
       " ' OnePlus',\n",
       " ' Samsung',\n",
       " ' Oppo',\n",
       " ' Oppo',\n",
       " ' Samsung',\n",
       " ' Tecno',\n",
       " ' Panasonic',\n",
       " ' Panasonic',\n",
       " ' OnePlus',\n",
       " ' Panasonic',\n",
       " ' Realme',\n",
       " ' KECHAODA',\n",
       " ' KECHAODA']"
      ]
     },
     "execution_count": 334,
     "metadata": {},
     "output_type": "execute_result"
    }
   ],
   "source": [
    "brand"
   ]
  },
  {
   "cell_type": "code",
   "execution_count": 290,
   "metadata": {},
   "outputs": [],
   "source": [
    "#fitting the scraped data into DataFrame\n",
    "import pandas as pd"
   ]
  },
  {
   "cell_type": "code",
   "execution_count": 340,
   "metadata": {},
   "outputs": [
    {
     "data": {
      "text/html": [
       "<div>\n",
       "<style scoped>\n",
       "    .dataframe tbody tr th:only-of-type {\n",
       "        vertical-align: middle;\n",
       "    }\n",
       "\n",
       "    .dataframe tbody tr th {\n",
       "        vertical-align: top;\n",
       "    }\n",
       "\n",
       "    .dataframe thead th {\n",
       "        text-align: right;\n",
       "    }\n",
       "</style>\n",
       "<table border=\"1\" class=\"dataframe\">\n",
       "  <thead>\n",
       "    <tr style=\"text-align: right;\">\n",
       "      <th></th>\n",
       "      <th>BRAND</th>\n",
       "      <th>MODEL</th>\n",
       "      <th>RATING</th>\n",
       "      <th>NUMBER_OF_RATINGS</th>\n",
       "      <th>AVAILABLITY</th>\n",
       "      <th>DELVERY_PERIOD</th>\n",
       "      <th>DETAILS</th>\n",
       "      <th>PRODUCT_URL</th>\n",
       "    </tr>\n",
       "    <tr>\n",
       "      <th>Index</th>\n",
       "      <th></th>\n",
       "      <th></th>\n",
       "      <th></th>\n",
       "      <th></th>\n",
       "      <th></th>\n",
       "      <th></th>\n",
       "      <th></th>\n",
       "      <th></th>\n",
       "    </tr>\n",
       "  </thead>\n",
       "  <tbody>\n",
       "    <tr>\n",
       "      <th>1</th>\n",
       "      <td>Samsung</td>\n",
       "      <td>Samsung Galaxy A12 (White, 6GB RAM, 128GB Stor...</td>\n",
       "      <td>4.2 out of 5 stars</td>\n",
       "      <td>7,963 ratings</td>\n",
       "      <td>In stock.</td>\n",
       "      <td>Monday, Sep 27</td>\n",
       "      <td>[48MP+5MP+2MP+2MP Quad Camera-48MP (F2.0) main...</td>\n",
       "      <td>https://www.amazon.in/gp/slredirect/picassoRed...</td>\n",
       "    </tr>\n",
       "    <tr>\n",
       "      <th>2</th>\n",
       "      <td>Samsung</td>\n",
       "      <td>Samsung Galaxy M12 (White,6GB RAM, 128GB Stora...</td>\n",
       "      <td>4.2 out of 5 stars</td>\n",
       "      <td>7,963 ratings</td>\n",
       "      <td>In stock.</td>\n",
       "      <td>Sunday, Sep 26</td>\n",
       "      <td>[48MP+5MP+2MP+2MP Quad camera setup- True 48MP...</td>\n",
       "      <td>https://www.amazon.in/gp/slredirect/picassoRed...</td>\n",
       "    </tr>\n",
       "    <tr>\n",
       "      <th>3</th>\n",
       "      <td>Redmi</td>\n",
       "      <td>Redmi 9A (Nature Green, 2GB RAM, 32GB Storage)...</td>\n",
       "      <td>4.2 out of 5 stars</td>\n",
       "      <td>7,963 ratings</td>\n",
       "      <td>In stock.</td>\n",
       "      <td>Saturday, Sep 25</td>\n",
       "      <td>[Country Of Origin - India, 13MP rear camera w...</td>\n",
       "      <td>https://www.amazon.in/Redmi-9A-2GB-32GB-Storag...</td>\n",
       "    </tr>\n",
       "    <tr>\n",
       "      <th>4</th>\n",
       "      <td>Redmi</td>\n",
       "      <td>Redmi 9 (Sky Blue, 4GB RAM, 64GB Storage) | 2....</td>\n",
       "      <td>4.2 out of 5 stars</td>\n",
       "      <td>7,963 ratings</td>\n",
       "      <td>In stock.</td>\n",
       "      <td>Monday, Sep 27</td>\n",
       "      <td>[13+2MP Rear camera with AI Portrait, AI scene...</td>\n",
       "      <td>https://www.amazon.in/Redmi-Sky-Blue-64GB-Stor...</td>\n",
       "    </tr>\n",
       "    <tr>\n",
       "      <th>5</th>\n",
       "      <td>Realme</td>\n",
       "      <td>realme C11 (2021) (Cool Blue, 2GB RAM, 32GB St...</td>\n",
       "      <td>4.2 out of 5 stars</td>\n",
       "      <td>7,963 ratings</td>\n",
       "      <td>In stock.</td>\n",
       "      <td>Tuesday, Sep 28</td>\n",
       "      <td>[2 GB RAM 32 GB ROM Expandable Upto 256 GB, 16...</td>\n",
       "      <td>https://www.amazon.in/realme-Storage-Additiona...</td>\n",
       "    </tr>\n",
       "    <tr>\n",
       "      <th>...</th>\n",
       "      <td>...</td>\n",
       "      <td>...</td>\n",
       "      <td>...</td>\n",
       "      <td>...</td>\n",
       "      <td>...</td>\n",
       "      <td>...</td>\n",
       "      <td>...</td>\n",
       "      <td>...</td>\n",
       "    </tr>\n",
       "    <tr>\n",
       "      <th>65</th>\n",
       "      <td>OnePlus</td>\n",
       "      <td>OnePlus Nord CE 5G (Blue Void, 8GB RAM, 128GB ...</td>\n",
       "      <td>4.2 out of 5 stars</td>\n",
       "      <td>7,963 ratings</td>\n",
       "      <td>In stock.</td>\n",
       "      <td>Saturday, Sep 25</td>\n",
       "      <td>[64MP+8MP+2MP triple rear camera with 1080p vi...</td>\n",
       "      <td>https://www.amazon.in/OnePlus-Nord-Blue-128GB-...</td>\n",
       "    </tr>\n",
       "    <tr>\n",
       "      <th>66</th>\n",
       "      <td>Panasonic</td>\n",
       "      <td>Panasonic Eluga I8 (Black, 3GB RAM, 32GB Storage)</td>\n",
       "      <td>4.2 out of 5 stars</td>\n",
       "      <td>7,963 ratings</td>\n",
       "      <td></td>\n",
       "      <td>--</td>\n",
       "      <td>[13MP primary camera and 8MP front facing came...</td>\n",
       "      <td>https://www.amazon.in/Panasonic-Eluga-I8-Black...</td>\n",
       "    </tr>\n",
       "    <tr>\n",
       "      <th>67</th>\n",
       "      <td>Realme</td>\n",
       "      <td>realme narzo 30 (Racing Sliver, 4GB RAM, 64GB ...</td>\n",
       "      <td>4.2 out of 5 stars</td>\n",
       "      <td>7,963 ratings</td>\n",
       "      <td>In stock.</td>\n",
       "      <td>Saturday, Sep 25</td>\n",
       "      <td>[4 GB RAM | 64 GB ROM | Expandable Upto 256 GB...</td>\n",
       "      <td>https://www.amazon.in/realme-narzo-Racing-Sliv...</td>\n",
       "    </tr>\n",
       "    <tr>\n",
       "      <th>68</th>\n",
       "      <td>KECHAODA</td>\n",
       "      <td>KECHAODA A32 Dual Sim Mobile Phone (Bluetooth ...</td>\n",
       "      <td>4.2 out of 5 stars</td>\n",
       "      <td>7,963 ratings</td>\n",
       "      <td>In stock.</td>\n",
       "      <td>Tuesday, Sep 28</td>\n",
       "      <td>[Bluetooth Size Dual Sim Mobile Phone, Can be ...</td>\n",
       "      <td>https://www.amazon.in/gp/slredirect/picassoRed...</td>\n",
       "    </tr>\n",
       "    <tr>\n",
       "      <th>69</th>\n",
       "      <td>KECHAODA</td>\n",
       "      <td>KECHAODA A29 Dual Sim, Gold</td>\n",
       "      <td>4.2 out of 5 stars</td>\n",
       "      <td>7,963 ratings</td>\n",
       "      <td>In stock.</td>\n",
       "      <td>Monday, Sep 27</td>\n",
       "      <td>[Bluetooth Size Dual Sim Mobile Phone, Can be ...</td>\n",
       "      <td>https://www.amazon.in/gp/slredirect/picassoRed...</td>\n",
       "    </tr>\n",
       "  </tbody>\n",
       "</table>\n",
       "<p>69 rows × 8 columns</p>\n",
       "</div>"
      ],
      "text/plain": [
       "            BRAND                                              MODEL  \\\n",
       "Index                                                                  \n",
       "1         Samsung  Samsung Galaxy A12 (White, 6GB RAM, 128GB Stor...   \n",
       "2         Samsung  Samsung Galaxy M12 (White,6GB RAM, 128GB Stora...   \n",
       "3           Redmi  Redmi 9A (Nature Green, 2GB RAM, 32GB Storage)...   \n",
       "4           Redmi  Redmi 9 (Sky Blue, 4GB RAM, 64GB Storage) | 2....   \n",
       "5          Realme  realme C11 (2021) (Cool Blue, 2GB RAM, 32GB St...   \n",
       "...           ...                                                ...   \n",
       "65        OnePlus  OnePlus Nord CE 5G (Blue Void, 8GB RAM, 128GB ...   \n",
       "66      Panasonic  Panasonic Eluga I8 (Black, 3GB RAM, 32GB Storage)   \n",
       "67         Realme  realme narzo 30 (Racing Sliver, 4GB RAM, 64GB ...   \n",
       "68       KECHAODA  KECHAODA A32 Dual Sim Mobile Phone (Bluetooth ...   \n",
       "69       KECHAODA                        KECHAODA A29 Dual Sim, Gold   \n",
       "\n",
       "                   RATING NUMBER_OF_RATINGS AVAILABLITY    DELVERY_PERIOD  \\\n",
       "Index                                                                       \n",
       "1      4.2 out of 5 stars     7,963 ratings   In stock.    Monday, Sep 27   \n",
       "2      4.2 out of 5 stars     7,963 ratings   In stock.    Sunday, Sep 26   \n",
       "3      4.2 out of 5 stars     7,963 ratings   In stock.  Saturday, Sep 25   \n",
       "4      4.2 out of 5 stars     7,963 ratings   In stock.    Monday, Sep 27   \n",
       "5      4.2 out of 5 stars     7,963 ratings   In stock.   Tuesday, Sep 28   \n",
       "...                   ...               ...         ...               ...   \n",
       "65     4.2 out of 5 stars     7,963 ratings   In stock.  Saturday, Sep 25   \n",
       "66     4.2 out of 5 stars     7,963 ratings                            --   \n",
       "67     4.2 out of 5 stars     7,963 ratings   In stock.  Saturday, Sep 25   \n",
       "68     4.2 out of 5 stars     7,963 ratings   In stock.   Tuesday, Sep 28   \n",
       "69     4.2 out of 5 stars     7,963 ratings   In stock.    Monday, Sep 27   \n",
       "\n",
       "                                                 DETAILS  \\\n",
       "Index                                                      \n",
       "1      [48MP+5MP+2MP+2MP Quad Camera-48MP (F2.0) main...   \n",
       "2      [48MP+5MP+2MP+2MP Quad camera setup- True 48MP...   \n",
       "3      [Country Of Origin - India, 13MP rear camera w...   \n",
       "4      [13+2MP Rear camera with AI Portrait, AI scene...   \n",
       "5      [2 GB RAM 32 GB ROM Expandable Upto 256 GB, 16...   \n",
       "...                                                  ...   \n",
       "65     [64MP+8MP+2MP triple rear camera with 1080p vi...   \n",
       "66     [13MP primary camera and 8MP front facing came...   \n",
       "67     [4 GB RAM | 64 GB ROM | Expandable Upto 256 GB...   \n",
       "68     [Bluetooth Size Dual Sim Mobile Phone, Can be ...   \n",
       "69     [Bluetooth Size Dual Sim Mobile Phone, Can be ...   \n",
       "\n",
       "                                             PRODUCT_URL  \n",
       "Index                                                     \n",
       "1      https://www.amazon.in/gp/slredirect/picassoRed...  \n",
       "2      https://www.amazon.in/gp/slredirect/picassoRed...  \n",
       "3      https://www.amazon.in/Redmi-9A-2GB-32GB-Storag...  \n",
       "4      https://www.amazon.in/Redmi-Sky-Blue-64GB-Stor...  \n",
       "5      https://www.amazon.in/realme-Storage-Additiona...  \n",
       "...                                                  ...  \n",
       "65     https://www.amazon.in/OnePlus-Nord-Blue-128GB-...  \n",
       "66     https://www.amazon.in/Panasonic-Eluga-I8-Black...  \n",
       "67     https://www.amazon.in/realme-narzo-Racing-Sliv...  \n",
       "68     https://www.amazon.in/gp/slredirect/picassoRed...  \n",
       "69     https://www.amazon.in/gp/slredirect/picassoRed...  \n",
       "\n",
       "[69 rows x 8 columns]"
      ]
     },
     "execution_count": 340,
     "metadata": {},
     "output_type": "execute_result"
    }
   ],
   "source": [
    "df=pd.DataFrame()\n",
    "df['Index']=range(1,len(url)+1)\n",
    "df['BRAND']=brand\n",
    "df['MODEL']=product_brand\n",
    "df['RATING']=rating\n",
    "df['NUMBER_OF_RATINGS']=n_rat\n",
    "df['AVAILABLITY']=availablity\n",
    "df['DELVERY_PERIOD']=delivery\n",
    "df['DETAILS']=other\n",
    "df['PRODUCT_URL']=url\n",
    "df.set_index('Index',inplace=True)\n",
    "df"
   ]
  },
  {
   "cell_type": "code",
   "execution_count": 68,
   "metadata": {},
   "outputs": [],
   "source": [
    "import selenium\n",
    "from selenium import webdriver\n",
    "import os\n"
   ]
  },
  {
   "cell_type": "code",
   "execution_count": 69,
   "metadata": {},
   "outputs": [],
   "source": [
    "driver=webdriver.Chrome(r\"C:\\python\\chromedriver\")"
   ]
  },
  {
   "cell_type": "code",
   "execution_count": 70,
   "metadata": {},
   "outputs": [],
   "source": [
    "url=\"https://images.google.com/\"\n"
   ]
  },
  {
   "cell_type": "code",
   "execution_count": 71,
   "metadata": {},
   "outputs": [],
   "source": [
    "driver.get(url)"
   ]
  },
  {
   "cell_type": "code",
   "execution_count": 72,
   "metadata": {},
   "outputs": [],
   "source": [
    "driver.maximize_window()"
   ]
  },
  {
   "cell_type": "code",
   "execution_count": 73,
   "metadata": {},
   "outputs": [],
   "source": [
    "search_column=driver.find_element_by_xpath(\"//input[@class='gLFyf gsfi']\")\n"
   ]
  },
  {
   "cell_type": "code",
   "execution_count": 74,
   "metadata": {},
   "outputs": [],
   "source": [
    "search_column.send_keys(\"fruits\")"
   ]
  },
  {
   "cell_type": "code",
   "execution_count": 75,
   "metadata": {},
   "outputs": [],
   "source": [
    "search_btn=driver.find_element_by_xpath(\"//span[@class='z1asCe MZy1Rb']\")\n",
    "search_btn.click()"
   ]
  },
  {
   "cell_type": "code",
   "execution_count": 20,
   "metadata": {},
   "outputs": [],
   "source": [
    "#extracting images"
   ]
  },
  {
   "cell_type": "code",
   "execution_count": 90,
   "metadata": {},
   "outputs": [
    {
     "data": {
      "text/plain": [
       "300"
      ]
     },
     "execution_count": 90,
     "metadata": {},
     "output_type": "execute_result"
    }
   ],
   "source": [
    "img_url=[]\n",
    "while(len(img_url)<=100):\n",
    "    \n",
    "    img_url=driver.find_elements_by_xpath(\"//div[@class='bRMDJf islir']/img\")\n",
    "    driver.execute_script(\"window.scrollTo(0, document.body.scrollHeight)\")\n",
    "len(img_url)"
   ]
  },
  {
   "cell_type": "code",
   "execution_count": 92,
   "metadata": {},
   "outputs": [
    {
     "data": {
      "text/plain": [
       "300"
      ]
     },
     "execution_count": 92,
     "metadata": {},
     "output_type": "execute_result"
    }
   ],
   "source": [
    "img=[]\n",
    "for i in img_url:\n",
    "    img.append(i.get_attribute('src'))\n",
    "len(img)"
   ]
  },
  {
   "cell_type": "code",
   "execution_count": 78,
   "metadata": {},
   "outputs": [
    {
     "name": "stdout",
     "output_type": "stream",
     "text": [
      "Requirement already satisfied: wget in c:\\users\\hp\\anaconda3\\lib\\site-packages (3.2)\n"
     ]
    }
   ],
   "source": [
    "!pip install wget"
   ]
  },
  {
   "cell_type": "code",
   "execution_count": 79,
   "metadata": {},
   "outputs": [
    {
     "data": {
      "text/plain": [
       "'C:\\\\Users\\\\HP\\\\fruits'"
      ]
     },
     "execution_count": 79,
     "metadata": {},
     "output_type": "execute_result"
    }
   ],
   "source": [
    "#saving images to computer\n",
    "import os\n",
    "from selenium.webdriver.common.keys import Keys\n",
    "from selenium.webdriver.common.by import By\n",
    "import wget\n",
    "path=os.getcwd()\n",
    "path=os.path.join(path,\"fruits\")\n",
    "path\n"
   ]
  },
  {
   "cell_type": "code",
   "execution_count": 84,
   "metadata": {},
   "outputs": [],
   "source": [
    "#os.mkdir(path)\n",
    "#counter=0\n",
    "#for i in img:\n",
    "         \n",
    "    #save_as=os.path.join(path,'.jpg')\n",
    "    #os.mkdir(path)\n",
    "    #wget.download(i,save_as)\n",
    "    #counter=+1"
   ]
  },
  {
   "cell_type": "code",
   "execution_count": 93,
   "metadata": {},
   "outputs": [],
   "source": [
    "# question-3 incomplete"
   ]
  },
  {
   "cell_type": "markdown",
   "metadata": {},
   "source": [
    "Question-4"
   ]
  },
  {
   "cell_type": "code",
   "execution_count": 177,
   "metadata": {},
   "outputs": [],
   "source": [
    "import selenium\n",
    "from selenium import webdriver"
   ]
  },
  {
   "cell_type": "code",
   "execution_count": 178,
   "metadata": {},
   "outputs": [],
   "source": [
    "driver=webdriver.Chrome(r\"C:\\python\\chromedriver\")"
   ]
  },
  {
   "cell_type": "code",
   "execution_count": 179,
   "metadata": {},
   "outputs": [],
   "source": [
    "url=\"http://www.flipkart.com/\"\n",
    "driver.get(url)"
   ]
  },
  {
   "cell_type": "code",
   "execution_count": 180,
   "metadata": {},
   "outputs": [],
   "source": [
    "#logging in\n"
   ]
  },
  {
   "cell_type": "code",
   "execution_count": 181,
   "metadata": {},
   "outputs": [],
   "source": [
    "email_col=driver.find_element_by_xpath(\"//input[@class='_2IX_2- VJZDxU']\")"
   ]
  },
  {
   "cell_type": "code",
   "execution_count": 182,
   "metadata": {},
   "outputs": [],
   "source": [
    "email_col.send_keys(\"9625708656\")"
   ]
  },
  {
   "cell_type": "code",
   "execution_count": 183,
   "metadata": {},
   "outputs": [],
   "source": [
    "pass_col=driver.find_element_by_xpath(\"//input[@type='password']\")\n",
    "pass_col.send_keys(\"amother0\")"
   ]
  },
  {
   "cell_type": "code",
   "execution_count": 184,
   "metadata": {},
   "outputs": [],
   "source": [
    "login_btn=driver.find_element_by_xpath(\"//button[@class='_2KpZ6l _2HKlqd _3AWRsL']\")\n",
    "login_btn.click()"
   ]
  },
  {
   "cell_type": "code",
   "execution_count": 185,
   "metadata": {},
   "outputs": [],
   "source": [
    "driver.maximize_window()"
   ]
  },
  {
   "cell_type": "code",
   "execution_count": 186,
   "metadata": {},
   "outputs": [],
   "source": [
    "#searching for smartphones\n",
    "search_btn=driver.find_element_by_xpath(\"//input[@class='_3704LK']\")"
   ]
  },
  {
   "cell_type": "code",
   "execution_count": 187,
   "metadata": {},
   "outputs": [],
   "source": [
    "search_btn.send_keys(\"oppo\")"
   ]
  },
  {
   "cell_type": "code",
   "execution_count": 188,
   "metadata": {},
   "outputs": [],
   "source": [
    "search_click=driver.find_element_by_xpath(\"//button[@class='L0Z3Pu']\")\n",
    "search_click.click()"
   ]
  },
  {
   "cell_type": "code",
   "execution_count": 189,
   "metadata": {},
   "outputs": [
    {
     "data": {
      "text/plain": [
       "[<selenium.webdriver.remote.webelement.WebElement (session=\"e772fea69bd21ec992c3a78d858a14f7\", element=\"9226323a-15e3-4bfd-92b0-27d91fa23ed5\")>,\n",
       " <selenium.webdriver.remote.webelement.WebElement (session=\"e772fea69bd21ec992c3a78d858a14f7\", element=\"8d3afa2a-3e6c-452c-853f-1b19770daa0d\")>,\n",
       " <selenium.webdriver.remote.webelement.WebElement (session=\"e772fea69bd21ec992c3a78d858a14f7\", element=\"bb23baf9-683a-4ba6-acb6-623a79f29feb\")>,\n",
       " <selenium.webdriver.remote.webelement.WebElement (session=\"e772fea69bd21ec992c3a78d858a14f7\", element=\"ddc22dd7-2718-49a1-ab9a-23ea808ed501\")>,\n",
       " <selenium.webdriver.remote.webelement.WebElement (session=\"e772fea69bd21ec992c3a78d858a14f7\", element=\"851c4400-eca7-4214-b09c-a1b2fbf29a15\")>,\n",
       " <selenium.webdriver.remote.webelement.WebElement (session=\"e772fea69bd21ec992c3a78d858a14f7\", element=\"4843c658-2f07-4d60-b2a2-ee301b3124b8\")>,\n",
       " <selenium.webdriver.remote.webelement.WebElement (session=\"e772fea69bd21ec992c3a78d858a14f7\", element=\"5f11775f-0e78-479f-bb60-723535fe4eec\")>,\n",
       " <selenium.webdriver.remote.webelement.WebElement (session=\"e772fea69bd21ec992c3a78d858a14f7\", element=\"0b6735db-7020-4bf5-b3e3-e2f388acec40\")>,\n",
       " <selenium.webdriver.remote.webelement.WebElement (session=\"e772fea69bd21ec992c3a78d858a14f7\", element=\"adca34bd-e506-4f7d-b4cc-3d6e7d882eaa\")>,\n",
       " <selenium.webdriver.remote.webelement.WebElement (session=\"e772fea69bd21ec992c3a78d858a14f7\", element=\"1c641371-f225-491d-9213-83bc7318c800\")>,\n",
       " <selenium.webdriver.remote.webelement.WebElement (session=\"e772fea69bd21ec992c3a78d858a14f7\", element=\"71b0b3bf-b217-4abc-b9e0-933228c3fecd\")>,\n",
       " <selenium.webdriver.remote.webelement.WebElement (session=\"e772fea69bd21ec992c3a78d858a14f7\", element=\"e3f8655c-af15-4ad6-be58-4a5adbf7a6a2\")>,\n",
       " <selenium.webdriver.remote.webelement.WebElement (session=\"e772fea69bd21ec992c3a78d858a14f7\", element=\"e865cac3-b654-4869-a471-985158e69129\")>,\n",
       " <selenium.webdriver.remote.webelement.WebElement (session=\"e772fea69bd21ec992c3a78d858a14f7\", element=\"531febad-82f8-462d-b9df-77399485da4c\")>,\n",
       " <selenium.webdriver.remote.webelement.WebElement (session=\"e772fea69bd21ec992c3a78d858a14f7\", element=\"eadf40a8-c4a6-4816-a93c-978d87a76816\")>,\n",
       " <selenium.webdriver.remote.webelement.WebElement (session=\"e772fea69bd21ec992c3a78d858a14f7\", element=\"37818d51-cdbe-4aab-9564-3cfb47e28f24\")>,\n",
       " <selenium.webdriver.remote.webelement.WebElement (session=\"e772fea69bd21ec992c3a78d858a14f7\", element=\"3962cc8d-3ba3-4800-8895-13810c7d3213\")>,\n",
       " <selenium.webdriver.remote.webelement.WebElement (session=\"e772fea69bd21ec992c3a78d858a14f7\", element=\"0a92101c-6584-4f32-a038-8f7318a8134c\")>,\n",
       " <selenium.webdriver.remote.webelement.WebElement (session=\"e772fea69bd21ec992c3a78d858a14f7\", element=\"d08bf592-37cd-4bd3-acda-d478ffee6622\")>,\n",
       " <selenium.webdriver.remote.webelement.WebElement (session=\"e772fea69bd21ec992c3a78d858a14f7\", element=\"ea6ec6dd-6a47-4d93-a12d-e39bf9f01761\")>,\n",
       " <selenium.webdriver.remote.webelement.WebElement (session=\"e772fea69bd21ec992c3a78d858a14f7\", element=\"234ef033-a207-4ab2-84e1-b4f62dd071ef\")>,\n",
       " <selenium.webdriver.remote.webelement.WebElement (session=\"e772fea69bd21ec992c3a78d858a14f7\", element=\"b0fb70a6-c88c-48d7-a6b4-af516cdb7ff5\")>,\n",
       " <selenium.webdriver.remote.webelement.WebElement (session=\"e772fea69bd21ec992c3a78d858a14f7\", element=\"0f6080dd-6def-40f4-b048-e357c16a1ca8\")>,\n",
       " <selenium.webdriver.remote.webelement.WebElement (session=\"e772fea69bd21ec992c3a78d858a14f7\", element=\"2311b3d2-3c0f-478b-9f5a-71a74dedb006\")>]"
      ]
     },
     "execution_count": 189,
     "metadata": {},
     "output_type": "execute_result"
    }
   ],
   "source": [
    "#scraping product_urls\n",
    "url=driver.find_elements_by_xpath(\"//a[@class='_1fQZEK']\")\n",
    "url"
   ]
  },
  {
   "cell_type": "code",
   "execution_count": 190,
   "metadata": {},
   "outputs": [
    {
     "data": {
      "text/plain": [
       "24"
      ]
     },
     "execution_count": 190,
     "metadata": {},
     "output_type": "execute_result"
    }
   ],
   "source": [
    "urls=[]\n",
    "for i in url:\n",
    "    urls.append(i.get_attribute('href'))\n",
    "len(urls)"
   ]
  },
  {
   "cell_type": "code",
   "execution_count": 191,
   "metadata": {},
   "outputs": [],
   "source": [
    "#for scraping lists\n",
    "def scrape_list(xpath):\n",
    "    \n",
    "    list=[]\n",
    "    element=driver.find_elements_by_xpath(xpath)\n",
    "    #this command will keep scrolling down until the last element by the xpath is located\n",
    "   # driver.execute_script(\"arguments[0].scrollIntoView();\",element[(len(element))-1])\n",
    "    for i in element:\n",
    "        list.append(i.text)\n",
    "        \n",
    "    return list"
   ]
  },
  {
   "cell_type": "code",
   "execution_count": 192,
   "metadata": {},
   "outputs": [],
   "source": [
    "def scrape_item(xpath):\n",
    "    element=driver.find_element_by_xpath(xpath)\n",
    "    return element.text"
   ]
  },
  {
   "cell_type": "code",
   "execution_count": 193,
   "metadata": {},
   "outputs": [],
   "source": [
    "def click_button(xpath):\n",
    "    element=driver.find_element_by_xpath(xpath)\n",
    "    \n",
    "    element.click()\n",
    "    return element"
   ]
  },
  {
   "cell_type": "code",
   "execution_count": 194,
   "metadata": {},
   "outputs": [],
   "source": [
    "def scrape_text(web_el):\n",
    "    return web_el.text\n",
    "    "
   ]
  },
  {
   "cell_type": "code",
   "execution_count": 195,
   "metadata": {},
   "outputs": [],
   "source": [
    "def scrape_element_list1():\n",
    "     el1=scrape_list(\"//td[@class='_1hKmbr col col-3-12']\")\n",
    "     \n",
    "     return el1\n",
    "    "
   ]
  },
  {
   "cell_type": "code",
   "execution_count": 196,
   "metadata": {},
   "outputs": [],
   "source": [
    "def scrape_element_list2():\n",
    "     \n",
    "     el2=scrape_list(\"//li[@class='_21lJbe']\")\n",
    "     return el2\n",
    "    "
   ]
  },
  {
   "cell_type": "markdown",
   "metadata": {},
   "source": [
    "DEFINING FUNCTIONS TO SCRAPE DATA"
   ]
  },
  {
   "cell_type": "code",
   "execution_count": 197,
   "metadata": {},
   "outputs": [],
   "source": [
    "def scrape_colour(el1,el2):\n",
    "    text2=\"\"\n",
    "   \n",
    "    for i in range(0,len(el1)):\n",
    "        text1=(el1[i])\n",
    "        if(text1==\"Color\"):\n",
    "            text2=(el2[i])\n",
    "    if (text2==''):\n",
    "        text2=\"--\"\n",
    "    return text2\n",
    "    "
   ]
  },
  {
   "cell_type": "code",
   "execution_count": 198,
   "metadata": {},
   "outputs": [],
   "source": [
    "def scrape_model(el1,el2):\n",
    "    \n",
    "    \n",
    "    \n",
    "     text2=\"\"\n",
    "     for i in range(0,len(el1)):\n",
    "        text1=(el1[i])\n",
    "        if(text1==\"Model Name\"):\n",
    "            text2=(el2[i])\n",
    "     if (text2==''):\n",
    "        \n",
    "        text2=\"--\"\n",
    "        \n",
    "     return text2\n",
    "\n",
    "    \n",
    "    "
   ]
  },
  {
   "cell_type": "code",
   "execution_count": 199,
   "metadata": {},
   "outputs": [],
   "source": [
    "def scrape_display(el1,el2):\n",
    "    text2=\"\"\n",
    "    \n",
    "    for i in range(0,len(el1)):\n",
    "        text1=(el1[i])\n",
    "        if(text1==\"Display Size\"):\n",
    "            text2=(el2[i])\n",
    "    if (text2==''):\n",
    "        \n",
    "        \n",
    "        text2=\"--\"\n",
    "        \n",
    "    \n",
    "    \n",
    "    return text2\n",
    "    \n",
    "    \n",
    "    "
   ]
  },
  {
   "cell_type": "code",
   "execution_count": 200,
   "metadata": {},
   "outputs": [],
   "source": [
    "def scrape_res(el1,el2):\n",
    "    text2=\"\"\n",
    "    for i in range(0,len(el1)):\n",
    "        text1=(el1[i])\n",
    "        if(text1==\"Resolution\"):\n",
    "            text2=(el2[i])\n",
    "    if (text2==''):\n",
    "        text2=\"--\"\n",
    "    return text2\n",
    "    \n",
    "    "
   ]
  },
  {
   "cell_type": "code",
   "execution_count": 201,
   "metadata": {},
   "outputs": [],
   "source": [
    "def scrape_processor_type(el1,el2):\n",
    "    text2=\"\"\n",
    "    for i in range(0,len(el1)):\n",
    "        text1=(el1[i])\n",
    "        if(text1==\"Processor Type\"):\n",
    "            text2=(el2[i])\n",
    "    if (text2==''):\n",
    "        text2=\"--\"\n",
    "    return text2\n",
    "    "
   ]
  },
  {
   "cell_type": "code",
   "execution_count": 202,
   "metadata": {},
   "outputs": [],
   "source": [
    "def scrape_processor_core(el1,el2):\n",
    "    text2=\"--\"\n",
    "    for i in range(0,len(el1)):\n",
    "        text1=(el1[i])\n",
    "        if(text1==\"Processor Core\"):\n",
    "            text2=(el2[i])\n",
    "    return text2\n",
    "    "
   ]
  },
  {
   "cell_type": "code",
   "execution_count": 203,
   "metadata": {},
   "outputs": [],
   "source": [
    "def scrape_rom(el1,el2):\n",
    "    text2=\"\"\n",
    "    for i in range(0,len(el1)):\n",
    "        \n",
    "        text1=(el1[i])\n",
    "        if(text1==\"Internal Storage\"):\n",
    "            \n",
    "            text2=(el2[i])\n",
    "    if (text2==''):\n",
    "        text2=\"--\"\n",
    "    return text2\n",
    "    \n",
    "    "
   ]
  },
  {
   "cell_type": "code",
   "execution_count": 204,
   "metadata": {},
   "outputs": [],
   "source": [
    "def scrape_ram(el1,el2):\n",
    "    text2=\"\"\n",
    "    for i in range(0,len(el1)):\n",
    "        text1=(el1[i])\n",
    "        if(text1==\"RAM\"):\n",
    "            text2=(el2[i])\n",
    "    if (text2==''):\n",
    "        text2=\"--\"\n",
    "    \n",
    "    return text2\n",
    "    \n",
    "    "
   ]
  },
  {
   "cell_type": "code",
   "execution_count": 205,
   "metadata": {},
   "outputs": [],
   "source": [
    "def scrape_prim_cam(el1,el2):\n",
    "    text2=\"\"\n",
    "    for i in range(0,len(el1)):\n",
    "        text1=(el1[i])\n",
    "        if(text1==\"Primary Camera\"):\n",
    "            text2=(el2[i])\n",
    "    if (text2==''):\n",
    "        text2=\"--\"\n",
    "            \n",
    "    return text2\n",
    "    \n",
    "    "
   ]
  },
  {
   "cell_type": "code",
   "execution_count": 206,
   "metadata": {},
   "outputs": [],
   "source": [
    "def scrape_sec_cam(el1,el2):\n",
    "    text2=\"\"\n",
    "    for i in range(0,len(el1)):\n",
    "        \n",
    "        text1=(el1[i])\n",
    "        if(text1==\"Secondary Camera\"):\n",
    "            text2=(el2[i])\n",
    "    if (text2==''):\n",
    "        \n",
    "        text2=\"--\"\n",
    "            \n",
    "    return text2\n",
    "    "
   ]
  },
  {
   "cell_type": "code",
   "execution_count": 207,
   "metadata": {},
   "outputs": [],
   "source": [
    "def scrape_battery(el1,el2):\n",
    "    text2=\"\"\n",
    "    \n",
    "    for i in range(0,len(el1)):\n",
    "        \n",
    "        text1=(el1[i])\n",
    "        if(text1==\"Battery Capacity\"):\n",
    "            \n",
    "            text2=(el2[i])\n",
    "    if (text2==''):\n",
    "        text2=\"--\"\n",
    "    \n",
    "    return text2\n",
    "    \n",
    "    "
   ]
  },
  {
   "cell_type": "code",
   "execution_count": 208,
   "metadata": {},
   "outputs": [],
   "source": [
    "def scrape_price(xpath):\n",
    "    el=scrape_item(xpath)\n",
    "    #txt=scrape_text(el)\n",
    "    return el"
   ]
  },
  {
   "cell_type": "code",
   "execution_count": 209,
   "metadata": {},
   "outputs": [],
   "source": [
    "def scrape_brand(xpath):\n",
    "    web_el=scrape_item(xpath)\n",
    "    \n",
    "    return web_el\n",
    "    "
   ]
  },
  {
   "cell_type": "code",
   "execution_count": 210,
   "metadata": {},
   "outputs": [],
   "source": [
    "import time"
   ]
  },
  {
   "cell_type": "code",
   "execution_count": 211,
   "metadata": {},
   "outputs": [
    {
     "data": {
      "text/plain": [
       "24"
      ]
     },
     "execution_count": 211,
     "metadata": {},
     "output_type": "execute_result"
    }
   ],
   "source": [
    "brand=[]\n",
    "brand_phone=[]\n",
    "phone_name=[]\n",
    "colour=[]\n",
    "ram=[]\n",
    "storage=[]\n",
    "p_camera=[]\n",
    "s_camera=[]\n",
    "dis_size=[]\n",
    "resolution=[]\n",
    "processor=[]\n",
    "proc_core=[]\n",
    "battery=[]\n",
    "price=[]\n",
    "for i in urls:\n",
    "    driver.get(i)\n",
    "    time.sleep(3)\n",
    "    brand_phone.append(scrape_item(\"//span[@class='B_NuCI']\"))\n",
    "    price.append(scrape_item(\"//div[@class='_30jeq3 _16Jk6d']\"))\n",
    "    clk= click_button(\"//button[@class='_2KpZ6l _1FH0tX']\")\n",
    "    element1=scrape_element_list1()\n",
    "    element2=scrape_element_list2()\n",
    "    \n",
    "    time.sleep(2)\n",
    "    phone_name.append(scrape_model(element1,element2))\n",
    "    colour.append(scrape_colour(element1,element2))\n",
    "    ram.append(scrape_ram(element1,element2))\n",
    "    storage.append(scrape_rom(element1,element2))\n",
    "    p_camera.append(scrape_prim_cam(element1,element2))\n",
    "    s_camera.append(scrape_sec_cam(element1,element2))\n",
    "    dis_size.append(scrape_display(element1,element2))\n",
    "    resolution.append(scrape_res(element1,element2))\n",
    "    processor.append(scrape_processor_type(element1,element2))\n",
    "    battery.append(scrape_battery(element1,element2))\n",
    "    proc_core.append(scrape_processor_core(element1,element2))\n",
    "    \n",
    "len(brand_phone)\n",
    "                       \n",
    "    \n",
    "    \n",
    "    \n",
    "    "
   ]
  },
  {
   "cell_type": "code",
   "execution_count": 212,
   "metadata": {},
   "outputs": [
    {
     "data": {
      "text/plain": [
       "[24, 24, 24, 24, 24, 24, 24, 24, 24, 24, 24, 24, 24, 24]"
      ]
     },
     "execution_count": 212,
     "metadata": {},
     "output_type": "execute_result"
    }
   ],
   "source": [
    "scraped_items_length=[len(brand_phone),len(phone_name),len(colour),len(ram),len(storage),len(p_camera),len(s_camera),len(dis_size),len(resolution),len(processor),len(battery),len(proc_core),len(price),len(urls)]\n",
    "scraped_items_length"
   ]
  },
  {
   "cell_type": "code",
   "execution_count": 213,
   "metadata": {},
   "outputs": [
    {
     "data": {
      "text/plain": [
       "['OPPO',\n",
       " 'OPPO',\n",
       " 'OPPO',\n",
       " 'OPPO',\n",
       " 'OPPO',\n",
       " 'OPPO',\n",
       " 'OPPO',\n",
       " 'OPPO',\n",
       " 'OPPO',\n",
       " 'OPPO',\n",
       " 'OPPO',\n",
       " 'OPPO',\n",
       " 'OPPO',\n",
       " 'OPPO',\n",
       " 'OPPO',\n",
       " 'OPPO',\n",
       " 'OPPO',\n",
       " 'OPPO',\n",
       " 'OPPO',\n",
       " 'OPPO',\n",
       " 'OPPO',\n",
       " 'OPPO',\n",
       " 'OPPO',\n",
       " 'OPPO']"
      ]
     },
     "execution_count": 213,
     "metadata": {},
     "output_type": "execute_result"
    }
   ],
   "source": [
    "#filtering brand name from product_title\n",
    "brand=[]\n",
    "char=\"\"\n",
    "for i in brand_phone:\n",
    "    char=\"\"\n",
    "    for j in range(0,len(i)):\n",
    "        if(i[j]!=' '):\n",
    "            char=char+i[j]\n",
    "        else:\n",
    "            break\n",
    "    brand.append(char)\n",
    "brand\n",
    "    "
   ]
  },
  {
   "cell_type": "code",
   "execution_count": 219,
   "metadata": {},
   "outputs": [
    {
     "data": {
      "text/html": [
       "<div>\n",
       "<style scoped>\n",
       "    .dataframe tbody tr th:only-of-type {\n",
       "        vertical-align: middle;\n",
       "    }\n",
       "\n",
       "    .dataframe tbody tr th {\n",
       "        vertical-align: top;\n",
       "    }\n",
       "\n",
       "    .dataframe thead th {\n",
       "        text-align: right;\n",
       "    }\n",
       "</style>\n",
       "<table border=\"1\" class=\"dataframe\">\n",
       "  <thead>\n",
       "    <tr style=\"text-align: right;\">\n",
       "      <th></th>\n",
       "      <th>BRAND</th>\n",
       "      <th>MODEL</th>\n",
       "      <th>PROCESSOR</th>\n",
       "      <th>PROCESSOR_CORE</th>\n",
       "      <th>PRICE</th>\n",
       "      <th>COLOUR</th>\n",
       "      <th>STORAGE</th>\n",
       "      <th>RAM</th>\n",
       "      <th>PRIMARY_CAMERA</th>\n",
       "      <th>SECONDARY_CAMERA</th>\n",
       "      <th>DISPLAY</th>\n",
       "      <th>RESOLUTION</th>\n",
       "      <th>BATTERY</th>\n",
       "      <th>PRODUCT_URL</th>\n",
       "    </tr>\n",
       "    <tr>\n",
       "      <th>INDEX</th>\n",
       "      <th></th>\n",
       "      <th></th>\n",
       "      <th></th>\n",
       "      <th></th>\n",
       "      <th></th>\n",
       "      <th></th>\n",
       "      <th></th>\n",
       "      <th></th>\n",
       "      <th></th>\n",
       "      <th></th>\n",
       "      <th></th>\n",
       "      <th></th>\n",
       "      <th></th>\n",
       "      <th></th>\n",
       "    </tr>\n",
       "  </thead>\n",
       "  <tbody>\n",
       "    <tr>\n",
       "      <th>1</th>\n",
       "      <td>OPPO</td>\n",
       "      <td>A53</td>\n",
       "      <td>Qualcomm Snapdragon 460</td>\n",
       "      <td>Octa Core</td>\n",
       "      <td>₹11,990</td>\n",
       "      <td>Moonlight Black</td>\n",
       "      <td>64 GB</td>\n",
       "      <td>4 GB</td>\n",
       "      <td>13MP + 2MP + 2MP</td>\n",
       "      <td>16MP Front Camera</td>\n",
       "      <td>16.51 cm (6.5 inch)</td>\n",
       "      <td>1600 x 720 Pixels</td>\n",
       "      <td>5000 mAh</td>\n",
       "      <td>https://www.flipkart.com/oppo-a53-moonlight-bl...</td>\n",
       "    </tr>\n",
       "    <tr>\n",
       "      <th>2</th>\n",
       "      <td>OPPO</td>\n",
       "      <td>A12</td>\n",
       "      <td>MediaTek Helio P35</td>\n",
       "      <td>Octa Core</td>\n",
       "      <td>₹10,490</td>\n",
       "      <td>Deep Blue</td>\n",
       "      <td>64 GB</td>\n",
       "      <td>4 GB</td>\n",
       "      <td>13MP + 2MP</td>\n",
       "      <td>5MP Front Camera</td>\n",
       "      <td>15.8 cm (6.22 inch)</td>\n",
       "      <td>1520 x 720 Pixels</td>\n",
       "      <td>4230 mAh</td>\n",
       "      <td>https://www.flipkart.com/oppo-a12-deep-blue-64...</td>\n",
       "    </tr>\n",
       "    <tr>\n",
       "      <th>3</th>\n",
       "      <td>OPPO</td>\n",
       "      <td>A12</td>\n",
       "      <td>MediaTek Helio P35</td>\n",
       "      <td>Octa Core</td>\n",
       "      <td>₹9,490</td>\n",
       "      <td>Deep Blue</td>\n",
       "      <td>32 GB</td>\n",
       "      <td>3 GB</td>\n",
       "      <td>13MP + 2MP</td>\n",
       "      <td>5MP Front Camera</td>\n",
       "      <td>15.8 cm (6.22 inch)</td>\n",
       "      <td>1520 x 720 Pixels</td>\n",
       "      <td>4230 mAh</td>\n",
       "      <td>https://www.flipkart.com/oppo-a12-deep-blue-32...</td>\n",
       "    </tr>\n",
       "    <tr>\n",
       "      <th>4</th>\n",
       "      <td>OPPO</td>\n",
       "      <td>A12</td>\n",
       "      <td>MediaTek Helio P35</td>\n",
       "      <td>Octa Core</td>\n",
       "      <td>₹9,490</td>\n",
       "      <td>Blue</td>\n",
       "      <td>32 GB</td>\n",
       "      <td>3 GB</td>\n",
       "      <td>13MP + 2MP</td>\n",
       "      <td>5MP Front Camera</td>\n",
       "      <td>15.8 cm (6.22 inch)</td>\n",
       "      <td>1520 x 720 Pixels</td>\n",
       "      <td>4230 mAh</td>\n",
       "      <td>https://www.flipkart.com/oppo-a12-blue-32-gb/p...</td>\n",
       "    </tr>\n",
       "    <tr>\n",
       "      <th>5</th>\n",
       "      <td>OPPO</td>\n",
       "      <td>A12</td>\n",
       "      <td>MediaTek Helio P35</td>\n",
       "      <td>Octa Core</td>\n",
       "      <td>₹10,490</td>\n",
       "      <td>Flowing Silver</td>\n",
       "      <td>64 GB</td>\n",
       "      <td>4 GB</td>\n",
       "      <td>13MP + 2MP</td>\n",
       "      <td>5MP Front Camera</td>\n",
       "      <td>15.8 cm (6.22 inch)</td>\n",
       "      <td>1520 x 720 Pixels</td>\n",
       "      <td>4230 mAh</td>\n",
       "      <td>https://www.flipkart.com/oppo-a12-flowing-silv...</td>\n",
       "    </tr>\n",
       "    <tr>\n",
       "      <th>6</th>\n",
       "      <td>OPPO</td>\n",
       "      <td>A12</td>\n",
       "      <td>MediaTek Helio P35</td>\n",
       "      <td>Octa Core</td>\n",
       "      <td>₹9,490</td>\n",
       "      <td>Flowing Silver</td>\n",
       "      <td>32 GB</td>\n",
       "      <td>3 GB</td>\n",
       "      <td>13MP + 2MP</td>\n",
       "      <td>5MP Front Camera</td>\n",
       "      <td>15.8 cm (6.22 inch)</td>\n",
       "      <td>1520 x 720 Pixels</td>\n",
       "      <td>4230 mAh</td>\n",
       "      <td>https://www.flipkart.com/oppo-a12-flowing-silv...</td>\n",
       "    </tr>\n",
       "    <tr>\n",
       "      <th>7</th>\n",
       "      <td>OPPO</td>\n",
       "      <td>A53</td>\n",
       "      <td>Qualcomm Snapdragon 460</td>\n",
       "      <td>Octa Core</td>\n",
       "      <td>₹12,799</td>\n",
       "      <td>Mint Cream</td>\n",
       "      <td>64 GB</td>\n",
       "      <td>4 GB</td>\n",
       "      <td>13MP + 2MP + 2MP</td>\n",
       "      <td>16MP Front Camera</td>\n",
       "      <td>16.51 cm (6.5 inch)</td>\n",
       "      <td>1600 x 720 Pixels</td>\n",
       "      <td>5000 mAh</td>\n",
       "      <td>https://www.flipkart.com/oppo-a53-mint-cream-6...</td>\n",
       "    </tr>\n",
       "    <tr>\n",
       "      <th>8</th>\n",
       "      <td>OPPO</td>\n",
       "      <td>A53</td>\n",
       "      <td>Qualcomm Snapdragon 460</td>\n",
       "      <td>Octa Core</td>\n",
       "      <td>₹13,990</td>\n",
       "      <td>Moonlight Black</td>\n",
       "      <td>128 GB</td>\n",
       "      <td>6 GB</td>\n",
       "      <td>13MP + 2MP + 2MP</td>\n",
       "      <td>16MP Front Camera</td>\n",
       "      <td>16.51 cm (6.5 inch)</td>\n",
       "      <td>1600 x 720 Pixels</td>\n",
       "      <td>5000 mAh</td>\n",
       "      <td>https://www.flipkart.com/oppo-a53-moonlight-bl...</td>\n",
       "    </tr>\n",
       "    <tr>\n",
       "      <th>9</th>\n",
       "      <td>OPPO</td>\n",
       "      <td>A53</td>\n",
       "      <td>Qualcomm Snapdragon 460</td>\n",
       "      <td>Octa Core</td>\n",
       "      <td>₹13,990</td>\n",
       "      <td>Mint Cream</td>\n",
       "      <td>128 GB</td>\n",
       "      <td>6 GB</td>\n",
       "      <td>13MP + 2MP + 2MP</td>\n",
       "      <td>16MP Front Camera</td>\n",
       "      <td>16.51 cm (6.5 inch)</td>\n",
       "      <td>1600 x 720 Pixels</td>\n",
       "      <td>5000 mAh</td>\n",
       "      <td>https://www.flipkart.com/oppo-a53-mint-cream-1...</td>\n",
       "    </tr>\n",
       "    <tr>\n",
       "      <th>10</th>\n",
       "      <td>OPPO</td>\n",
       "      <td>A53</td>\n",
       "      <td>Qualcomm Snapdragon 460</td>\n",
       "      <td>Octa Core</td>\n",
       "      <td>₹13,989</td>\n",
       "      <td>Electric Black</td>\n",
       "      <td>64 GB</td>\n",
       "      <td>4 GB</td>\n",
       "      <td>13MP + 2MP + 2MP</td>\n",
       "      <td>16MP Front Camera</td>\n",
       "      <td>16.51 cm (6.5 inch)</td>\n",
       "      <td>1600 x 720 Pixels</td>\n",
       "      <td>5000 mAh</td>\n",
       "      <td>https://www.flipkart.com/oppo-a53-electric-bla...</td>\n",
       "    </tr>\n",
       "    <tr>\n",
       "      <th>11</th>\n",
       "      <td>OPPO</td>\n",
       "      <td>A53s 5G</td>\n",
       "      <td>MediaTek Dimensity 700</td>\n",
       "      <td>Octa Core</td>\n",
       "      <td>₹15,990</td>\n",
       "      <td>Ink Black</td>\n",
       "      <td>128 GB</td>\n",
       "      <td>6 GB</td>\n",
       "      <td>13MP + 2MP + 2MP</td>\n",
       "      <td>8MP Front Camera</td>\n",
       "      <td>16.56 cm (6.52 inch)</td>\n",
       "      <td>1600 x 720 Pixels</td>\n",
       "      <td>5000 mAh</td>\n",
       "      <td>https://www.flipkart.com/oppo-a53s-5g-ink-blac...</td>\n",
       "    </tr>\n",
       "    <tr>\n",
       "      <th>12</th>\n",
       "      <td>OPPO</td>\n",
       "      <td>A53s 5G</td>\n",
       "      <td>MediaTek Dimensity 700</td>\n",
       "      <td>Octa Core</td>\n",
       "      <td>₹15,990</td>\n",
       "      <td>Crystal Blue</td>\n",
       "      <td>128 GB</td>\n",
       "      <td>6 GB</td>\n",
       "      <td>13MP + 2MP + 2MP</td>\n",
       "      <td>8MP Front Camera</td>\n",
       "      <td>16.56 cm (6.52 inch)</td>\n",
       "      <td>1600 x 720 Pixels</td>\n",
       "      <td>5000 mAh</td>\n",
       "      <td>https://www.flipkart.com/oppo-a53s-5g-crystal-...</td>\n",
       "    </tr>\n",
       "    <tr>\n",
       "      <th>13</th>\n",
       "      <td>OPPO</td>\n",
       "      <td>A33</td>\n",
       "      <td>Qualcomm Snapdragon 460</td>\n",
       "      <td>Octa Core</td>\n",
       "      <td>₹10,490</td>\n",
       "      <td>Moonlight Black</td>\n",
       "      <td>32 GB</td>\n",
       "      <td>3 GB</td>\n",
       "      <td>13MP + 2MP + 2MP</td>\n",
       "      <td>8MP Front Camera</td>\n",
       "      <td>16.51 cm (6.5 inch)</td>\n",
       "      <td>1600 x 720 Pixels</td>\n",
       "      <td>5000 mAh</td>\n",
       "      <td>https://www.flipkart.com/oppo-a33-moonlight-bl...</td>\n",
       "    </tr>\n",
       "    <tr>\n",
       "      <th>14</th>\n",
       "      <td>OPPO</td>\n",
       "      <td>A53s 5G</td>\n",
       "      <td>MediaTek Dimensity 700</td>\n",
       "      <td>Octa Core</td>\n",
       "      <td>₹17,990</td>\n",
       "      <td>Crystal Blue</td>\n",
       "      <td>128 GB</td>\n",
       "      <td>8 GB</td>\n",
       "      <td>13MP + 2MP + 2MP</td>\n",
       "      <td>8MP Front Camera</td>\n",
       "      <td>16.56 cm (6.52 inch)</td>\n",
       "      <td>1600 x 720 Pixels</td>\n",
       "      <td>5000 mAh</td>\n",
       "      <td>https://www.flipkart.com/oppo-a53s-5g-crystal-...</td>\n",
       "    </tr>\n",
       "    <tr>\n",
       "      <th>15</th>\n",
       "      <td>OPPO</td>\n",
       "      <td>A53s 5G</td>\n",
       "      <td>MediaTek Dimensity 700</td>\n",
       "      <td>Octa Core</td>\n",
       "      <td>₹17,990</td>\n",
       "      <td>Ink Black</td>\n",
       "      <td>128 GB</td>\n",
       "      <td>8 GB</td>\n",
       "      <td>13MP + 2MP + 2MP</td>\n",
       "      <td>8MP Front Camera</td>\n",
       "      <td>16.56 cm (6.52 inch)</td>\n",
       "      <td>1600 x 720 Pixels</td>\n",
       "      <td>5000 mAh</td>\n",
       "      <td>https://www.flipkart.com/oppo-a53s-5g-ink-blac...</td>\n",
       "    </tr>\n",
       "    <tr>\n",
       "      <th>16</th>\n",
       "      <td>OPPO</td>\n",
       "      <td>F17 Pro</td>\n",
       "      <td>MediaTek Helio P95</td>\n",
       "      <td>Octa Core</td>\n",
       "      <td>₹19,990</td>\n",
       "      <td>Matte Black</td>\n",
       "      <td>128 GB</td>\n",
       "      <td>8 GB</td>\n",
       "      <td>48MP + 8MP + 2MP + 2MP</td>\n",
       "      <td>16MP + 2MP Dual Front Camera</td>\n",
       "      <td>16.33 cm (6.43 inch)</td>\n",
       "      <td>2400 x 1080 Pixels</td>\n",
       "      <td>4015 mAh</td>\n",
       "      <td>https://www.flipkart.com/oppo-f17-pro-matte-bl...</td>\n",
       "    </tr>\n",
       "    <tr>\n",
       "      <th>17</th>\n",
       "      <td>OPPO</td>\n",
       "      <td>A31</td>\n",
       "      <td>MediaTek Helio P35 Octa Core</td>\n",
       "      <td>Octa Core</td>\n",
       "      <td>₹11,650</td>\n",
       "      <td>Mystery Black</td>\n",
       "      <td>64 GB</td>\n",
       "      <td>4 GB</td>\n",
       "      <td>12MP + 2MP + 2MP</td>\n",
       "      <td>8MP Front Camera</td>\n",
       "      <td>16.51 cm (6.5 inch)</td>\n",
       "      <td>1600 x 720 Pixels</td>\n",
       "      <td>4230 mAh</td>\n",
       "      <td>https://www.flipkart.com/oppo-a31-mystery-blac...</td>\n",
       "    </tr>\n",
       "    <tr>\n",
       "      <th>18</th>\n",
       "      <td>OPPO</td>\n",
       "      <td>A53</td>\n",
       "      <td>Qualcomm Snapdragon 460</td>\n",
       "      <td>Octa Core</td>\n",
       "      <td>₹15,999</td>\n",
       "      <td>Electric Black</td>\n",
       "      <td>128 GB</td>\n",
       "      <td>6 GB</td>\n",
       "      <td>13MP + 2MP + 2MP</td>\n",
       "      <td>16MP Front Camera</td>\n",
       "      <td>16.51 cm (6.5 inch)</td>\n",
       "      <td>1600 x 720 Pixels</td>\n",
       "      <td>5000 mAh</td>\n",
       "      <td>https://www.flipkart.com/oppo-a53-electric-bla...</td>\n",
       "    </tr>\n",
       "    <tr>\n",
       "      <th>19</th>\n",
       "      <td>OPPO</td>\n",
       "      <td>A53</td>\n",
       "      <td>Qualcomm Snapdragon 460</td>\n",
       "      <td>Octa Core</td>\n",
       "      <td>₹15,999</td>\n",
       "      <td>Fairy White</td>\n",
       "      <td>128 GB</td>\n",
       "      <td>6 GB</td>\n",
       "      <td>13MP + 2MP + 2MP</td>\n",
       "      <td>16MP Front Camera</td>\n",
       "      <td>16.51 cm (6.5 inch)</td>\n",
       "      <td>1600 x 720 Pixels</td>\n",
       "      <td>5000 mAh</td>\n",
       "      <td>https://www.flipkart.com/oppo-a53-fairy-white-...</td>\n",
       "    </tr>\n",
       "    <tr>\n",
       "      <th>20</th>\n",
       "      <td>OPPO</td>\n",
       "      <td>F17 Pro</td>\n",
       "      <td>MediaTek Helio P95</td>\n",
       "      <td>Octa Core</td>\n",
       "      <td>₹19,990</td>\n",
       "      <td>Magic Blue</td>\n",
       "      <td>128 GB</td>\n",
       "      <td>8 GB</td>\n",
       "      <td>48MP + 8MP + 2MP + 2MP</td>\n",
       "      <td>16MP + 2MP Dual Front Camera</td>\n",
       "      <td>16.33 cm (6.43 inch)</td>\n",
       "      <td>2400 x 1080 Pixels</td>\n",
       "      <td>4015 mAh</td>\n",
       "      <td>https://www.flipkart.com/oppo-f17-pro-magic-bl...</td>\n",
       "    </tr>\n",
       "    <tr>\n",
       "      <th>21</th>\n",
       "      <td>OPPO</td>\n",
       "      <td>F17 Pro</td>\n",
       "      <td>MediaTek Helio P95</td>\n",
       "      <td>Octa Core</td>\n",
       "      <td>₹19,990</td>\n",
       "      <td>Metallic White</td>\n",
       "      <td>128 GB</td>\n",
       "      <td>8 GB</td>\n",
       "      <td>48MP + 8MP + 2MP + 2MP</td>\n",
       "      <td>16MP + 2MP Dual Front Camera</td>\n",
       "      <td>16.33 cm (6.43 inch)</td>\n",
       "      <td>2400 x 1080 Pixels</td>\n",
       "      <td>4015 mAh</td>\n",
       "      <td>https://www.flipkart.com/oppo-f17-pro-metallic...</td>\n",
       "    </tr>\n",
       "    <tr>\n",
       "      <th>22</th>\n",
       "      <td>OPPO</td>\n",
       "      <td>A31</td>\n",
       "      <td>MediaTek Helio P35 Octa Core</td>\n",
       "      <td>Octa Core</td>\n",
       "      <td>₹11,990</td>\n",
       "      <td>Lake Green</td>\n",
       "      <td>64 GB</td>\n",
       "      <td>4 GB</td>\n",
       "      <td>12MP + 2MP + 2MP</td>\n",
       "      <td>8MP Front Camera</td>\n",
       "      <td>16.51 cm (6.5 inch)</td>\n",
       "      <td>1600 x 720 Pixels</td>\n",
       "      <td>4230 mAh</td>\n",
       "      <td>https://www.flipkart.com/oppo-a31-lake-green-6...</td>\n",
       "    </tr>\n",
       "    <tr>\n",
       "      <th>23</th>\n",
       "      <td>OPPO</td>\n",
       "      <td>A54</td>\n",
       "      <td>MediaTek Helio P35</td>\n",
       "      <td>Octa Core</td>\n",
       "      <td>₹14,990</td>\n",
       "      <td>Moonlight Gold</td>\n",
       "      <td>64 GB</td>\n",
       "      <td>4 GB</td>\n",
       "      <td>13MP + 2MP + 2MP</td>\n",
       "      <td>16MP Front Camera</td>\n",
       "      <td>16.54 cm (6.51 inch)</td>\n",
       "      <td>1600 x 720 Pixels</td>\n",
       "      <td>5000 mAh</td>\n",
       "      <td>https://www.flipkart.com/oppo-a54-moonlight-go...</td>\n",
       "    </tr>\n",
       "    <tr>\n",
       "      <th>24</th>\n",
       "      <td>OPPO</td>\n",
       "      <td>A74 5G</td>\n",
       "      <td>--</td>\n",
       "      <td>Octa Core</td>\n",
       "      <td>₹18,850</td>\n",
       "      <td>Fantastic Purple</td>\n",
       "      <td>128 GB</td>\n",
       "      <td>6 GB</td>\n",
       "      <td>48MP + 48MP + 2MP</td>\n",
       "      <td>8MP Front Camera</td>\n",
       "      <td>16.48 cm (6.49 inch)</td>\n",
       "      <td>2400*1080$$pixels</td>\n",
       "      <td>5000 mAh</td>\n",
       "      <td>https://www.flipkart.com/oppo-a74-5g-fantastic...</td>\n",
       "    </tr>\n",
       "  </tbody>\n",
       "</table>\n",
       "</div>"
      ],
      "text/plain": [
       "      BRAND    MODEL                     PROCESSOR PROCESSOR_CORE    PRICE  \\\n",
       "INDEX                                                                        \n",
       "1      OPPO      A53       Qualcomm Snapdragon 460      Octa Core  ₹11,990   \n",
       "2      OPPO      A12            MediaTek Helio P35      Octa Core  ₹10,490   \n",
       "3      OPPO      A12            MediaTek Helio P35      Octa Core   ₹9,490   \n",
       "4      OPPO      A12            MediaTek Helio P35      Octa Core   ₹9,490   \n",
       "5      OPPO      A12            MediaTek Helio P35      Octa Core  ₹10,490   \n",
       "6      OPPO      A12            MediaTek Helio P35      Octa Core   ₹9,490   \n",
       "7      OPPO      A53       Qualcomm Snapdragon 460      Octa Core  ₹12,799   \n",
       "8      OPPO      A53       Qualcomm Snapdragon 460      Octa Core  ₹13,990   \n",
       "9      OPPO      A53       Qualcomm Snapdragon 460      Octa Core  ₹13,990   \n",
       "10     OPPO      A53       Qualcomm Snapdragon 460      Octa Core  ₹13,989   \n",
       "11     OPPO  A53s 5G        MediaTek Dimensity 700      Octa Core  ₹15,990   \n",
       "12     OPPO  A53s 5G        MediaTek Dimensity 700      Octa Core  ₹15,990   \n",
       "13     OPPO      A33       Qualcomm Snapdragon 460      Octa Core  ₹10,490   \n",
       "14     OPPO  A53s 5G        MediaTek Dimensity 700      Octa Core  ₹17,990   \n",
       "15     OPPO  A53s 5G        MediaTek Dimensity 700      Octa Core  ₹17,990   \n",
       "16     OPPO  F17 Pro            MediaTek Helio P95      Octa Core  ₹19,990   \n",
       "17     OPPO      A31  MediaTek Helio P35 Octa Core      Octa Core  ₹11,650   \n",
       "18     OPPO      A53       Qualcomm Snapdragon 460      Octa Core  ₹15,999   \n",
       "19     OPPO      A53       Qualcomm Snapdragon 460      Octa Core  ₹15,999   \n",
       "20     OPPO  F17 Pro            MediaTek Helio P95      Octa Core  ₹19,990   \n",
       "21     OPPO  F17 Pro            MediaTek Helio P95      Octa Core  ₹19,990   \n",
       "22     OPPO      A31  MediaTek Helio P35 Octa Core      Octa Core  ₹11,990   \n",
       "23     OPPO      A54            MediaTek Helio P35      Octa Core  ₹14,990   \n",
       "24     OPPO   A74 5G                            --      Octa Core  ₹18,850   \n",
       "\n",
       "                 COLOUR STORAGE   RAM          PRIMARY_CAMERA  \\\n",
       "INDEX                                                           \n",
       "1       Moonlight Black   64 GB  4 GB        13MP + 2MP + 2MP   \n",
       "2             Deep Blue   64 GB  4 GB              13MP + 2MP   \n",
       "3             Deep Blue   32 GB  3 GB              13MP + 2MP   \n",
       "4                  Blue   32 GB  3 GB              13MP + 2MP   \n",
       "5        Flowing Silver   64 GB  4 GB              13MP + 2MP   \n",
       "6        Flowing Silver   32 GB  3 GB              13MP + 2MP   \n",
       "7            Mint Cream   64 GB  4 GB        13MP + 2MP + 2MP   \n",
       "8       Moonlight Black  128 GB  6 GB        13MP + 2MP + 2MP   \n",
       "9            Mint Cream  128 GB  6 GB        13MP + 2MP + 2MP   \n",
       "10       Electric Black   64 GB  4 GB        13MP + 2MP + 2MP   \n",
       "11            Ink Black  128 GB  6 GB        13MP + 2MP + 2MP   \n",
       "12         Crystal Blue  128 GB  6 GB        13MP + 2MP + 2MP   \n",
       "13      Moonlight Black   32 GB  3 GB        13MP + 2MP + 2MP   \n",
       "14         Crystal Blue  128 GB  8 GB        13MP + 2MP + 2MP   \n",
       "15            Ink Black  128 GB  8 GB        13MP + 2MP + 2MP   \n",
       "16          Matte Black  128 GB  8 GB  48MP + 8MP + 2MP + 2MP   \n",
       "17        Mystery Black   64 GB  4 GB        12MP + 2MP + 2MP   \n",
       "18       Electric Black  128 GB  6 GB        13MP + 2MP + 2MP   \n",
       "19          Fairy White  128 GB  6 GB        13MP + 2MP + 2MP   \n",
       "20           Magic Blue  128 GB  8 GB  48MP + 8MP + 2MP + 2MP   \n",
       "21       Metallic White  128 GB  8 GB  48MP + 8MP + 2MP + 2MP   \n",
       "22           Lake Green   64 GB  4 GB        12MP + 2MP + 2MP   \n",
       "23       Moonlight Gold   64 GB  4 GB        13MP + 2MP + 2MP   \n",
       "24     Fantastic Purple  128 GB  6 GB       48MP + 48MP + 2MP   \n",
       "\n",
       "                   SECONDARY_CAMERA               DISPLAY          RESOLUTION  \\\n",
       "INDEX                                                                           \n",
       "1                 16MP Front Camera   16.51 cm (6.5 inch)   1600 x 720 Pixels   \n",
       "2                  5MP Front Camera   15.8 cm (6.22 inch)   1520 x 720 Pixels   \n",
       "3                  5MP Front Camera   15.8 cm (6.22 inch)   1520 x 720 Pixels   \n",
       "4                  5MP Front Camera   15.8 cm (6.22 inch)   1520 x 720 Pixels   \n",
       "5                  5MP Front Camera   15.8 cm (6.22 inch)   1520 x 720 Pixels   \n",
       "6                  5MP Front Camera   15.8 cm (6.22 inch)   1520 x 720 Pixels   \n",
       "7                 16MP Front Camera   16.51 cm (6.5 inch)   1600 x 720 Pixels   \n",
       "8                 16MP Front Camera   16.51 cm (6.5 inch)   1600 x 720 Pixels   \n",
       "9                 16MP Front Camera   16.51 cm (6.5 inch)   1600 x 720 Pixels   \n",
       "10                16MP Front Camera   16.51 cm (6.5 inch)   1600 x 720 Pixels   \n",
       "11                 8MP Front Camera  16.56 cm (6.52 inch)   1600 x 720 Pixels   \n",
       "12                 8MP Front Camera  16.56 cm (6.52 inch)   1600 x 720 Pixels   \n",
       "13                 8MP Front Camera   16.51 cm (6.5 inch)   1600 x 720 Pixels   \n",
       "14                 8MP Front Camera  16.56 cm (6.52 inch)   1600 x 720 Pixels   \n",
       "15                 8MP Front Camera  16.56 cm (6.52 inch)   1600 x 720 Pixels   \n",
       "16     16MP + 2MP Dual Front Camera  16.33 cm (6.43 inch)  2400 x 1080 Pixels   \n",
       "17                 8MP Front Camera   16.51 cm (6.5 inch)   1600 x 720 Pixels   \n",
       "18                16MP Front Camera   16.51 cm (6.5 inch)   1600 x 720 Pixels   \n",
       "19                16MP Front Camera   16.51 cm (6.5 inch)   1600 x 720 Pixels   \n",
       "20     16MP + 2MP Dual Front Camera  16.33 cm (6.43 inch)  2400 x 1080 Pixels   \n",
       "21     16MP + 2MP Dual Front Camera  16.33 cm (6.43 inch)  2400 x 1080 Pixels   \n",
       "22                 8MP Front Camera   16.51 cm (6.5 inch)   1600 x 720 Pixels   \n",
       "23                16MP Front Camera  16.54 cm (6.51 inch)   1600 x 720 Pixels   \n",
       "24                 8MP Front Camera  16.48 cm (6.49 inch)   2400*1080$$pixels   \n",
       "\n",
       "        BATTERY                                        PRODUCT_URL  \n",
       "INDEX                                                               \n",
       "1      5000 mAh  https://www.flipkart.com/oppo-a53-moonlight-bl...  \n",
       "2      4230 mAh  https://www.flipkart.com/oppo-a12-deep-blue-64...  \n",
       "3      4230 mAh  https://www.flipkart.com/oppo-a12-deep-blue-32...  \n",
       "4      4230 mAh  https://www.flipkart.com/oppo-a12-blue-32-gb/p...  \n",
       "5      4230 mAh  https://www.flipkart.com/oppo-a12-flowing-silv...  \n",
       "6      4230 mAh  https://www.flipkart.com/oppo-a12-flowing-silv...  \n",
       "7      5000 mAh  https://www.flipkart.com/oppo-a53-mint-cream-6...  \n",
       "8      5000 mAh  https://www.flipkart.com/oppo-a53-moonlight-bl...  \n",
       "9      5000 mAh  https://www.flipkart.com/oppo-a53-mint-cream-1...  \n",
       "10     5000 mAh  https://www.flipkart.com/oppo-a53-electric-bla...  \n",
       "11     5000 mAh  https://www.flipkart.com/oppo-a53s-5g-ink-blac...  \n",
       "12     5000 mAh  https://www.flipkart.com/oppo-a53s-5g-crystal-...  \n",
       "13     5000 mAh  https://www.flipkart.com/oppo-a33-moonlight-bl...  \n",
       "14     5000 mAh  https://www.flipkart.com/oppo-a53s-5g-crystal-...  \n",
       "15     5000 mAh  https://www.flipkart.com/oppo-a53s-5g-ink-blac...  \n",
       "16     4015 mAh  https://www.flipkart.com/oppo-f17-pro-matte-bl...  \n",
       "17     4230 mAh  https://www.flipkart.com/oppo-a31-mystery-blac...  \n",
       "18     5000 mAh  https://www.flipkart.com/oppo-a53-electric-bla...  \n",
       "19     5000 mAh  https://www.flipkart.com/oppo-a53-fairy-white-...  \n",
       "20     4015 mAh  https://www.flipkart.com/oppo-f17-pro-magic-bl...  \n",
       "21     4015 mAh  https://www.flipkart.com/oppo-f17-pro-metallic...  \n",
       "22     4230 mAh  https://www.flipkart.com/oppo-a31-lake-green-6...  \n",
       "23     5000 mAh  https://www.flipkart.com/oppo-a54-moonlight-go...  \n",
       "24     5000 mAh  https://www.flipkart.com/oppo-a74-5g-fantastic...  "
      ]
     },
     "execution_count": 219,
     "metadata": {},
     "output_type": "execute_result"
    }
   ],
   "source": [
    "#fitting the scraped data into DataFrame\n",
    "import pandas as pd\n",
    "df=pd.DataFrame()\n",
    "df['INDEX']=range(1,len(urls)+1)\n",
    "df['BRAND']=brand\n",
    "df['MODEL']=phone_name\n",
    "df['PROCESSOR']=processor\n",
    "df['PROCESSOR_CORE']=proc_core\n",
    "df['PRICE']=price\n",
    "df['COLOUR']=colour\n",
    "df['STORAGE']=storage\n",
    "df['RAM']=ram\n",
    "df['PRIMARY_CAMERA']=p_camera\n",
    "df['SECONDARY_CAMERA']=s_camera\n",
    "df['DISPLAY']=dis_size\n",
    "df['RESOLUTION']=resolution\n",
    "df['BATTERY']=battery\n",
    "df['PRODUCT_URL']=urls\n",
    "df.set_index('INDEX',inplace=True)\n",
    "df"
   ]
  },
  {
   "cell_type": "code",
   "execution_count": 220,
   "metadata": {},
   "outputs": [
    {
     "name": "stdout",
     "output_type": "stream",
     "text": [
      "<class 'pandas.core.frame.DataFrame'>\n",
      "Int64Index: 24 entries, 1 to 24\n",
      "Data columns (total 14 columns):\n",
      " #   Column            Non-Null Count  Dtype \n",
      "---  ------            --------------  ----- \n",
      " 0   BRAND             24 non-null     object\n",
      " 1   MODEL             24 non-null     object\n",
      " 2   PROCESSOR         24 non-null     object\n",
      " 3   PROCESSOR_CORE    24 non-null     object\n",
      " 4   PRICE             24 non-null     object\n",
      " 5   COLOUR            24 non-null     object\n",
      " 6   STORAGE           24 non-null     object\n",
      " 7   RAM               24 non-null     object\n",
      " 8   PRIMARY_CAMERA    24 non-null     object\n",
      " 9   SECONDARY_CAMERA  24 non-null     object\n",
      " 10  DISPLAY           24 non-null     object\n",
      " 11  RESOLUTION        24 non-null     object\n",
      " 12  BATTERY           24 non-null     object\n",
      " 13  PRODUCT_URL       24 non-null     object\n",
      "dtypes: object(14)\n",
      "memory usage: 2.8+ KB\n"
     ]
    }
   ],
   "source": [
    "df.info()"
   ]
  },
  {
   "cell_type": "markdown",
   "metadata": {},
   "source": [
    "QUESTION-5"
   ]
  },
  {
   "cell_type": "markdown",
   "metadata": {},
   "source": [
    "Write a program to scrap geospatial coordinates (latitude, longitude) of a city searched on\n",
    "google maps.\n"
   ]
  },
  {
   "cell_type": "code",
   "execution_count": 34,
   "metadata": {},
   "outputs": [],
   "source": [
    "import selenium\n",
    "from selenium import webdriver"
   ]
  },
  {
   "cell_type": "code",
   "execution_count": 35,
   "metadata": {},
   "outputs": [],
   "source": [
    "driver=webdriver.Chrome(r\"C:\\python\\chromedriver\")"
   ]
  },
  {
   "cell_type": "code",
   "execution_count": 36,
   "metadata": {},
   "outputs": [],
   "source": [
    "url='https://www.google.com/maps'\n",
    "driver.get(url)"
   ]
  },
  {
   "cell_type": "code",
   "execution_count": 37,
   "metadata": {},
   "outputs": [
    {
     "name": "stdout",
     "output_type": "stream",
     "text": [
      "Enter the name of the city or a place you want to search\n",
      "Kokomojo, Boring Road, Shivpuri, Rajbansi Nagar, Patna, Bihar\n"
     ]
    }
   ],
   "source": [
    "search_column=driver.find_element_by_xpath(\"//input[@class='tactile-searchbox-input']\")\n",
    "print(\"Enter the name of the city or a place you want to search\")\n",
    "key=input()"
   ]
  },
  {
   "cell_type": "code",
   "execution_count": 38,
   "metadata": {},
   "outputs": [],
   "source": [
    "search_column.send_keys(key)"
   ]
  },
  {
   "cell_type": "code",
   "execution_count": 39,
   "metadata": {},
   "outputs": [],
   "source": [
    "search_btn=driver.find_element_by_xpath(\"//button[@class='searchbox-searchbutton']\")\n",
    "search_btn.click()"
   ]
  },
  {
   "cell_type": "code",
   "execution_count": 40,
   "metadata": {},
   "outputs": [],
   "source": [
    "driver.maximize_window()"
   ]
  },
  {
   "cell_type": "code",
   "execution_count": 41,
   "metadata": {},
   "outputs": [
    {
     "data": {
      "text/plain": [
       "'https://www.google.com/maps/place/KOKOMOJO/@25.6179529,85.1097887,17z/data=!4m5!3m4!1s0x39ed593b3ad92f95:0x405e9505c92836fa!8m2!3d25.6179529!4d85.1119774'"
      ]
     },
     "execution_count": 41,
     "metadata": {},
     "output_type": "execute_result"
    }
   ],
   "source": [
    "url=driver.current_url\n",
    "url"
   ]
  },
  {
   "cell_type": "code",
   "execution_count": 42,
   "metadata": {},
   "outputs": [
    {
     "data": {
      "text/plain": [
       "['', '3d25.6179529', '4d85.1119774']"
      ]
     },
     "execution_count": 42,
     "metadata": {},
     "output_type": "execute_result"
    }
   ],
   "source": [
    "#The url contains the co-ordinates of every city that is searched on google maps,hence scraping co-ordinates from the url itself\n",
    "co_ordinates=\"\"\n",
    "length=len(url)\n",
    "for i in range(0,length):\n",
    "    \n",
    "    if(url[i]=='!')& (url[i+2]=='d'):\n",
    "        co_ordinates=url[i:]\n",
    "        break\n",
    "x=co_ordinates.split('!')\n",
    "x\n"
   ]
  },
  {
   "cell_type": "code",
   "execution_count": 43,
   "metadata": {},
   "outputs": [
    {
     "data": {
      "text/plain": [
       "['25.6179529', '85.1119774']"
      ]
     },
     "execution_count": 43,
     "metadata": {},
     "output_type": "execute_result"
    }
   ],
   "source": [
    "#filtering the latitude and longitudes from the url text\n",
    "list=[]\n",
    "lat_long=\"\"\n",
    "for i in x:\n",
    "    for j in i:\n",
    "        lat_long=lat_long+j\n",
    "        if (j=='d'):\n",
    "            lat_long=\"\"\n",
    "    if(lat_long!=\"\"):\n",
    "        list.append(lat_long)\n",
    "list\n",
    "        \n",
    "    \n",
    "            "
   ]
  },
  {
   "cell_type": "code",
   "execution_count": 44,
   "metadata": {},
   "outputs": [
    {
     "name": "stdout",
     "output_type": "stream",
     "text": [
      "The Latitude and Longitude for Kokomojo, Boring Road, Shivpuri, Rajbansi Nagar, Patna, Bihar are 25.6179529North and 85.1119774East\n"
     ]
    }
   ],
   "source": [
    "latitude=list[0]\n",
    "longitude=list[1]\n",
    "if(latitude[0].find('-')==-1):\n",
    "    latitude=latitude+'North'\n",
    "else:\n",
    "    latitude=latitude[1:]+'South'\n",
    "if(longitude[0].find('-')==-1):\n",
    "    longitude=longitude+'East'\n",
    "else:\n",
    "    longitude=longitude[1:]+'West'\n",
    "print(\"The Latitude and Longitude for\",key,\"are\",latitude,\"and\",longitude)"
   ]
  },
  {
   "cell_type": "markdown",
   "metadata": {},
   "source": [
    "QUESTION-6\n",
    "Write a program to scrap details of all the funding deals for second quarter (i.e. July 20 –\n",
    "September 20) from trak.in.\n"
   ]
  },
  {
   "cell_type": "code",
   "execution_count": 104,
   "metadata": {},
   "outputs": [],
   "source": [
    "import selenium\n",
    "from selenium import webdriver"
   ]
  },
  {
   "cell_type": "code",
   "execution_count": 105,
   "metadata": {},
   "outputs": [],
   "source": [
    "driver=webdriver.Chrome(r\"C:\\python\\chromedriver\")"
   ]
  },
  {
   "cell_type": "code",
   "execution_count": 106,
   "metadata": {},
   "outputs": [],
   "source": [
    "url=\"https://trak.in/\"\n",
    "driver.get(url)"
   ]
  },
  {
   "cell_type": "code",
   "execution_count": 107,
   "metadata": {},
   "outputs": [],
   "source": [
    "driver.maximize_window()"
   ]
  },
  {
   "cell_type": "code",
   "execution_count": 108,
   "metadata": {},
   "outputs": [],
   "source": [
    "funding_deals=driver.find_element_by_xpath(\"//li[@class='menu-have-icon menu-icon-type-fontawesome menu-item menu-item-type-post_type menu-item-object-page better-anim-fade menu-item-51510']\")\n",
    "funding_deals.click()"
   ]
  },
  {
   "cell_type": "code",
   "execution_count": 109,
   "metadata": {},
   "outputs": [],
   "source": [
    "def get_columns():\n",
    "    xpath=[]\n",
    "    list=['1','2','3','4','5','6','7','8','9']\n",
    "    for i in list:\n",
    "        \n",
    "        xpath1=\"//th[@class='column-\"\n",
    "        xpath2=\" sorting']\"\n",
    "        xpath_=xpath1+i+xpath2\n",
    "        xpath_el=driver.find_element_by_xpath(xpath_)\n",
    "        xpath.append(xpath_el)\n",
    "        \n",
    "    return xpath"
   ]
  },
  {
   "cell_type": "code",
   "execution_count": 110,
   "metadata": {},
   "outputs": [
    {
     "data": {
      "text/plain": [
       "9"
      ]
     },
     "execution_count": 110,
     "metadata": {},
     "output_type": "execute_result"
    }
   ],
   "source": [
    "#scraping web elements of july-september(2020)quarter\n",
    "web_el=get_columns()\n",
    "len(web_el)"
   ]
  },
  {
   "cell_type": "code",
   "execution_count": 111,
   "metadata": {},
   "outputs": [
    {
     "data": {
      "text/plain": [
       "['Sr. No.',\n",
       " 'Date (dd/mm/yyyy)',\n",
       " 'Startup Name',\n",
       " 'Industry / Vertical',\n",
       " 'Sub-Vertical',\n",
       " 'City / Location',\n",
       " \"Investors' Name\",\n",
       " 'Investment Type',\n",
       " 'Amount (In USD)']"
      ]
     },
     "execution_count": 111,
     "metadata": {},
     "output_type": "execute_result"
    }
   ],
   "source": [
    "columns=[]\n",
    "for i in web_el:\n",
    "    columns.append(i.text)\n",
    "columns\n",
    "    "
   ]
  },
  {
   "cell_type": "code",
   "execution_count": 112,
   "metadata": {},
   "outputs": [],
   "source": [
    "#scraping column data\n",
    "def scrape_data(xpath):\n",
    "    data=[]\n",
    "    data_el=driver.find_elements_by_xpath(xpath)\n",
    "    for i in data_el[56:86]:\n",
    "        data.append(i.text)\n",
    "    return data\n",
    "    \n",
    "    "
   ]
  },
  {
   "cell_type": "code",
   "execution_count": 113,
   "metadata": {},
   "outputs": [],
   "source": [
    "def get_xpath(xpath1):\n",
    "    \n",
    "    xpath=[]\n",
    "    list=['1','2','3','4','5','6','7','8','9']\n",
    "    for i in list:\n",
    "        p=\"']\"\n",
    "        xpath.append(xpath1+i+p)\n",
    "    return xpath\n",
    "        \n",
    "    "
   ]
  },
  {
   "cell_type": "code",
   "execution_count": 114,
   "metadata": {},
   "outputs": [
    {
     "data": {
      "text/plain": [
       "[\"//td[@class='column-1']\",\n",
       " \"//td[@class='column-2']\",\n",
       " \"//td[@class='column-3']\",\n",
       " \"//td[@class='column-4']\",\n",
       " \"//td[@class='column-5']\",\n",
       " \"//td[@class='column-6']\",\n",
       " \"//td[@class='column-7']\",\n",
       " \"//td[@class='column-8']\",\n",
       " \"//td[@class='column-9']\"]"
      ]
     },
     "execution_count": 114,
     "metadata": {},
     "output_type": "execute_result"
    }
   ],
   "source": [
    "#fetching columnwise data\n",
    "xpath=get_xpath(\"//td[@class='column-\")\n",
    "xpath"
   ]
  },
  {
   "cell_type": "code",
   "execution_count": 115,
   "metadata": {},
   "outputs": [
    {
     "data": {
      "text/plain": [
       "270"
      ]
     },
     "execution_count": 115,
     "metadata": {},
     "output_type": "execute_result"
    }
   ],
   "source": [
    "column=[]\n",
    "for i in xpath:\n",
    "    column.extend(scrape_data(i))\n",
    "len(column)"
   ]
  },
  {
   "cell_type": "code",
   "execution_count": 116,
   "metadata": {},
   "outputs": [
    {
     "data": {
      "text/plain": [
       "30"
      ]
     },
     "execution_count": 116,
     "metadata": {},
     "output_type": "execute_result"
    }
   ],
   "source": [
    "column1=[]\n",
    "column2=[]\n",
    "column3=[]\n",
    "column4=[]\n",
    "column5=[]\n",
    "column6=[]\n",
    "column7=[]\n",
    "column8=[]\n",
    "column9=[]\n",
    "iteration=0\n",
    "for i in range(0,len(column),30):\n",
    "    iteration=iteration+1\n",
    "    for j in range(i,i+30):\n",
    "        if (iteration==1):\n",
    "            column1.append(column[j])\n",
    "        if(iteration==2):\n",
    "            column2.append(column[j])\n",
    "        if(iteration==3):\n",
    "            column3.append(column[j])\n",
    "        \n",
    "        if(iteration==4):\n",
    "            column4.append(column[j])\n",
    "        if(iteration==5):\n",
    "            column5.append(column[j])\n",
    "        if(iteration==6):\n",
    "            column6.append(column[j])\n",
    "        if(iteration==7):\n",
    "            column7.append(column[j])\n",
    "        if(iteration==8):\n",
    "            column8.append(column[j])\n",
    "        if(iteration==9):\n",
    "            column9.append(column[j])\n",
    "len(column9)"
   ]
  },
  {
   "cell_type": "code",
   "execution_count": 117,
   "metadata": {},
   "outputs": [],
   "source": [
    "dict={columns[0]:column1,columns[1]:column2,columns[2]:column3,columns[3]:column4,columns[4]:column5,columns[5]:column6,columns[6]:column7,columns[7]:column8,columns[8]:column9}\n"
   ]
  },
  {
   "cell_type": "code",
   "execution_count": 118,
   "metadata": {},
   "outputs": [
    {
     "data": {
      "text/plain": [
       "['Sr. No.',\n",
       " 'Date (dd/mm/yyyy)',\n",
       " 'Startup Name',\n",
       " 'Industry / Vertical',\n",
       " 'Sub-Vertical',\n",
       " 'City / Location',\n",
       " \"Investors' Name\",\n",
       " 'Investment Type',\n",
       " 'Amount (In USD)']"
      ]
     },
     "execution_count": 118,
     "metadata": {},
     "output_type": "execute_result"
    }
   ],
   "source": [
    "columns"
   ]
  },
  {
   "cell_type": "code",
   "execution_count": 119,
   "metadata": {},
   "outputs": [
    {
     "data": {
      "text/html": [
       "<div>\n",
       "<style scoped>\n",
       "    .dataframe tbody tr th:only-of-type {\n",
       "        vertical-align: middle;\n",
       "    }\n",
       "\n",
       "    .dataframe tbody tr th {\n",
       "        vertical-align: top;\n",
       "    }\n",
       "\n",
       "    .dataframe thead th {\n",
       "        text-align: right;\n",
       "    }\n",
       "</style>\n",
       "<table border=\"1\" class=\"dataframe\">\n",
       "  <thead>\n",
       "    <tr style=\"text-align: right;\">\n",
       "      <th></th>\n",
       "      <th>Sr. No.</th>\n",
       "      <th>Date (dd/mm/yyyy)</th>\n",
       "      <th>Startup Name</th>\n",
       "      <th>Industry / Vertical</th>\n",
       "      <th>Sub-Vertical</th>\n",
       "      <th>City / Location</th>\n",
       "      <th>Investors' Name</th>\n",
       "      <th>Investment Type</th>\n",
       "      <th>Amount (In USD)</th>\n",
       "    </tr>\n",
       "    <tr>\n",
       "      <th>Index</th>\n",
       "      <th></th>\n",
       "      <th></th>\n",
       "      <th></th>\n",
       "      <th></th>\n",
       "      <th></th>\n",
       "      <th></th>\n",
       "      <th></th>\n",
       "      <th></th>\n",
       "      <th></th>\n",
       "    </tr>\n",
       "  </thead>\n",
       "  <tbody>\n",
       "    <tr>\n",
       "      <th>1</th>\n",
       "      <td>2</td>\n",
       "      <td>12/09/2020</td>\n",
       "      <td>mCaffeine</td>\n",
       "      <td>Personal Care</td>\n",
       "      <td>Skincare &amp; Haircare</td>\n",
       "      <td>Mumbai</td>\n",
       "      <td>Amicus Capital Private Equity I LLP, Amicus Ca...</td>\n",
       "      <td>Series B</td>\n",
       "      <td>3,000,000</td>\n",
       "    </tr>\n",
       "    <tr>\n",
       "      <th>2</th>\n",
       "      <td>3</td>\n",
       "      <td>09/09/2020</td>\n",
       "      <td>Qshala</td>\n",
       "      <td>EduTech</td>\n",
       "      <td>Online Curiosity Platform for Kids</td>\n",
       "      <td>Bangalore</td>\n",
       "      <td>Rainmatter Capital</td>\n",
       "      <td>Angel</td>\n",
       "      <td>370,000</td>\n",
       "    </tr>\n",
       "    <tr>\n",
       "      <th>3</th>\n",
       "      <td>4</td>\n",
       "      <td>02/09/2020</td>\n",
       "      <td>Winzo</td>\n",
       "      <td>Online Gaming</td>\n",
       "      <td>Online Gaming</td>\n",
       "      <td>New Delhi</td>\n",
       "      <td>Kalaari Capital Partners, IndigoEdge Managemen...</td>\n",
       "      <td>Series B</td>\n",
       "      <td>15,500,000</td>\n",
       "    </tr>\n",
       "    <tr>\n",
       "      <th>4</th>\n",
       "      <td>5</td>\n",
       "      <td>09/09/2020</td>\n",
       "      <td>Hippo Video</td>\n",
       "      <td>Video Customer Experience(CX) Platform</td>\n",
       "      <td>Video Customer Experience(CX) Platform</td>\n",
       "      <td>Newark, Delaware, United States of Amercia</td>\n",
       "      <td>Alpha Wave Incubation, Exfinity Venture Partne...</td>\n",
       "      <td>Series A</td>\n",
       "      <td>4,500,000</td>\n",
       "    </tr>\n",
       "    <tr>\n",
       "      <th>5</th>\n",
       "      <td>6</td>\n",
       "      <td>07/09/2020</td>\n",
       "      <td>Melorra</td>\n",
       "      <td>E-commerce</td>\n",
       "      <td>Online Jewelry Store</td>\n",
       "      <td>Bangalore</td>\n",
       "      <td>Shadow Holdings, Lightbox.</td>\n",
       "      <td>Debt Financing</td>\n",
       "      <td>upto 8,900,000</td>\n",
       "    </tr>\n",
       "    <tr>\n",
       "      <th>6</th>\n",
       "      <td>7</td>\n",
       "      <td>07/09/2020</td>\n",
       "      <td>1mg</td>\n",
       "      <td>E-commerce</td>\n",
       "      <td>Online Pharmacy</td>\n",
       "      <td>Gurgaon</td>\n",
       "      <td>Gaja Capital, Tata Capital, Partners Group</td>\n",
       "      <td>In Progress</td>\n",
       "      <td>100,000,000</td>\n",
       "    </tr>\n",
       "    <tr>\n",
       "      <th>7</th>\n",
       "      <td>8</td>\n",
       "      <td>31/08/2020</td>\n",
       "      <td>mfine</td>\n",
       "      <td>HealthTech</td>\n",
       "      <td>On-Demand Healthcare Services</td>\n",
       "      <td>Bangalore</td>\n",
       "      <td>Caretech Pte Inc</td>\n",
       "      <td>Series B</td>\n",
       "      <td>5,400,000</td>\n",
       "    </tr>\n",
       "    <tr>\n",
       "      <th>8</th>\n",
       "      <td>9</td>\n",
       "      <td>31/08/2020</td>\n",
       "      <td>Apna</td>\n",
       "      <td>Human Resources</td>\n",
       "      <td>Recruitment Platform</td>\n",
       "      <td>Bangalore</td>\n",
       "      <td>Lightspeed India and Sequoia Capital India</td>\n",
       "      <td>Series A</td>\n",
       "      <td>8,000,000</td>\n",
       "    </tr>\n",
       "    <tr>\n",
       "      <th>9</th>\n",
       "      <td>10</td>\n",
       "      <td>03/09/2020</td>\n",
       "      <td>Railofy</td>\n",
       "      <td>Transportation</td>\n",
       "      <td>WL &amp; RAC protection platform</td>\n",
       "      <td>Mumbai</td>\n",
       "      <td>Chiratae Ventures</td>\n",
       "      <td>Seed</td>\n",
       "      <td>950,000</td>\n",
       "    </tr>\n",
       "    <tr>\n",
       "      <th>10</th>\n",
       "      <td>1</td>\n",
       "      <td>15/08/2020</td>\n",
       "      <td>Practo</td>\n",
       "      <td>HealthTech</td>\n",
       "      <td>Health care and Wellness</td>\n",
       "      <td>Bangalore</td>\n",
       "      <td>A1A Company</td>\n",
       "      <td>Series F</td>\n",
       "      <td>32,000,000</td>\n",
       "    </tr>\n",
       "    <tr>\n",
       "      <th>11</th>\n",
       "      <td>2</td>\n",
       "      <td>13/08/2020</td>\n",
       "      <td>Medlife</td>\n",
       "      <td>E-commerce</td>\n",
       "      <td>Online Pharmacy</td>\n",
       "      <td>Bangalore</td>\n",
       "      <td>Prasid Uno Family Trust and SC Credit Fund</td>\n",
       "      <td></td>\n",
       "      <td>23,000,000</td>\n",
       "    </tr>\n",
       "    <tr>\n",
       "      <th>12</th>\n",
       "      <td>3</td>\n",
       "      <td>13/08/2020</td>\n",
       "      <td>HungerBox</td>\n",
       "      <td>FoodTech</td>\n",
       "      <td>Online Food Delivery Service</td>\n",
       "      <td>Bangalore</td>\n",
       "      <td>One97, Sabre Partners Trust, Pratithi Investme...</td>\n",
       "      <td>Series D1</td>\n",
       "      <td>1,560,000</td>\n",
       "    </tr>\n",
       "    <tr>\n",
       "      <th>13</th>\n",
       "      <td>4</td>\n",
       "      <td>04/08/2020</td>\n",
       "      <td>Dunzo</td>\n",
       "      <td>Hyper-local Logistics</td>\n",
       "      <td>Online Delivery Services</td>\n",
       "      <td>Bangalore</td>\n",
       "      <td>Existing Backers</td>\n",
       "      <td>In Progress</td>\n",
       "      <td>30,000,000</td>\n",
       "    </tr>\n",
       "    <tr>\n",
       "      <th>14</th>\n",
       "      <td>5</td>\n",
       "      <td>11/08/2020</td>\n",
       "      <td>Terra.do</td>\n",
       "      <td>EduTech</td>\n",
       "      <td>Online Climate School, E-learning</td>\n",
       "      <td>Stanford, California,</td>\n",
       "      <td>Stanford Angels and Entrepreneurs (India), BEE...</td>\n",
       "      <td>Seed</td>\n",
       "      <td>1,400,000</td>\n",
       "    </tr>\n",
       "    <tr>\n",
       "      <th>15</th>\n",
       "      <td>6</td>\n",
       "      <td>12/08/2020</td>\n",
       "      <td>Classplus</td>\n",
       "      <td>EduTech</td>\n",
       "      <td>E-learning, Online Tutoring</td>\n",
       "      <td>Noida</td>\n",
       "      <td>Falcon Edge</td>\n",
       "      <td>In Progress</td>\n",
       "      <td>upto 15,000,000</td>\n",
       "    </tr>\n",
       "    <tr>\n",
       "      <th>16</th>\n",
       "      <td>7</td>\n",
       "      <td>14/08/2020</td>\n",
       "      <td>Niyo</td>\n",
       "      <td>FinTech</td>\n",
       "      <td>Financial Services</td>\n",
       "      <td>Bangalore</td>\n",
       "      <td>Niyo Solutions Inc.</td>\n",
       "      <td></td>\n",
       "      <td>6,000,000</td>\n",
       "    </tr>\n",
       "    <tr>\n",
       "      <th>17</th>\n",
       "      <td>8</td>\n",
       "      <td>10/08/2020</td>\n",
       "      <td>ZestMoney</td>\n",
       "      <td>FinTech</td>\n",
       "      <td>Financial Services</td>\n",
       "      <td>Bangalore</td>\n",
       "      <td>Primrose Hills Ventures</td>\n",
       "      <td></td>\n",
       "      <td>10,670,000</td>\n",
       "    </tr>\n",
       "    <tr>\n",
       "      <th>18</th>\n",
       "      <td>9</td>\n",
       "      <td>07/08/2020</td>\n",
       "      <td>FreshToHome</td>\n",
       "      <td>E-commerce</td>\n",
       "      <td>Food Delivery</td>\n",
       "      <td>Bangalore</td>\n",
       "      <td>Ascent Capital</td>\n",
       "      <td>Venture</td>\n",
       "      <td>16,200,000</td>\n",
       "    </tr>\n",
       "    <tr>\n",
       "      <th>19</th>\n",
       "      <td>10</td>\n",
       "      <td>13/08/2020</td>\n",
       "      <td>Eduvanz</td>\n",
       "      <td>FinTech</td>\n",
       "      <td>Financial Services</td>\n",
       "      <td>Mumbai</td>\n",
       "      <td>Sequoia India, Unitus</td>\n",
       "      <td>Series A</td>\n",
       "      <td>5,000,000</td>\n",
       "    </tr>\n",
       "    <tr>\n",
       "      <th>20</th>\n",
       "      <td>1</td>\n",
       "      <td>15/07/2020</td>\n",
       "      <td>Flipkart</td>\n",
       "      <td>E-commerce</td>\n",
       "      <td>E-commerce</td>\n",
       "      <td>Bangalore</td>\n",
       "      <td>Walmart Inc</td>\n",
       "      <td>M&amp;A</td>\n",
       "      <td>1,200,000,000</td>\n",
       "    </tr>\n",
       "    <tr>\n",
       "      <th>21</th>\n",
       "      <td>2</td>\n",
       "      <td>16/07/2020</td>\n",
       "      <td>Vedantu</td>\n",
       "      <td>EduTech</td>\n",
       "      <td>Online Tutoring</td>\n",
       "      <td>Bangalore</td>\n",
       "      <td>Coatue Management</td>\n",
       "      <td>Series D</td>\n",
       "      <td>100,000,000</td>\n",
       "    </tr>\n",
       "    <tr>\n",
       "      <th>22</th>\n",
       "      <td>3</td>\n",
       "      <td>16/07/2020</td>\n",
       "      <td>Crio</td>\n",
       "      <td>EduTech</td>\n",
       "      <td>Learning Platform for Developers</td>\n",
       "      <td>Bangalore</td>\n",
       "      <td>021 Capital</td>\n",
       "      <td>pre-Series A</td>\n",
       "      <td>934,160</td>\n",
       "    </tr>\n",
       "    <tr>\n",
       "      <th>23</th>\n",
       "      <td>4</td>\n",
       "      <td>14/07/2020</td>\n",
       "      <td>goDutch</td>\n",
       "      <td>FinTech</td>\n",
       "      <td>Group Payments</td>\n",
       "      <td>Mumbai</td>\n",
       "      <td>Matrix India,Y Combinator, Global Founders Cap...</td>\n",
       "      <td>Seed</td>\n",
       "      <td>1,700,000</td>\n",
       "    </tr>\n",
       "    <tr>\n",
       "      <th>24</th>\n",
       "      <td>5</td>\n",
       "      <td>13/07/2020</td>\n",
       "      <td>Mystifly</td>\n",
       "      <td>Airfare Marketplace</td>\n",
       "      <td>Ticketing, Airline Retailing, and Post-Ticketi...</td>\n",
       "      <td>Singapore and Bangalore</td>\n",
       "      <td>Recruit Co. Ltd.</td>\n",
       "      <td>pre-Series B</td>\n",
       "      <td>3,300,000</td>\n",
       "    </tr>\n",
       "    <tr>\n",
       "      <th>25</th>\n",
       "      <td>6</td>\n",
       "      <td>09/07/2020</td>\n",
       "      <td>JetSynthesys</td>\n",
       "      <td>Gaming and Entertainment</td>\n",
       "      <td>Gaming and Entertainment</td>\n",
       "      <td>Pune</td>\n",
       "      <td>Adar Poonawalla and Kris Gopalakrishnan.</td>\n",
       "      <td>Venture-Series Unknown</td>\n",
       "      <td>400,000</td>\n",
       "    </tr>\n",
       "    <tr>\n",
       "      <th>26</th>\n",
       "      <td>7</td>\n",
       "      <td>10/07/2020</td>\n",
       "      <td>gigIndia</td>\n",
       "      <td>Marketplace</td>\n",
       "      <td>Crowd Sourcing, Freelance</td>\n",
       "      <td>Pune</td>\n",
       "      <td>Incubate Fund India and Beyond Next Ventures</td>\n",
       "      <td>pre-Series A</td>\n",
       "      <td>974,200</td>\n",
       "    </tr>\n",
       "    <tr>\n",
       "      <th>27</th>\n",
       "      <td>8</td>\n",
       "      <td>15/07/2020</td>\n",
       "      <td>PumPumPum</td>\n",
       "      <td>Automotive Rental</td>\n",
       "      <td>Used Car-leasing platform</td>\n",
       "      <td>Gurgaon</td>\n",
       "      <td>Early Adapters Syndicate</td>\n",
       "      <td>Seed</td>\n",
       "      <td>292,800</td>\n",
       "    </tr>\n",
       "    <tr>\n",
       "      <th>28</th>\n",
       "      <td>9</td>\n",
       "      <td>14/07/2020</td>\n",
       "      <td>FLYX</td>\n",
       "      <td>OTT Player</td>\n",
       "      <td>Streaming Social Network</td>\n",
       "      <td>New York and Delhi</td>\n",
       "      <td>Raj Mishra, founder of AIT Global Inc</td>\n",
       "      <td>pre-Seed</td>\n",
       "      <td>200,000</td>\n",
       "    </tr>\n",
       "    <tr>\n",
       "      <th>29</th>\n",
       "      <td>10</td>\n",
       "      <td>13/07/2020</td>\n",
       "      <td>Open Appliances Pvt. Ltd.</td>\n",
       "      <td>Information Technology</td>\n",
       "      <td>Internet-of-Things Security Solutions</td>\n",
       "      <td>Bangalore</td>\n",
       "      <td>Unicorn India Ventures</td>\n",
       "      <td>Venture-Series Unknown</td>\n",
       "      <td>500,000</td>\n",
       "    </tr>\n",
       "    <tr>\n",
       "      <th>30</th>\n",
       "      <td>1</td>\n",
       "      <td>18/06/2020</td>\n",
       "      <td>Drishti Technologies</td>\n",
       "      <td>Technology</td>\n",
       "      <td>Artificial Intelligence, Video Analytics</td>\n",
       "      <td>Mumbai</td>\n",
       "      <td>Sozo Ventures</td>\n",
       "      <td>Series B</td>\n",
       "      <td>25,000,000</td>\n",
       "    </tr>\n",
       "  </tbody>\n",
       "</table>\n",
       "</div>"
      ],
      "text/plain": [
       "      Sr. No. Date (dd/mm/yyyy)               Startup Name  \\\n",
       "Index                                                        \n",
       "1           2        12/09/2020                  mCaffeine   \n",
       "2           3        09/09/2020                     Qshala   \n",
       "3           4        02/09/2020                      Winzo   \n",
       "4           5        09/09/2020                Hippo Video   \n",
       "5           6        07/09/2020                    Melorra   \n",
       "6           7        07/09/2020                        1mg   \n",
       "7           8        31/08/2020                      mfine   \n",
       "8           9        31/08/2020                       Apna   \n",
       "9          10        03/09/2020                    Railofy   \n",
       "10          1        15/08/2020                     Practo   \n",
       "11          2        13/08/2020                    Medlife   \n",
       "12          3        13/08/2020                  HungerBox   \n",
       "13          4        04/08/2020                      Dunzo   \n",
       "14          5        11/08/2020                   Terra.do   \n",
       "15          6        12/08/2020                  Classplus   \n",
       "16          7        14/08/2020                       Niyo   \n",
       "17          8        10/08/2020                  ZestMoney   \n",
       "18          9        07/08/2020                FreshToHome   \n",
       "19         10        13/08/2020                    Eduvanz   \n",
       "20          1        15/07/2020                   Flipkart   \n",
       "21          2        16/07/2020                    Vedantu   \n",
       "22          3        16/07/2020                       Crio   \n",
       "23          4        14/07/2020                    goDutch   \n",
       "24          5        13/07/2020                   Mystifly   \n",
       "25          6        09/07/2020               JetSynthesys   \n",
       "26          7        10/07/2020                   gigIndia   \n",
       "27          8        15/07/2020                  PumPumPum   \n",
       "28          9        14/07/2020                       FLYX   \n",
       "29         10        13/07/2020  Open Appliances Pvt. Ltd.   \n",
       "30          1        18/06/2020       Drishti Technologies   \n",
       "\n",
       "                          Industry / Vertical  \\\n",
       "Index                                           \n",
       "1                               Personal Care   \n",
       "2                                     EduTech   \n",
       "3                               Online Gaming   \n",
       "4      Video Customer Experience(CX) Platform   \n",
       "5                                  E-commerce   \n",
       "6                                  E-commerce   \n",
       "7                                  HealthTech   \n",
       "8                             Human Resources   \n",
       "9                              Transportation   \n",
       "10                                 HealthTech   \n",
       "11                                 E-commerce   \n",
       "12                                   FoodTech   \n",
       "13                      Hyper-local Logistics   \n",
       "14                                    EduTech   \n",
       "15                                    EduTech   \n",
       "16                                    FinTech   \n",
       "17                                    FinTech   \n",
       "18                                 E-commerce   \n",
       "19                                    FinTech   \n",
       "20                                 E-commerce   \n",
       "21                                    EduTech   \n",
       "22                                    EduTech   \n",
       "23                                    FinTech   \n",
       "24                        Airfare Marketplace   \n",
       "25                   Gaming and Entertainment   \n",
       "26                                Marketplace   \n",
       "27                          Automotive Rental   \n",
       "28                                 OTT Player   \n",
       "29                     Information Technology   \n",
       "30                                 Technology   \n",
       "\n",
       "                                            Sub-Vertical  \\\n",
       "Index                                                      \n",
       "1                                    Skincare & Haircare   \n",
       "2                     Online Curiosity Platform for Kids   \n",
       "3                                          Online Gaming   \n",
       "4                 Video Customer Experience(CX) Platform   \n",
       "5                                   Online Jewelry Store   \n",
       "6                                        Online Pharmacy   \n",
       "7                          On-Demand Healthcare Services   \n",
       "8                                   Recruitment Platform   \n",
       "9                           WL & RAC protection platform   \n",
       "10                              Health care and Wellness   \n",
       "11                                       Online Pharmacy   \n",
       "12                          Online Food Delivery Service   \n",
       "13                              Online Delivery Services   \n",
       "14                     Online Climate School, E-learning   \n",
       "15                           E-learning, Online Tutoring   \n",
       "16                                    Financial Services   \n",
       "17                                    Financial Services   \n",
       "18                                         Food Delivery   \n",
       "19                                    Financial Services   \n",
       "20                                            E-commerce   \n",
       "21                                       Online Tutoring   \n",
       "22                      Learning Platform for Developers   \n",
       "23                                        Group Payments   \n",
       "24     Ticketing, Airline Retailing, and Post-Ticketi...   \n",
       "25                              Gaming and Entertainment   \n",
       "26                             Crowd Sourcing, Freelance   \n",
       "27                             Used Car-leasing platform   \n",
       "28                              Streaming Social Network   \n",
       "29                 Internet-of-Things Security Solutions   \n",
       "30              Artificial Intelligence, Video Analytics   \n",
       "\n",
       "                                  City / Location  \\\n",
       "Index                                               \n",
       "1                                          Mumbai   \n",
       "2                                       Bangalore   \n",
       "3                                       New Delhi   \n",
       "4      Newark, Delaware, United States of Amercia   \n",
       "5                                       Bangalore   \n",
       "6                                         Gurgaon   \n",
       "7                                       Bangalore   \n",
       "8                                       Bangalore   \n",
       "9                                          Mumbai   \n",
       "10                                      Bangalore   \n",
       "11                                      Bangalore   \n",
       "12                                      Bangalore   \n",
       "13                                      Bangalore   \n",
       "14                          Stanford, California,   \n",
       "15                                          Noida   \n",
       "16                                      Bangalore   \n",
       "17                                      Bangalore   \n",
       "18                                      Bangalore   \n",
       "19                                         Mumbai   \n",
       "20                                      Bangalore   \n",
       "21                                      Bangalore   \n",
       "22                                      Bangalore   \n",
       "23                                         Mumbai   \n",
       "24                        Singapore and Bangalore   \n",
       "25                                           Pune   \n",
       "26                                           Pune   \n",
       "27                                        Gurgaon   \n",
       "28                             New York and Delhi   \n",
       "29                                      Bangalore   \n",
       "30                                         Mumbai   \n",
       "\n",
       "                                         Investors' Name  \\\n",
       "Index                                                      \n",
       "1      Amicus Capital Private Equity I LLP, Amicus Ca...   \n",
       "2                                     Rainmatter Capital   \n",
       "3      Kalaari Capital Partners, IndigoEdge Managemen...   \n",
       "4      Alpha Wave Incubation, Exfinity Venture Partne...   \n",
       "5                             Shadow Holdings, Lightbox.   \n",
       "6             Gaja Capital, Tata Capital, Partners Group   \n",
       "7                                       Caretech Pte Inc   \n",
       "8             Lightspeed India and Sequoia Capital India   \n",
       "9                                      Chiratae Ventures   \n",
       "10                                           A1A Company   \n",
       "11            Prasid Uno Family Trust and SC Credit Fund   \n",
       "12     One97, Sabre Partners Trust, Pratithi Investme...   \n",
       "13                                      Existing Backers   \n",
       "14     Stanford Angels and Entrepreneurs (India), BEE...   \n",
       "15                                           Falcon Edge   \n",
       "16                                   Niyo Solutions Inc.   \n",
       "17                               Primrose Hills Ventures   \n",
       "18                                        Ascent Capital   \n",
       "19                                 Sequoia India, Unitus   \n",
       "20                                           Walmart Inc   \n",
       "21                                     Coatue Management   \n",
       "22                                           021 Capital   \n",
       "23     Matrix India,Y Combinator, Global Founders Cap...   \n",
       "24                                      Recruit Co. Ltd.   \n",
       "25              Adar Poonawalla and Kris Gopalakrishnan.   \n",
       "26          Incubate Fund India and Beyond Next Ventures   \n",
       "27                              Early Adapters Syndicate   \n",
       "28                 Raj Mishra, founder of AIT Global Inc   \n",
       "29                                Unicorn India Ventures   \n",
       "30                                         Sozo Ventures   \n",
       "\n",
       "              Investment Type  Amount (In USD)  \n",
       "Index                                           \n",
       "1                    Series B        3,000,000  \n",
       "2                       Angel          370,000  \n",
       "3                    Series B       15,500,000  \n",
       "4                    Series A        4,500,000  \n",
       "5              Debt Financing   upto 8,900,000  \n",
       "6                 In Progress      100,000,000  \n",
       "7                    Series B        5,400,000  \n",
       "8                    Series A        8,000,000  \n",
       "9                        Seed          950,000  \n",
       "10                   Series F       32,000,000  \n",
       "11                                  23,000,000  \n",
       "12                  Series D1        1,560,000  \n",
       "13                In Progress       30,000,000  \n",
       "14                       Seed        1,400,000  \n",
       "15                In Progress  upto 15,000,000  \n",
       "16                                   6,000,000  \n",
       "17                                  10,670,000  \n",
       "18                    Venture       16,200,000  \n",
       "19                   Series A        5,000,000  \n",
       "20                        M&A    1,200,000,000  \n",
       "21                   Series D      100,000,000  \n",
       "22               pre-Series A          934,160  \n",
       "23                       Seed        1,700,000  \n",
       "24               pre-Series B        3,300,000  \n",
       "25     Venture-Series Unknown          400,000  \n",
       "26               pre-Series A          974,200  \n",
       "27                       Seed          292,800  \n",
       "28                   pre-Seed          200,000  \n",
       "29     Venture-Series Unknown          500,000  \n",
       "30                   Series B       25,000,000  "
      ]
     },
     "execution_count": 119,
     "metadata": {},
     "output_type": "execute_result"
    }
   ],
   "source": [
    "#fitting the data into dataframe\n",
    "import pandas as pd\n",
    "df=pd.DataFrame(data=dict)\n",
    "\n",
    "df['Index']=range(1,31)\n",
    "df.set_index('Index',inplace=True)\n",
    "df"
   ]
  },
  {
   "cell_type": "code",
   "execution_count": 120,
   "metadata": {},
   "outputs": [],
   "source": [
    "import datetime"
   ]
  },
  {
   "cell_type": "code",
   "execution_count": 121,
   "metadata": {},
   "outputs": [],
   "source": [
    "df['Date (dd/mm/yyyy)']=pd.to_datetime(df['Date (dd/mm/yyyy)'])"
   ]
  },
  {
   "cell_type": "code",
   "execution_count": 122,
   "metadata": {},
   "outputs": [
    {
     "data": {
      "text/plain": [
       "Sr. No.                        object\n",
       "Date (dd/mm/yyyy)      datetime64[ns]\n",
       "Startup Name                   object\n",
       "Industry / Vertical            object\n",
       "Sub-Vertical                   object\n",
       "City / Location                object\n",
       "Investors' Name                object\n",
       "Investment Type                object\n",
       "Amount (In USD)                object\n",
       "dtype: object"
      ]
     },
     "execution_count": 122,
     "metadata": {},
     "output_type": "execute_result"
    }
   ],
   "source": [
    "\n",
    "df.dtypes"
   ]
  },
  {
   "cell_type": "code",
   "execution_count": 123,
   "metadata": {},
   "outputs": [
    {
     "data": {
      "text/html": [
       "<div>\n",
       "<style scoped>\n",
       "    .dataframe tbody tr th:only-of-type {\n",
       "        vertical-align: middle;\n",
       "    }\n",
       "\n",
       "    .dataframe tbody tr th {\n",
       "        vertical-align: top;\n",
       "    }\n",
       "\n",
       "    .dataframe thead th {\n",
       "        text-align: right;\n",
       "    }\n",
       "</style>\n",
       "<table border=\"1\" class=\"dataframe\">\n",
       "  <thead>\n",
       "    <tr style=\"text-align: right;\">\n",
       "      <th></th>\n",
       "      <th>Sr. No.</th>\n",
       "      <th>Date (dd/mm/yyyy)</th>\n",
       "      <th>Startup Name</th>\n",
       "      <th>Industry / Vertical</th>\n",
       "      <th>Sub-Vertical</th>\n",
       "      <th>City / Location</th>\n",
       "      <th>Investors' Name</th>\n",
       "      <th>Investment Type</th>\n",
       "      <th>Amount (In USD)</th>\n",
       "    </tr>\n",
       "    <tr>\n",
       "      <th>Index</th>\n",
       "      <th></th>\n",
       "      <th></th>\n",
       "      <th></th>\n",
       "      <th></th>\n",
       "      <th></th>\n",
       "      <th></th>\n",
       "      <th></th>\n",
       "      <th></th>\n",
       "      <th></th>\n",
       "    </tr>\n",
       "  </thead>\n",
       "  <tbody>\n",
       "    <tr>\n",
       "      <th>1</th>\n",
       "      <td>2</td>\n",
       "      <td>2020-12-09</td>\n",
       "      <td>mCaffeine</td>\n",
       "      <td>Personal Care</td>\n",
       "      <td>Skincare &amp; Haircare</td>\n",
       "      <td>Mumbai</td>\n",
       "      <td>Amicus Capital Private Equity I LLP, Amicus Ca...</td>\n",
       "      <td>Series B</td>\n",
       "      <td>3,000,000</td>\n",
       "    </tr>\n",
       "    <tr>\n",
       "      <th>2</th>\n",
       "      <td>3</td>\n",
       "      <td>2020-09-09</td>\n",
       "      <td>Qshala</td>\n",
       "      <td>EduTech</td>\n",
       "      <td>Online Curiosity Platform for Kids</td>\n",
       "      <td>Bangalore</td>\n",
       "      <td>Rainmatter Capital</td>\n",
       "      <td>Angel</td>\n",
       "      <td>370,000</td>\n",
       "    </tr>\n",
       "    <tr>\n",
       "      <th>3</th>\n",
       "      <td>4</td>\n",
       "      <td>2020-02-09</td>\n",
       "      <td>Winzo</td>\n",
       "      <td>Online Gaming</td>\n",
       "      <td>Online Gaming</td>\n",
       "      <td>New Delhi</td>\n",
       "      <td>Kalaari Capital Partners, IndigoEdge Managemen...</td>\n",
       "      <td>Series B</td>\n",
       "      <td>15,500,000</td>\n",
       "    </tr>\n",
       "    <tr>\n",
       "      <th>4</th>\n",
       "      <td>5</td>\n",
       "      <td>2020-09-09</td>\n",
       "      <td>Hippo Video</td>\n",
       "      <td>Video Customer Experience(CX) Platform</td>\n",
       "      <td>Video Customer Experience(CX) Platform</td>\n",
       "      <td>Newark, Delaware, United States of Amercia</td>\n",
       "      <td>Alpha Wave Incubation, Exfinity Venture Partne...</td>\n",
       "      <td>Series A</td>\n",
       "      <td>4,500,000</td>\n",
       "    </tr>\n",
       "    <tr>\n",
       "      <th>5</th>\n",
       "      <td>6</td>\n",
       "      <td>2020-07-09</td>\n",
       "      <td>Melorra</td>\n",
       "      <td>E-commerce</td>\n",
       "      <td>Online Jewelry Store</td>\n",
       "      <td>Bangalore</td>\n",
       "      <td>Shadow Holdings, Lightbox.</td>\n",
       "      <td>Debt Financing</td>\n",
       "      <td>upto 8,900,000</td>\n",
       "    </tr>\n",
       "  </tbody>\n",
       "</table>\n",
       "</div>"
      ],
      "text/plain": [
       "      Sr. No. Date (dd/mm/yyyy) Startup Name  \\\n",
       "Index                                          \n",
       "1           2        2020-12-09    mCaffeine   \n",
       "2           3        2020-09-09       Qshala   \n",
       "3           4        2020-02-09        Winzo   \n",
       "4           5        2020-09-09  Hippo Video   \n",
       "5           6        2020-07-09      Melorra   \n",
       "\n",
       "                          Industry / Vertical  \\\n",
       "Index                                           \n",
       "1                               Personal Care   \n",
       "2                                     EduTech   \n",
       "3                               Online Gaming   \n",
       "4      Video Customer Experience(CX) Platform   \n",
       "5                                  E-commerce   \n",
       "\n",
       "                                 Sub-Vertical  \\\n",
       "Index                                           \n",
       "1                         Skincare & Haircare   \n",
       "2          Online Curiosity Platform for Kids   \n",
       "3                               Online Gaming   \n",
       "4      Video Customer Experience(CX) Platform   \n",
       "5                        Online Jewelry Store   \n",
       "\n",
       "                                  City / Location  \\\n",
       "Index                                               \n",
       "1                                          Mumbai   \n",
       "2                                       Bangalore   \n",
       "3                                       New Delhi   \n",
       "4      Newark, Delaware, United States of Amercia   \n",
       "5                                       Bangalore   \n",
       "\n",
       "                                         Investors' Name Investment Type  \\\n",
       "Index                                                                      \n",
       "1      Amicus Capital Private Equity I LLP, Amicus Ca...        Series B   \n",
       "2                                     Rainmatter Capital           Angel   \n",
       "3      Kalaari Capital Partners, IndigoEdge Managemen...        Series B   \n",
       "4      Alpha Wave Incubation, Exfinity Venture Partne...        Series A   \n",
       "5                             Shadow Holdings, Lightbox.  Debt Financing   \n",
       "\n",
       "      Amount (In USD)  \n",
       "Index                  \n",
       "1           3,000,000  \n",
       "2             370,000  \n",
       "3          15,500,000  \n",
       "4           4,500,000  \n",
       "5      upto 8,900,000  "
      ]
     },
     "execution_count": 123,
     "metadata": {},
     "output_type": "execute_result"
    }
   ],
   "source": [
    "df.head()"
   ]
  },
  {
   "cell_type": "code",
   "execution_count": 124,
   "metadata": {},
   "outputs": [],
   "source": [
    "from datetime import datetime\n",
    "\n",
    "start_=datetime(2020,7,20)\n",
    "end_=datetime(2020,9,20)"
   ]
  },
  {
   "cell_type": "code",
   "execution_count": 125,
   "metadata": {},
   "outputs": [
    {
     "data": {
      "text/plain": [
       "0   2020-07-20\n",
       "1   2020-09-20\n",
       "Name: Date (dd/mm/yyyy), dtype: datetime64[ns]"
      ]
     },
     "execution_count": 125,
     "metadata": {},
     "output_type": "execute_result"
    }
   ],
   "source": [
    "df3=pd.DataFrame()\n",
    "df3['Date (dd/mm/yyyy)']=start_,end_\n",
    "#df2['Date (dd/mm/yyyy)']=pd.to_datetime(df2['Date (dd/mm/yyyy)'])\n",
    "df3['Date (dd/mm/yyyy)']\n"
   ]
  },
  {
   "cell_type": "code",
   "execution_count": 126,
   "metadata": {},
   "outputs": [],
   "source": [
    "def get_index(df,elements):\n",
    "    dff=pd.DataFrame()\n",
    "    col=len(df.columns)\n",
    "    row=len(df)\n",
    "    for i in range(0,row):\n",
    "        for j in range(0,len(elements)):\n",
    "            if(df['Date (dd/mm/yyyy)'][i]==elements[j]):\n",
    "                \n",
    "                print(df.drop(i))\n",
    "            \n",
    "     \n",
    "        \n",
    "    "
   ]
  },
  {
   "cell_type": "code",
   "execution_count": 127,
   "metadata": {},
   "outputs": [
    {
     "data": {
      "text/plain": [
       "[Timestamp('2020-12-09 00:00:00'),\n",
       " Timestamp('2020-02-09 00:00:00'),\n",
       " Timestamp('2020-07-09 00:00:00'),\n",
       " Timestamp('2020-07-09 00:00:00'),\n",
       " Timestamp('2020-03-09 00:00:00'),\n",
       " Timestamp('2020-04-08 00:00:00'),\n",
       " Timestamp('2020-11-08 00:00:00'),\n",
       " Timestamp('2020-12-08 00:00:00'),\n",
       " Timestamp('2020-10-08 00:00:00'),\n",
       " Timestamp('2020-07-08 00:00:00'),\n",
       " Timestamp('2020-07-15 00:00:00'),\n",
       " Timestamp('2020-07-16 00:00:00'),\n",
       " Timestamp('2020-07-16 00:00:00'),\n",
       " Timestamp('2020-07-14 00:00:00'),\n",
       " Timestamp('2020-07-13 00:00:00'),\n",
       " Timestamp('2020-10-07 00:00:00'),\n",
       " Timestamp('2020-07-15 00:00:00'),\n",
       " Timestamp('2020-07-14 00:00:00'),\n",
       " Timestamp('2020-07-13 00:00:00'),\n",
       " Timestamp('2020-06-18 00:00:00')]"
      ]
     },
     "execution_count": 127,
     "metadata": {},
     "output_type": "execute_result"
    }
   ],
   "source": [
    "from datetime import datetime\n",
    "\n",
    "start_=datetime(2020,7,20)\n",
    "end_=datetime(2020,9,20)\n",
    "quarter=[]\n",
    "indx=df['Date (dd/mm/yyyy)']\n",
    "count=0\n",
    "loc=[]\n",
    "for i in df['Date (dd/mm/yyyy)']:\n",
    "    count=count+1\n",
    "    \n",
    "    if(i<df3['Date (dd/mm/yyyy)'][0])or(i>df3['Date (dd/mm/yyyy)'][1]):\n",
    "        #p=df.drop(i,axis=0)\n",
    "        \n",
    "        loc.append(count)\n",
    "        quarter.append(i)\n",
    "quarter"
   ]
  },
  {
   "cell_type": "code",
   "execution_count": 128,
   "metadata": {},
   "outputs": [
    {
     "data": {
      "text/plain": [
       "[1, 3, 5, 6, 9, 13, 14, 15, 17, 18, 20, 21, 22, 23, 24, 26, 27, 28, 29, 30]"
      ]
     },
     "execution_count": 128,
     "metadata": {},
     "output_type": "execute_result"
    }
   ],
   "source": [
    "loc"
   ]
  },
  {
   "cell_type": "markdown",
   "metadata": {},
   "source": [
    "THE DATA FOR (JULY-20)-(SEPTEMBER-20)QUARTER"
   ]
  },
  {
   "cell_type": "code",
   "execution_count": 129,
   "metadata": {},
   "outputs": [
    {
     "data": {
      "text/html": [
       "<div>\n",
       "<style scoped>\n",
       "    .dataframe tbody tr th:only-of-type {\n",
       "        vertical-align: middle;\n",
       "    }\n",
       "\n",
       "    .dataframe tbody tr th {\n",
       "        vertical-align: top;\n",
       "    }\n",
       "\n",
       "    .dataframe thead th {\n",
       "        text-align: right;\n",
       "    }\n",
       "</style>\n",
       "<table border=\"1\" class=\"dataframe\">\n",
       "  <thead>\n",
       "    <tr style=\"text-align: right;\">\n",
       "      <th></th>\n",
       "      <th>Sr. No.</th>\n",
       "      <th>Date (dd/mm/yyyy)</th>\n",
       "      <th>Startup Name</th>\n",
       "      <th>Industry / Vertical</th>\n",
       "      <th>Sub-Vertical</th>\n",
       "      <th>City / Location</th>\n",
       "      <th>Investors' Name</th>\n",
       "      <th>Investment Type</th>\n",
       "      <th>Amount (In USD)</th>\n",
       "    </tr>\n",
       "    <tr>\n",
       "      <th>Index</th>\n",
       "      <th></th>\n",
       "      <th></th>\n",
       "      <th></th>\n",
       "      <th></th>\n",
       "      <th></th>\n",
       "      <th></th>\n",
       "      <th></th>\n",
       "      <th></th>\n",
       "      <th></th>\n",
       "    </tr>\n",
       "  </thead>\n",
       "  <tbody>\n",
       "    <tr>\n",
       "      <th>2</th>\n",
       "      <td>3</td>\n",
       "      <td>2020-09-09</td>\n",
       "      <td>Qshala</td>\n",
       "      <td>EduTech</td>\n",
       "      <td>Online Curiosity Platform for Kids</td>\n",
       "      <td>Bangalore</td>\n",
       "      <td>Rainmatter Capital</td>\n",
       "      <td>Angel</td>\n",
       "      <td>370,000</td>\n",
       "    </tr>\n",
       "    <tr>\n",
       "      <th>4</th>\n",
       "      <td>5</td>\n",
       "      <td>2020-09-09</td>\n",
       "      <td>Hippo Video</td>\n",
       "      <td>Video Customer Experience(CX) Platform</td>\n",
       "      <td>Video Customer Experience(CX) Platform</td>\n",
       "      <td>Newark, Delaware, United States of Amercia</td>\n",
       "      <td>Alpha Wave Incubation, Exfinity Venture Partne...</td>\n",
       "      <td>Series A</td>\n",
       "      <td>4,500,000</td>\n",
       "    </tr>\n",
       "    <tr>\n",
       "      <th>7</th>\n",
       "      <td>8</td>\n",
       "      <td>2020-08-31</td>\n",
       "      <td>mfine</td>\n",
       "      <td>HealthTech</td>\n",
       "      <td>On-Demand Healthcare Services</td>\n",
       "      <td>Bangalore</td>\n",
       "      <td>Caretech Pte Inc</td>\n",
       "      <td>Series B</td>\n",
       "      <td>5,400,000</td>\n",
       "    </tr>\n",
       "    <tr>\n",
       "      <th>8</th>\n",
       "      <td>9</td>\n",
       "      <td>2020-08-31</td>\n",
       "      <td>Apna</td>\n",
       "      <td>Human Resources</td>\n",
       "      <td>Recruitment Platform</td>\n",
       "      <td>Bangalore</td>\n",
       "      <td>Lightspeed India and Sequoia Capital India</td>\n",
       "      <td>Series A</td>\n",
       "      <td>8,000,000</td>\n",
       "    </tr>\n",
       "    <tr>\n",
       "      <th>10</th>\n",
       "      <td>1</td>\n",
       "      <td>2020-08-15</td>\n",
       "      <td>Practo</td>\n",
       "      <td>HealthTech</td>\n",
       "      <td>Health care and Wellness</td>\n",
       "      <td>Bangalore</td>\n",
       "      <td>A1A Company</td>\n",
       "      <td>Series F</td>\n",
       "      <td>32,000,000</td>\n",
       "    </tr>\n",
       "  </tbody>\n",
       "</table>\n",
       "</div>"
      ],
      "text/plain": [
       "      Sr. No. Date (dd/mm/yyyy) Startup Name  \\\n",
       "Index                                          \n",
       "2           3        2020-09-09       Qshala   \n",
       "4           5        2020-09-09  Hippo Video   \n",
       "7           8        2020-08-31        mfine   \n",
       "8           9        2020-08-31         Apna   \n",
       "10          1        2020-08-15       Practo   \n",
       "\n",
       "                          Industry / Vertical  \\\n",
       "Index                                           \n",
       "2                                     EduTech   \n",
       "4      Video Customer Experience(CX) Platform   \n",
       "7                                  HealthTech   \n",
       "8                             Human Resources   \n",
       "10                                 HealthTech   \n",
       "\n",
       "                                 Sub-Vertical  \\\n",
       "Index                                           \n",
       "2          Online Curiosity Platform for Kids   \n",
       "4      Video Customer Experience(CX) Platform   \n",
       "7               On-Demand Healthcare Services   \n",
       "8                        Recruitment Platform   \n",
       "10                   Health care and Wellness   \n",
       "\n",
       "                                  City / Location  \\\n",
       "Index                                               \n",
       "2                                       Bangalore   \n",
       "4      Newark, Delaware, United States of Amercia   \n",
       "7                                       Bangalore   \n",
       "8                                       Bangalore   \n",
       "10                                      Bangalore   \n",
       "\n",
       "                                         Investors' Name Investment Type  \\\n",
       "Index                                                                      \n",
       "2                                     Rainmatter Capital           Angel   \n",
       "4      Alpha Wave Incubation, Exfinity Venture Partne...        Series A   \n",
       "7                                       Caretech Pte Inc        Series B   \n",
       "8             Lightspeed India and Sequoia Capital India        Series A   \n",
       "10                                           A1A Company        Series F   \n",
       "\n",
       "      Amount (In USD)  \n",
       "Index                  \n",
       "2             370,000  \n",
       "4           4,500,000  \n",
       "7           5,400,000  \n",
       "8           8,000,000  \n",
       "10         32,000,000  "
      ]
     },
     "execution_count": 129,
     "metadata": {},
     "output_type": "execute_result"
    }
   ],
   "source": [
    "df=df.drop(loc,axis=0)\n",
    "df.head()"
   ]
  },
  {
   "cell_type": "markdown",
   "metadata": {},
   "source": [
    "QUESTION-7"
   ]
  },
  {
   "cell_type": "code",
   "execution_count": 1,
   "metadata": {},
   "outputs": [],
   "source": [
    "import selenium\n",
    "from selenium import webdriver"
   ]
  },
  {
   "cell_type": "code",
   "execution_count": 2,
   "metadata": {},
   "outputs": [],
   "source": [
    "driver=webdriver.Chrome(r\"C:\\python\\chromedriver\")"
   ]
  },
  {
   "cell_type": "code",
   "execution_count": 3,
   "metadata": {},
   "outputs": [],
   "source": [
    "url='https://www.digit.in/'\n",
    "driver.get(url)"
   ]
  },
  {
   "cell_type": "code",
   "execution_count": 4,
   "metadata": {},
   "outputs": [],
   "source": [
    "driver.maximize_window()"
   ]
  },
  {
   "cell_type": "code",
   "execution_count": 5,
   "metadata": {},
   "outputs": [],
   "source": [
    "laptop=driver.find_element_by_xpath(\"//*[text()='Best Gaming Laptops in India']\")\n",
    "laptop.click()"
   ]
  },
  {
   "cell_type": "code",
   "execution_count": 6,
   "metadata": {},
   "outputs": [],
   "source": [
    "name_el=driver.find_elements_by_xpath(\"//a/h3\")\n",
    "\n"
   ]
  },
  {
   "cell_type": "code",
   "execution_count": 7,
   "metadata": {},
   "outputs": [],
   "source": [
    "def scrape_text(web_el):\n",
    "    \n",
    "    web=[]\n",
    "    for i in web_el:\n",
    "        \n",
    "        web.append(i.text)\n",
    "    return web"
   ]
  },
  {
   "cell_type": "code",
   "execution_count": 8,
   "metadata": {},
   "outputs": [],
   "source": [
    "os_el=driver.find_elements_by_xpath(\"//*[contains(text(),'Windows')]\")"
   ]
  },
  {
   "cell_type": "code",
   "execution_count": 38,
   "metadata": {},
   "outputs": [
    {
     "data": {
      "text/plain": [
       "7"
      ]
     },
     "execution_count": 38,
     "metadata": {},
     "output_type": "execute_result"
    }
   ],
   "source": [
    "name=[]\n",
    "name.extend(scrape_text(name_el))\n",
    "len(name)"
   ]
  },
  {
   "cell_type": "code",
   "execution_count": 10,
   "metadata": {},
   "outputs": [
    {
     "data": {
      "text/plain": [
       "['WINDOWS 10 HOME',\n",
       " 'Windows 10 Home',\n",
       " 'WINDOWS 10 HOME',\n",
       " 'Windows 10 Home',\n",
       " 'WINDOWS 10 HOME',\n",
       " 'Windows 10 Home',\n",
       " 'WINDOWS 10 HOME',\n",
       " 'Windows 10 Home',\n",
       " 'WINDOWS 10 PRO',\n",
       " 'Windows 10 Pro',\n",
       " 'WINDOWS 10',\n",
       " 'Windows 10',\n",
       " 'WINDOWS 10 HOME',\n",
       " 'Windows 10 Home']"
      ]
     },
     "execution_count": 10,
     "metadata": {},
     "output_type": "execute_result"
    }
   ],
   "source": [
    "os1=[]\n",
    "os1.extend(scrape_text(os_el[:14]))\n",
    "os1"
   ]
  },
  {
   "cell_type": "code",
   "execution_count": 35,
   "metadata": {},
   "outputs": [
    {
     "data": {
      "text/plain": [
       "7"
      ]
     },
     "execution_count": 35,
     "metadata": {},
     "output_type": "execute_result"
    }
   ],
   "source": [
    "#filtering the repeating data\n",
    "os=[]\n",
    "length=len(os1)\n",
    "for i in range(0,length,2):\n",
    "    os.append(os1[i])\n",
    "len(os)"
   ]
  },
  {
   "cell_type": "code",
   "execution_count": 43,
   "metadata": {},
   "outputs": [],
   "source": [
    "every_el=driver.find_elements_by_xpath(\"//tr/td\")"
   ]
  },
  {
   "cell_type": "code",
   "execution_count": 51,
   "metadata": {},
   "outputs": [],
   "source": [
    "every_el_=every_el[22:193]"
   ]
  },
  {
   "cell_type": "code",
   "execution_count": 52,
   "metadata": {},
   "outputs": [
    {
     "data": {
      "text/plain": [
       "[':',\n",
       " 'Windows 10 Home',\n",
       " 'Display',\n",
       " ':',\n",
       " '17.3\" (1920 x 1080)',\n",
       " 'Processor',\n",
       " ':',\n",
       " '10th Generation Intel® Core™ i7-10700 | 2.90 GHz',\n",
       " 'Memory',\n",
       " ':',\n",
       " '1 TB SSD/16 GBGB DDR4',\n",
       " 'Weight',\n",
       " ':',\n",
       " '4.1',\n",
       " 'Dimension',\n",
       " ':',\n",
       " '27.65 x 402.6 x 319.14',\n",
       " 'Graphics Processor',\n",
       " ':',\n",
       " 'Intel® UHD Graphics 630',\n",
       " 'OS',\n",
       " ':',\n",
       " 'Windows 10 Home',\n",
       " 'Display',\n",
       " ':',\n",
       " '15.6\" (3840 x 2160)',\n",
       " 'Processor',\n",
       " ':',\n",
       " '10th Generation Intel® Core™ i9-10980HK | NA',\n",
       " 'Memory',\n",
       " ':',\n",
       " '1 TB SSD/16 GBGB DDR4',\n",
       " 'Weight',\n",
       " ':',\n",
       " 'NA',\n",
       " 'Dimension',\n",
       " ':',\n",
       " 'NA',\n",
       " 'Graphics Processor',\n",
       " ':',\n",
       " 'NA',\n",
       " '',\n",
       " 'AVAILABLE',\n",
       " '₹ 319,990',\n",
       " 'BUY NOW',\n",
       " '',\n",
       " 'OS',\n",
       " ':',\n",
       " 'Windows 10 Home',\n",
       " 'Display',\n",
       " ':',\n",
       " '15.6\" (1920 x 1080)',\n",
       " 'Processor',\n",
       " ':',\n",
       " 'AMD Ryzen™ 9 5900HX | 3.3 GHz',\n",
       " 'Memory',\n",
       " ':',\n",
       " '1 TB SSD/16 GBGB DDR4',\n",
       " 'Weight',\n",
       " ':',\n",
       " '2.30',\n",
       " 'Dimension',\n",
       " ':',\n",
       " '35.4 x 25.9 x 2.26',\n",
       " 'Graphics Processor',\n",
       " ':',\n",
       " 'NVIDIA® GeForce RTX™ 3070',\n",
       " '',\n",
       " 'AVAILABLE',\n",
       " '₹ 215,990',\n",
       " 'BUY NOW',\n",
       " '',\n",
       " 'OS',\n",
       " ':',\n",
       " 'Windows 10 Home',\n",
       " 'Display',\n",
       " ':',\n",
       " '14\" (1920 x 1080)',\n",
       " 'Processor',\n",
       " ':',\n",
       " 'AMD 3rd Generation Ryzen 9 | 3.3 GHz',\n",
       " 'Memory',\n",
       " ':',\n",
       " '1 TB SSD/16 GBGB DDR4',\n",
       " 'Weight',\n",
       " ':',\n",
       " '1.65',\n",
       " 'Dimension',\n",
       " ':',\n",
       " '32.5 x 22.1 x 1.8',\n",
       " 'Graphics Processor',\n",
       " ':',\n",
       " 'NVIDIA GeForce RTX 2060',\n",
       " '',\n",
       " 'AVAILABLE',\n",
       " '₹ 164,990',\n",
       " 'BUY NOW',\n",
       " '',\n",
       " 'OS',\n",
       " ':',\n",
       " 'Windows 10 Pro',\n",
       " 'Display',\n",
       " ':',\n",
       " '15.6\" (1920 x 1080)',\n",
       " 'Processor',\n",
       " ':',\n",
       " '10th Generation Intel® Core™ i5-10300H | 2.50 GHz',\n",
       " 'Memory',\n",
       " ':',\n",
       " '1 TB SSD/16 GBGB DDR4',\n",
       " 'Weight',\n",
       " ':',\n",
       " '2.3',\n",
       " 'Dimension',\n",
       " ':',\n",
       " '363.06 x 259.61 x 23.57',\n",
       " 'Graphics Processor',\n",
       " ':',\n",
       " 'NVIDIA® GeForce® GTX 1650 4GB',\n",
       " '',\n",
       " 'AVAILABLE',\n",
       " '₹ 76,988',\n",
       " 'BUY NOW',\n",
       " '',\n",
       " 'OS',\n",
       " ':',\n",
       " 'Windows 10',\n",
       " 'Display',\n",
       " ':',\n",
       " '15.6\" (3840 x 1100)',\n",
       " 'Processor',\n",
       " ':',\n",
       " 'Intel Core i7 10th Gen 10875H | NA',\n",
       " 'Memory',\n",
       " ':',\n",
       " '512 GB SSD/4 GBGB DDR4',\n",
       " 'Weight',\n",
       " ':',\n",
       " '2.4',\n",
       " 'Dimension',\n",
       " ':',\n",
       " '268.30 x 360.00 x 20.90',\n",
       " 'Graphics Processor',\n",
       " ':',\n",
       " 'NVIDIA GeForce RTX 2070 Max-Q',\n",
       " '',\n",
       " 'AVAILABLE',\n",
       " '₹ 185,000',\n",
       " 'BUY NOW',\n",
       " '',\n",
       " 'OS',\n",
       " ':',\n",
       " 'Windows 10 Home',\n",
       " 'Display',\n",
       " ':',\n",
       " '15.6\" (1920 x 1080)',\n",
       " 'Processor',\n",
       " ':',\n",
       " 'AMD Ryzen™ 5-5500U hexa-core | NA',\n",
       " 'Memory',\n",
       " ':',\n",
       " '512 GB SSD/8 GBGB DDR4',\n",
       " 'Weight',\n",
       " ':',\n",
       " '2.15',\n",
       " 'Dimension',\n",
       " ':',\n",
       " '2.29 x 36.3 x 25.4',\n",
       " 'Graphics Processor',\n",
       " ':',\n",
       " 'NVIDIA® GeForce® GTX 1650']"
      ]
     },
     "execution_count": 52,
     "metadata": {},
     "output_type": "execute_result"
    }
   ],
   "source": [
    "unfiltered=[]\n",
    "unfiltered.extend(scrape_text(every_el_))\n",
    "unfiltered\n"
   ]
  },
  {
   "cell_type": "code",
   "execution_count": 53,
   "metadata": {},
   "outputs": [
    {
     "data": {
      "text/plain": [
       "7"
      ]
     },
     "execution_count": 53,
     "metadata": {},
     "output_type": "execute_result"
    }
   ],
   "source": [
    "\n",
    "display=[]\n",
    "processor=[]\n",
    "memory=[]\n",
    "weight=[]\n",
    "dimension=[]\n",
    "processor=[]\n",
    "price=[]\n",
    "g_processor=[]\n",
    "for i in range(0,len(unfiltered)):\n",
    "    if(unfiltered[i]=='Display'):\n",
    "        display.append(unfiltered[i+2])\n",
    "    if(unfiltered[i]=='Processor'):\n",
    "        processor.append(unfiltered[i+2])\n",
    "    if(unfiltered[i]=='Weight'):\n",
    "        weight.append(unfiltered[i+2])\n",
    "    if(unfiltered[i]=='Dimension'):\n",
    "        dimension.append(unfiltered[i+2])\n",
    "    if(unfiltered[i]=='Memory'):\n",
    "        memory.append(unfiltered[i+2])\n",
    "    if(unfiltered[i]=='Price'):\n",
    "        Price.append(unfiltered[i+2])\n",
    "    if(unfiltered[i]=='Graphics Processor'):\n",
    "        g_processor.append(unfiltered[i+2])\n",
    "len(display)"
   ]
  },
  {
   "cell_type": "code",
   "execution_count": 54,
   "metadata": {},
   "outputs": [
    {
     "data": {
      "text/plain": [
       "7"
      ]
     },
     "execution_count": 54,
     "metadata": {},
     "output_type": "execute_result"
    }
   ],
   "source": [
    "len(g_processor)"
   ]
  },
  {
   "cell_type": "code",
   "execution_count": 55,
   "metadata": {},
   "outputs": [
    {
     "data": {
      "text/plain": [
       "['N/A',\n",
       " '₹ 319,990',\n",
       " '₹ 215,990',\n",
       " '₹ 164,990',\n",
       " '₹ 76,988',\n",
       " '₹ 185,000',\n",
       " '₹ 64,370']"
      ]
     },
     "execution_count": 55,
     "metadata": {},
     "output_type": "execute_result"
    }
   ],
   "source": [
    "#scraping price elements\n",
    "price=[]\n",
    "price_el=driver.find_elements_by_xpath(\"//td[@class='smprice']\")\n",
    "price.extend(scrape_text(price_el))\n",
    "price"
   ]
  },
  {
   "cell_type": "code",
   "execution_count": 58,
   "metadata": {},
   "outputs": [
    {
     "data": {
      "text/html": [
       "<div>\n",
       "<style scoped>\n",
       "    .dataframe tbody tr th:only-of-type {\n",
       "        vertical-align: middle;\n",
       "    }\n",
       "\n",
       "    .dataframe tbody tr th {\n",
       "        vertical-align: top;\n",
       "    }\n",
       "\n",
       "    .dataframe thead th {\n",
       "        text-align: right;\n",
       "    }\n",
       "</style>\n",
       "<table border=\"1\" class=\"dataframe\">\n",
       "  <thead>\n",
       "    <tr style=\"text-align: right;\">\n",
       "      <th></th>\n",
       "      <th>MODEL</th>\n",
       "      <th>OS</th>\n",
       "      <th>DISPLAY</th>\n",
       "      <th>PROCESSOR</th>\n",
       "      <th>MEMORY</th>\n",
       "      <th>DIMENSION</th>\n",
       "      <th>WEIGHT</th>\n",
       "      <th>GRAPHICS_PROCESSOR</th>\n",
       "      <th>PRICE</th>\n",
       "    </tr>\n",
       "    <tr>\n",
       "      <th>INDEX</th>\n",
       "      <th></th>\n",
       "      <th></th>\n",
       "      <th></th>\n",
       "      <th></th>\n",
       "      <th></th>\n",
       "      <th></th>\n",
       "      <th></th>\n",
       "      <th></th>\n",
       "      <th></th>\n",
       "    </tr>\n",
       "  </thead>\n",
       "  <tbody>\n",
       "    <tr>\n",
       "      <th>1</th>\n",
       "      <td>ALIENWARE AREA 51M R2</td>\n",
       "      <td>WINDOWS 10 HOME</td>\n",
       "      <td>17.3\" (1920 x 1080)</td>\n",
       "      <td>10th Generation Intel® Core™ i7-10700 | 2.90 GHz</td>\n",
       "      <td>1 TB SSD/16 GBGB DDR4</td>\n",
       "      <td>27.65 x 402.6 x 319.14</td>\n",
       "      <td>4.1</td>\n",
       "      <td>Intel® UHD Graphics 630</td>\n",
       "      <td>N/A</td>\n",
       "    </tr>\n",
       "    <tr>\n",
       "      <th>2</th>\n",
       "      <td>ALIENWARE M15 R3</td>\n",
       "      <td>WINDOWS 10 HOME</td>\n",
       "      <td>15.6\" (3840 x 2160)</td>\n",
       "      <td>10th Generation Intel® Core™ i9-10980HK | NA</td>\n",
       "      <td>1 TB SSD/16 GBGB DDR4</td>\n",
       "      <td>NA</td>\n",
       "      <td>NA</td>\n",
       "      <td>NA</td>\n",
       "      <td>₹ 319,990</td>\n",
       "    </tr>\n",
       "    <tr>\n",
       "      <th>3</th>\n",
       "      <td>ASUS ROG STRIX SCAR 15</td>\n",
       "      <td>WINDOWS 10 HOME</td>\n",
       "      <td>15.6\" (1920 x 1080)</td>\n",
       "      <td>AMD Ryzen™ 9 5900HX | 3.3 GHz</td>\n",
       "      <td>1 TB SSD/16 GBGB DDR4</td>\n",
       "      <td>35.4 x 25.9 x 2.26</td>\n",
       "      <td>2.30</td>\n",
       "      <td>NVIDIA® GeForce RTX™ 3070</td>\n",
       "      <td>₹ 215,990</td>\n",
       "    </tr>\n",
       "    <tr>\n",
       "      <th>4</th>\n",
       "      <td>ASUS ROG ZEPHYRUS G14</td>\n",
       "      <td>WINDOWS 10 HOME</td>\n",
       "      <td>14\" (1920 x 1080)</td>\n",
       "      <td>AMD 3rd Generation Ryzen 9 | 3.3 GHz</td>\n",
       "      <td>1 TB SSD/16 GBGB DDR4</td>\n",
       "      <td>32.5 x 22.1 x 1.8</td>\n",
       "      <td>1.65</td>\n",
       "      <td>NVIDIA GeForce RTX 2060</td>\n",
       "      <td>₹ 164,990</td>\n",
       "    </tr>\n",
       "    <tr>\n",
       "      <th>5</th>\n",
       "      <td>LENOVO LEGION 5I</td>\n",
       "      <td>WINDOWS 10 PRO</td>\n",
       "      <td>15.6\" (1920 x 1080)</td>\n",
       "      <td>10th Generation Intel® Core™ i5-10300H | 2.50 GHz</td>\n",
       "      <td>1 TB SSD/16 GBGB DDR4</td>\n",
       "      <td>363.06 x 259.61 x 23.57</td>\n",
       "      <td>2.3</td>\n",
       "      <td>NVIDIA® GeForce® GTX 1650 4GB</td>\n",
       "      <td>₹ 76,988</td>\n",
       "    </tr>\n",
       "    <tr>\n",
       "      <th>6</th>\n",
       "      <td>ASUS ROG ZEPHYRUS DUO 15</td>\n",
       "      <td>WINDOWS 10</td>\n",
       "      <td>15.6\" (3840 x 1100)</td>\n",
       "      <td>Intel Core i7 10th Gen 10875H | NA</td>\n",
       "      <td>512 GB SSD/4 GBGB DDR4</td>\n",
       "      <td>268.30 x 360.00 x 20.90</td>\n",
       "      <td>2.4</td>\n",
       "      <td>NVIDIA GeForce RTX 2070 Max-Q</td>\n",
       "      <td>₹ 185,000</td>\n",
       "    </tr>\n",
       "    <tr>\n",
       "      <th>7</th>\n",
       "      <td>ACER ASPIRE 7 GAMING</td>\n",
       "      <td>WINDOWS 10 HOME</td>\n",
       "      <td>15.6\" (1920 x 1080)</td>\n",
       "      <td>AMD Ryzen™ 5-5500U hexa-core | NA</td>\n",
       "      <td>512 GB SSD/8 GBGB DDR4</td>\n",
       "      <td>2.29 x 36.3 x 25.4</td>\n",
       "      <td>2.15</td>\n",
       "      <td>NVIDIA® GeForce® GTX 1650</td>\n",
       "      <td>₹ 64,370</td>\n",
       "    </tr>\n",
       "  </tbody>\n",
       "</table>\n",
       "</div>"
      ],
      "text/plain": [
       "                          MODEL               OS              DISPLAY  \\\n",
       "INDEX                                                                   \n",
       "1         ALIENWARE AREA 51M R2  WINDOWS 10 HOME  17.3\" (1920 x 1080)   \n",
       "2              ALIENWARE M15 R3  WINDOWS 10 HOME  15.6\" (3840 x 2160)   \n",
       "3        ASUS ROG STRIX SCAR 15  WINDOWS 10 HOME  15.6\" (1920 x 1080)   \n",
       "4         ASUS ROG ZEPHYRUS G14  WINDOWS 10 HOME    14\" (1920 x 1080)   \n",
       "5              LENOVO LEGION 5I   WINDOWS 10 PRO  15.6\" (1920 x 1080)   \n",
       "6      ASUS ROG ZEPHYRUS DUO 15       WINDOWS 10  15.6\" (3840 x 1100)   \n",
       "7          ACER ASPIRE 7 GAMING  WINDOWS 10 HOME  15.6\" (1920 x 1080)   \n",
       "\n",
       "                                               PROCESSOR  \\\n",
       "INDEX                                                      \n",
       "1       10th Generation Intel® Core™ i7-10700 | 2.90 GHz   \n",
       "2           10th Generation Intel® Core™ i9-10980HK | NA   \n",
       "3                          AMD Ryzen™ 9 5900HX | 3.3 GHz   \n",
       "4                   AMD 3rd Generation Ryzen 9 | 3.3 GHz   \n",
       "5      10th Generation Intel® Core™ i5-10300H | 2.50 GHz   \n",
       "6                     Intel Core i7 10th Gen 10875H | NA   \n",
       "7                      AMD Ryzen™ 5-5500U hexa-core | NA   \n",
       "\n",
       "                       MEMORY                DIMENSION WEIGHT  \\\n",
       "INDEX                                                           \n",
       "1       1 TB SSD/16 GBGB DDR4   27.65 x 402.6 x 319.14    4.1   \n",
       "2       1 TB SSD/16 GBGB DDR4                       NA     NA   \n",
       "3       1 TB SSD/16 GBGB DDR4       35.4 x 25.9 x 2.26   2.30   \n",
       "4       1 TB SSD/16 GBGB DDR4        32.5 x 22.1 x 1.8   1.65   \n",
       "5       1 TB SSD/16 GBGB DDR4  363.06 x 259.61 x 23.57    2.3   \n",
       "6      512 GB SSD/4 GBGB DDR4  268.30 x 360.00 x 20.90    2.4   \n",
       "7      512 GB SSD/8 GBGB DDR4       2.29 x 36.3 x 25.4   2.15   \n",
       "\n",
       "                  GRAPHICS_PROCESSOR      PRICE  \n",
       "INDEX                                            \n",
       "1            Intel® UHD Graphics 630        N/A  \n",
       "2                                 NA  ₹ 319,990  \n",
       "3          NVIDIA® GeForce RTX™ 3070  ₹ 215,990  \n",
       "4            NVIDIA GeForce RTX 2060  ₹ 164,990  \n",
       "5      NVIDIA® GeForce® GTX 1650 4GB   ₹ 76,988  \n",
       "6      NVIDIA GeForce RTX 2070 Max-Q  ₹ 185,000  \n",
       "7          NVIDIA® GeForce® GTX 1650   ₹ 64,370  "
      ]
     },
     "execution_count": 58,
     "metadata": {},
     "output_type": "execute_result"
    }
   ],
   "source": [
    "#fitting the scraped data into dataframe\n",
    "import pandas as pd\n",
    "digit=pd.DataFrame()\n",
    "digit['INDEX']=range(1,len(name)+1)\n",
    "digit['MODEL']=name\n",
    "digit['OS']=os\n",
    "digit['DISPLAY']=display\n",
    "digit['PROCESSOR']=processor\n",
    "digit['MEMORY']=memory\n",
    "digit['DIMENSION']=dimension\n",
    "digit['WEIGHT']=weight\n",
    "digit['GRAPHICS_PROCESSOR']=g_processor\n",
    "digit['PRICE']=price\n",
    "digit.set_index('INDEX',inplace=True)\n",
    "digit\n"
   ]
  },
  {
   "cell_type": "markdown",
   "metadata": {},
   "source": [
    "QUESTION-8"
   ]
  },
  {
   "cell_type": "code",
   "execution_count": 59,
   "metadata": {},
   "outputs": [],
   "source": [
    "import selenium\n",
    "from selenium import webdriver"
   ]
  },
  {
   "cell_type": "code",
   "execution_count": 60,
   "metadata": {},
   "outputs": [],
   "source": [
    "driver=webdriver.Chrome(r\"C:\\python\\chromedriver\")"
   ]
  },
  {
   "cell_type": "code",
   "execution_count": 61,
   "metadata": {},
   "outputs": [],
   "source": [
    "url='https://www.forbes.com/'\n",
    "driver.get(url)"
   ]
  },
  {
   "cell_type": "code",
   "execution_count": 62,
   "metadata": {},
   "outputs": [],
   "source": [
    "driver.maximize_window()"
   ]
  },
  {
   "cell_type": "code",
   "execution_count": 63,
   "metadata": {},
   "outputs": [],
   "source": [
    "def scrape_text(web_el):\n",
    "    list=[]\n",
    "    for i in web_el:\n",
    "        list.append(i.text)\n",
    "    return list\n",
    "    "
   ]
  },
  {
   "cell_type": "code",
   "execution_count": 65,
   "metadata": {},
   "outputs": [],
   "source": [
    "billionaries=driver.find_elements_by_xpath(\"//a[@class='footer__nav-item']\")\n",
    "b_text=scrape_text(billionaries)"
   ]
  },
  {
   "cell_type": "code",
   "execution_count": 67,
   "metadata": {},
   "outputs": [
    {
     "data": {
      "text/plain": [
       "'https://www.forbes.com/worlds-billionaires/'"
      ]
     },
     "execution_count": 67,
     "metadata": {},
     "output_type": "execute_result"
    }
   ],
   "source": [
    "for i in range(0,len(b_text)):\n",
    "    if(b_text[i]=='Billionaires'):\n",
    "        b_url=(billionaries[i].get_attribute('href'))\n",
    "b_url"
   ]
  },
  {
   "cell_type": "code",
   "execution_count": 68,
   "metadata": {},
   "outputs": [],
   "source": [
    "driver.get(b_url)"
   ]
  },
  {
   "cell_type": "code",
   "execution_count": 69,
   "metadata": {},
   "outputs": [],
   "source": [
    "b_url2=driver.find_elements_by_xpath(\"//a[@class='ratio16x9']\")\n",
    "b_url2_=b_url2[0].get_attribute('href')"
   ]
  },
  {
   "cell_type": "code",
   "execution_count": 70,
   "metadata": {},
   "outputs": [],
   "source": [
    "driver.get(b_url2_)"
   ]
  },
  {
   "cell_type": "code",
   "execution_count": 71,
   "metadata": {},
   "outputs": [],
   "source": [
    "rank_el=driver.find_elements_by_xpath(\"//div[@class='rank']\")\n"
   ]
  },
  {
   "cell_type": "code",
   "execution_count": 72,
   "metadata": {},
   "outputs": [],
   "source": [
    "rank=[]\n",
    "rank.extend(scrape_text(rank_el))"
   ]
  },
  {
   "cell_type": "code",
   "execution_count": 75,
   "metadata": {},
   "outputs": [],
   "source": [
    "name=[]\n",
    "name_el=driver.find_elements_by_xpath(\"//div[@class='personName']\")\n",
    "name.extend(scrape_text(name_el))"
   ]
  },
  {
   "cell_type": "code",
   "execution_count": 76,
   "metadata": {},
   "outputs": [
    {
     "data": {
      "text/plain": [
       "200"
      ]
     },
     "execution_count": 76,
     "metadata": {},
     "output_type": "execute_result"
    }
   ],
   "source": [
    "len(name)"
   ]
  },
  {
   "cell_type": "code",
   "execution_count": 77,
   "metadata": {},
   "outputs": [
    {
     "data": {
      "text/plain": [
       "200"
      ]
     },
     "execution_count": 77,
     "metadata": {},
     "output_type": "execute_result"
    }
   ],
   "source": [
    "net_worth=[]\n",
    "worth=driver.find_elements_by_xpath(\"//div[@class='netWorth']\")\n",
    "net_worth.extend(scrape_text(worth))\n",
    "len(net_worth)"
   ]
  },
  {
   "cell_type": "code",
   "execution_count": 78,
   "metadata": {},
   "outputs": [
    {
     "data": {
      "text/plain": [
       "200"
      ]
     },
     "execution_count": 78,
     "metadata": {},
     "output_type": "execute_result"
    }
   ],
   "source": [
    "country=[]\n",
    "cit=driver.find_elements_by_xpath(\"//div[@class='countryOfCitizenship']\")\n",
    "country.extend(scrape_text(cit))\n",
    "len(country)"
   ]
  },
  {
   "cell_type": "code",
   "execution_count": 83,
   "metadata": {},
   "outputs": [
    {
     "data": {
      "text/plain": [
       "['57', '49', '72', '65', '36', '90', '76', '48', '47', '63']"
      ]
     },
     "execution_count": 83,
     "metadata": {},
     "output_type": "execute_result"
    }
   ],
   "source": [
    "age=[]\n",
    "age_el=driver.find_elements_by_xpath(\"//div[@class='age']\")\n",
    "age.extend(scrape_text(age_el))\n",
    "age[:10]"
   ]
  },
  {
   "cell_type": "code",
   "execution_count": 80,
   "metadata": {},
   "outputs": [
    {
     "data": {
      "text/plain": [
       "200"
      ]
     },
     "execution_count": 80,
     "metadata": {},
     "output_type": "execute_result"
    }
   ],
   "source": [
    "source=[]\n",
    "source_el=driver.find_elements_by_xpath(\"//div[@class='source-column']\")\n",
    "source.extend(scrape_text(source_el))\n",
    "len(source)"
   ]
  },
  {
   "cell_type": "code",
   "execution_count": 82,
   "metadata": {},
   "outputs": [
    {
     "data": {
      "text/plain": [
       "200"
      ]
     },
     "execution_count": 82,
     "metadata": {},
     "output_type": "execute_result"
    }
   ],
   "source": [
    "industry=[]\n",
    "ind_el=driver.find_elements_by_xpath(\"//div[@class='category']\")\n",
    "industry.extend(scrape_text(ind_el))\n",
    "len(industry)"
   ]
  },
  {
   "cell_type": "markdown",
   "metadata": {},
   "source": [
    "Fitting the scraped data into DataFrame"
   ]
  },
  {
   "cell_type": "code",
   "execution_count": 84,
   "metadata": {},
   "outputs": [
    {
     "data": {
      "text/html": [
       "<div>\n",
       "<style scoped>\n",
       "    .dataframe tbody tr th:only-of-type {\n",
       "        vertical-align: middle;\n",
       "    }\n",
       "\n",
       "    .dataframe tbody tr th {\n",
       "        vertical-align: top;\n",
       "    }\n",
       "\n",
       "    .dataframe thead th {\n",
       "        text-align: right;\n",
       "    }\n",
       "</style>\n",
       "<table border=\"1\" class=\"dataframe\">\n",
       "  <thead>\n",
       "    <tr style=\"text-align: right;\">\n",
       "      <th></th>\n",
       "      <th>NAME</th>\n",
       "      <th>NET_WORTH</th>\n",
       "      <th>AGE</th>\n",
       "      <th>CITIZENSHIP</th>\n",
       "      <th>SOURCE</th>\n",
       "      <th>INDUSTRY</th>\n",
       "    </tr>\n",
       "    <tr>\n",
       "      <th>RANK</th>\n",
       "      <th></th>\n",
       "      <th></th>\n",
       "      <th></th>\n",
       "      <th></th>\n",
       "      <th></th>\n",
       "      <th></th>\n",
       "    </tr>\n",
       "  </thead>\n",
       "  <tbody>\n",
       "    <tr>\n",
       "      <th>1.</th>\n",
       "      <td>Jeff Bezos</td>\n",
       "      <td>$177 B</td>\n",
       "      <td>57</td>\n",
       "      <td>United States</td>\n",
       "      <td>Amazon</td>\n",
       "      <td>Technology</td>\n",
       "    </tr>\n",
       "    <tr>\n",
       "      <th>2.</th>\n",
       "      <td>Elon Musk</td>\n",
       "      <td>$151 B</td>\n",
       "      <td>49</td>\n",
       "      <td>United States</td>\n",
       "      <td>Tesla, SpaceX</td>\n",
       "      <td>Automotive</td>\n",
       "    </tr>\n",
       "    <tr>\n",
       "      <th>3.</th>\n",
       "      <td>Bernard Arnault &amp; family</td>\n",
       "      <td>$150 B</td>\n",
       "      <td>72</td>\n",
       "      <td>France</td>\n",
       "      <td>LVMH</td>\n",
       "      <td>Fashion &amp; Retail</td>\n",
       "    </tr>\n",
       "    <tr>\n",
       "      <th>4.</th>\n",
       "      <td>Bill Gates</td>\n",
       "      <td>$124 B</td>\n",
       "      <td>65</td>\n",
       "      <td>United States</td>\n",
       "      <td>Microsoft</td>\n",
       "      <td>Technology</td>\n",
       "    </tr>\n",
       "    <tr>\n",
       "      <th>5.</th>\n",
       "      <td>Mark Zuckerberg</td>\n",
       "      <td>$97 B</td>\n",
       "      <td>36</td>\n",
       "      <td>United States</td>\n",
       "      <td>Facebook</td>\n",
       "      <td>Technology</td>\n",
       "    </tr>\n",
       "    <tr>\n",
       "      <th>...</th>\n",
       "      <td>...</td>\n",
       "      <td>...</td>\n",
       "      <td>...</td>\n",
       "      <td>...</td>\n",
       "      <td>...</td>\n",
       "      <td>...</td>\n",
       "    </tr>\n",
       "    <tr>\n",
       "      <th>195.</th>\n",
       "      <td>Harry Triguboff</td>\n",
       "      <td>$11.2 B</td>\n",
       "      <td>88</td>\n",
       "      <td>Australia</td>\n",
       "      <td>real estate</td>\n",
       "      <td>Real Estate</td>\n",
       "    </tr>\n",
       "    <tr>\n",
       "      <th>197.</th>\n",
       "      <td>Leonid Fedun &amp; family</td>\n",
       "      <td>$11.1 B</td>\n",
       "      <td>65</td>\n",
       "      <td>Russia</td>\n",
       "      <td>oil</td>\n",
       "      <td>Energy</td>\n",
       "    </tr>\n",
       "    <tr>\n",
       "      <th>197.</th>\n",
       "      <td>Eyal Ofer</td>\n",
       "      <td>$11.1 B</td>\n",
       "      <td>70</td>\n",
       "      <td>Israel</td>\n",
       "      <td>real estate, shipping</td>\n",
       "      <td>Diversified</td>\n",
       "    </tr>\n",
       "    <tr>\n",
       "      <th>197.</th>\n",
       "      <td>Evan Spiegel</td>\n",
       "      <td>$11.1 B</td>\n",
       "      <td>30</td>\n",
       "      <td>United States</td>\n",
       "      <td>Snapchat</td>\n",
       "      <td>Technology</td>\n",
       "    </tr>\n",
       "    <tr>\n",
       "      <th>200.</th>\n",
       "      <td>Luis Carlos Sarmiento</td>\n",
       "      <td>$11 B</td>\n",
       "      <td>88</td>\n",
       "      <td>Colombia</td>\n",
       "      <td>banking</td>\n",
       "      <td>Finance &amp; Investments</td>\n",
       "    </tr>\n",
       "  </tbody>\n",
       "</table>\n",
       "<p>200 rows × 6 columns</p>\n",
       "</div>"
      ],
      "text/plain": [
       "                          NAME NET_WORTH AGE    CITIZENSHIP  \\\n",
       "RANK                                                          \n",
       "1.                  Jeff Bezos    $177 B  57  United States   \n",
       "2.                   Elon Musk    $151 B  49  United States   \n",
       "3.    Bernard Arnault & family    $150 B  72         France   \n",
       "4.                  Bill Gates    $124 B  65  United States   \n",
       "5.             Mark Zuckerberg     $97 B  36  United States   \n",
       "...                        ...       ...  ..            ...   \n",
       "195.           Harry Triguboff   $11.2 B  88      Australia   \n",
       "197.     Leonid Fedun & family   $11.1 B  65         Russia   \n",
       "197.                 Eyal Ofer   $11.1 B  70         Israel   \n",
       "197.              Evan Spiegel   $11.1 B  30  United States   \n",
       "200.     Luis Carlos Sarmiento     $11 B  88       Colombia   \n",
       "\n",
       "                     SOURCE               INDUSTRY  \n",
       "RANK                                                \n",
       "1.                   Amazon             Technology  \n",
       "2.            Tesla, SpaceX             Automotive  \n",
       "3.                     LVMH       Fashion & Retail  \n",
       "4.                Microsoft             Technology  \n",
       "5.                 Facebook             Technology  \n",
       "...                     ...                    ...  \n",
       "195.            real estate            Real Estate  \n",
       "197.                    oil                 Energy  \n",
       "197.  real estate, shipping            Diversified  \n",
       "197.               Snapchat             Technology  \n",
       "200.                banking  Finance & Investments  \n",
       "\n",
       "[200 rows x 6 columns]"
      ]
     },
     "execution_count": 84,
     "metadata": {},
     "output_type": "execute_result"
    }
   ],
   "source": [
    "import pandas as pd\n",
    "bill=pd.DataFrame()\n",
    "bill['RANK']=rank\n",
    "bill['NAME']=name\n",
    "bill['NET_WORTH']=net_worth\n",
    "bill['AGE']=age\n",
    "bill['CITIZENSHIP']=country\n",
    "bill['SOURCE']=source\n",
    "bill['INDUSTRY']=industry\n",
    "bill.set_index('RANK',inplace=True)\n",
    "bill"
   ]
  },
  {
   "cell_type": "markdown",
   "metadata": {},
   "source": [
    "QUESTION-9"
   ]
  },
  {
   "cell_type": "code",
   "execution_count": 146,
   "metadata": {},
   "outputs": [],
   "source": [
    "import selenium\n",
    "from selenium import webdriver"
   ]
  },
  {
   "cell_type": "code",
   "execution_count": 197,
   "metadata": {},
   "outputs": [],
   "source": [
    "driver=webdriver.Chrome(r\"C:\\python\\chromedriver\")"
   ]
  },
  {
   "cell_type": "code",
   "execution_count": 198,
   "metadata": {},
   "outputs": [],
   "source": [
    "url='https://www.youtube.com/'\n",
    "driver.get(url)"
   ]
  },
  {
   "cell_type": "code",
   "execution_count": 199,
   "metadata": {},
   "outputs": [],
   "source": [
    "driver.maximize_window()"
   ]
  },
  {
   "cell_type": "code",
   "execution_count": 200,
   "metadata": {},
   "outputs": [
    {
     "data": {
      "text/plain": [
       "64"
      ]
     },
     "execution_count": 200,
     "metadata": {},
     "output_type": "execute_result"
    }
   ],
   "source": [
    "video_el=driver.find_elements_by_xpath(\"//a[@class='yt-simple-endpoint style-scope ytd-rich-grid-media']\")\n",
    "len(video_el)"
   ]
  },
  {
   "cell_type": "code",
   "execution_count": 201,
   "metadata": {},
   "outputs": [
    {
     "data": {
      "text/plain": [
       "64"
      ]
     },
     "execution_count": 201,
     "metadata": {},
     "output_type": "execute_result"
    }
   ],
   "source": [
    "video_urls=[]\n",
    "for i in video_el:\n",
    "    video_urls.append(i.get_attribute('href'))\n",
    "len(video_urls)"
   ]
  },
  {
   "cell_type": "code",
   "execution_count": 202,
   "metadata": {},
   "outputs": [
    {
     "data": {
      "text/plain": [
       "32"
      ]
     },
     "execution_count": 202,
     "metadata": {},
     "output_type": "execute_result"
    }
   ],
   "source": [
    "urls=[]\n",
    "for i in range(1,len(video_urls),2):\n",
    "    urls.append(video_urls[i])\n",
    "len(urls)"
   ]
  },
  {
   "cell_type": "code",
   "execution_count": 203,
   "metadata": {},
   "outputs": [
    {
     "name": "stdout",
     "output_type": "stream",
     "text": [
      "Enter the video number you want to watch in the range of 0 to:  32\n",
      "0\n"
     ]
    }
   ],
   "source": [
    "print(\"Enter the video number you want to watch in the range of 0 to: \",len(urls))\n",
    "num=int(input())"
   ]
  },
  {
   "cell_type": "code",
   "execution_count": 204,
   "metadata": {},
   "outputs": [],
   "source": [
    "driver.get(urls[num])"
   ]
  },
  {
   "cell_type": "code",
   "execution_count": 205,
   "metadata": {},
   "outputs": [],
   "source": [
    "import time"
   ]
  },
  {
   "cell_type": "code",
   "execution_count": 206,
   "metadata": {},
   "outputs": [],
   "source": [
    "def scrape_500(xpath):\n",
    "    elements=[]\n",
    "    while(len(elements)<=500):\n",
    "        \n",
    "        driver.execute_script(\"window.scrollBy(0,500)\",\"\")\n",
    "        time.sleep(3)\n",
    "        elements=driver.find_elements_by_xpath(xpath)\n",
    "    return elements\n",
    "    "
   ]
  },
  {
   "cell_type": "code",
   "execution_count": 207,
   "metadata": {},
   "outputs": [
    {
     "data": {
      "text/plain": [
       "520"
      ]
     },
     "execution_count": 207,
     "metadata": {},
     "output_type": "execute_result"
    }
   ],
   "source": [
    "comment_el=scrape_500(\"//yt-formatted-string[@id='content-text']\")\n",
    "len(comment_el)"
   ]
  },
  {
   "cell_type": "code",
   "execution_count": 209,
   "metadata": {},
   "outputs": [
    {
     "data": {
      "text/plain": [
       "520"
      ]
     },
     "execution_count": 209,
     "metadata": {},
     "output_type": "execute_result"
    }
   ],
   "source": [
    "#since the page was scrolled down,we dont have to scroll it again\n",
    "vote=[]\n",
    "vote_el=driver.find_elements_by_xpath(\"//span[@id='vote-count-middle']\")\n",
    "for i in vote_el:\n",
    "    vote.append(i.text)\n",
    "len(vote)"
   ]
  },
  {
   "cell_type": "code",
   "execution_count": 210,
   "metadata": {},
   "outputs": [
    {
     "data": {
      "text/plain": [
       "520"
      ]
     },
     "execution_count": 210,
     "metadata": {},
     "output_type": "execute_result"
    }
   ],
   "source": [
    "time=[]\n",
    "time_el=driver.find_elements_by_xpath(\"//yt-formatted-string[@class='published-time-text above-comment style-scope ytd-comment-renderer']\")\n",
    "for i in time_el:\n",
    "    time.append(i.text)\n",
    "len(time)"
   ]
  },
  {
   "cell_type": "code",
   "execution_count": 217,
   "metadata": {},
   "outputs": [
    {
     "data": {
      "text/plain": [
       "520"
      ]
     },
     "execution_count": 217,
     "metadata": {},
     "output_type": "execute_result"
    }
   ],
   "source": [
    "comments=[]\n",
    "for i in comment_el:\n",
    "    comments.append(i.text)\n",
    "len(comments)"
   ]
  },
  {
   "cell_type": "code",
   "execution_count": 219,
   "metadata": {},
   "outputs": [
    {
     "data": {
      "text/plain": [
       "['It looks best because of true 60 fps',\n",
       " 'Hatsoff badshah who wearing jacket in desert😂😂',\n",
       " 'Badshah is the only person who wears jacket in desert 😂🤣😂🤣',\n",
       " \"Let's pray for those child who don't have his parent those are ledends\",\n",
       " 'Daily I lesson ths song',\n",
       " 'Beachside Sea Waves - Seashore 4K Ultra HD Dolby Digital:\\n\\nhttps://youtu.be/bdrWtrui1y8',\n",
       " 'Gian and Shizuka 🤣🤣🤣',\n",
       " 'Headphone 🎧\\nHigh volume 🔊\\nBroken heart💔\\nRemember old memories 😔',\n",
       " 'Jaquelin is another Horse😍',\n",
       " 'Bhai, itni drugs logey toh sab paani hona hi tha....😂😂']"
      ]
     },
     "execution_count": 219,
     "metadata": {},
     "output_type": "execute_result"
    }
   ],
   "source": [
    "comments[:10]"
   ]
  },
  {
   "cell_type": "code",
   "execution_count": 220,
   "metadata": {},
   "outputs": [
    {
     "data": {
      "text/html": [
       "<div>\n",
       "<style scoped>\n",
       "    .dataframe tbody tr th:only-of-type {\n",
       "        vertical-align: middle;\n",
       "    }\n",
       "\n",
       "    .dataframe tbody tr th {\n",
       "        vertical-align: top;\n",
       "    }\n",
       "\n",
       "    .dataframe thead th {\n",
       "        text-align: right;\n",
       "    }\n",
       "</style>\n",
       "<table border=\"1\" class=\"dataframe\">\n",
       "  <thead>\n",
       "    <tr style=\"text-align: right;\">\n",
       "      <th></th>\n",
       "      <th>COMMENT</th>\n",
       "      <th>UPVOTES</th>\n",
       "      <th>TIME</th>\n",
       "    </tr>\n",
       "    <tr>\n",
       "      <th>INDEX</th>\n",
       "      <th></th>\n",
       "      <th></th>\n",
       "      <th></th>\n",
       "    </tr>\n",
       "  </thead>\n",
       "  <tbody>\n",
       "    <tr>\n",
       "      <th>1</th>\n",
       "      <td>It looks best because of true 60 fps</td>\n",
       "      <td>3</td>\n",
       "      <td>1 week ago</td>\n",
       "    </tr>\n",
       "    <tr>\n",
       "      <th>2</th>\n",
       "      <td>Hatsoff badshah who wearing jacket in desert😂😂</td>\n",
       "      <td>75</td>\n",
       "      <td>1 month ago</td>\n",
       "    </tr>\n",
       "    <tr>\n",
       "      <th>3</th>\n",
       "      <td>Badshah is the only person who wears jacket in...</td>\n",
       "      <td>93</td>\n",
       "      <td>3 weeks ago</td>\n",
       "    </tr>\n",
       "    <tr>\n",
       "      <th>4</th>\n",
       "      <td>Let's pray for those child who don't have his ...</td>\n",
       "      <td>25</td>\n",
       "      <td>1 week ago</td>\n",
       "    </tr>\n",
       "    <tr>\n",
       "      <th>5</th>\n",
       "      <td>Daily I lesson ths song</td>\n",
       "      <td></td>\n",
       "      <td>16 hours ago</td>\n",
       "    </tr>\n",
       "    <tr>\n",
       "      <th>...</th>\n",
       "      <td>...</td>\n",
       "      <td>...</td>\n",
       "      <td>...</td>\n",
       "    </tr>\n",
       "    <tr>\n",
       "      <th>496</th>\n",
       "      <td>Pani pani</td>\n",
       "      <td></td>\n",
       "      <td>1 week ago</td>\n",
       "    </tr>\n",
       "    <tr>\n",
       "      <th>497</th>\n",
       "      <td>Nice song 😍😍😍</td>\n",
       "      <td>3</td>\n",
       "      <td>3 weeks ago</td>\n",
       "    </tr>\n",
       "    <tr>\n",
       "      <th>498</th>\n",
       "      <td>Worst song 🎵</td>\n",
       "      <td></td>\n",
       "      <td>2 weeks ago</td>\n",
       "    </tr>\n",
       "    <tr>\n",
       "      <th>499</th>\n",
       "      <td>The</td>\n",
       "      <td></td>\n",
       "      <td>1 week ago</td>\n",
       "    </tr>\n",
       "    <tr>\n",
       "      <th>500</th>\n",
       "      <td>Rahul Gandhi is not a politician and badshaah ...</td>\n",
       "      <td></td>\n",
       "      <td>2 days ago</td>\n",
       "    </tr>\n",
       "  </tbody>\n",
       "</table>\n",
       "<p>500 rows × 3 columns</p>\n",
       "</div>"
      ],
      "text/plain": [
       "                                                 COMMENT UPVOTES          TIME\n",
       "INDEX                                                                         \n",
       "1                   It looks best because of true 60 fps       3    1 week ago\n",
       "2         Hatsoff badshah who wearing jacket in desert😂😂      75   1 month ago\n",
       "3      Badshah is the only person who wears jacket in...      93   3 weeks ago\n",
       "4      Let's pray for those child who don't have his ...      25    1 week ago\n",
       "5                                Daily I lesson ths song          16 hours ago\n",
       "...                                                  ...     ...           ...\n",
       "496                                            Pani pani            1 week ago\n",
       "497                                        Nice song 😍😍😍       3   3 weeks ago\n",
       "498                                         Worst song 🎵           2 weeks ago\n",
       "499                                                  The            1 week ago\n",
       "500    Rahul Gandhi is not a politician and badshaah ...            2 days ago\n",
       "\n",
       "[500 rows x 3 columns]"
      ]
     },
     "execution_count": 220,
     "metadata": {},
     "output_type": "execute_result"
    }
   ],
   "source": [
    "#fitting scraped data into dataframe\n",
    "import pandas as pd\n",
    "comment=pd.DataFrame()\n",
    "comment['INDEX']=range(1,501)\n",
    "comment['COMMENT']=comments[:500]\n",
    "comment['UPVOTES']=vote[:500]\n",
    "comment['TIME']=time[:500]\n",
    "comment.set_index('INDEX',inplace=True)\n",
    "comment"
   ]
  },
  {
   "cell_type": "markdown",
   "metadata": {},
   "source": [
    "THE FINAL DATAFRAME WITH ALL THE REQUIRED DATA"
   ]
  },
  {
   "cell_type": "markdown",
   "metadata": {},
   "source": [
    "QUESTION-10"
   ]
  },
  {
   "cell_type": "code",
   "execution_count": 221,
   "metadata": {},
   "outputs": [],
   "source": [
    "import selenium\n",
    "from selenium import webdriver"
   ]
  },
  {
   "cell_type": "code",
   "execution_count": 418,
   "metadata": {},
   "outputs": [],
   "source": [
    "driver=webdriver.Chrome(r\"C:\\python\\chromedriver\")"
   ]
  },
  {
   "cell_type": "code",
   "execution_count": 419,
   "metadata": {},
   "outputs": [],
   "source": [
    "url='https://www.hostelworld.com/'\n",
    "driver.get(url)"
   ]
  },
  {
   "cell_type": "code",
   "execution_count": 420,
   "metadata": {},
   "outputs": [],
   "source": [
    "driver.maximize_window()"
   ]
  },
  {
   "cell_type": "code",
   "execution_count": 421,
   "metadata": {},
   "outputs": [],
   "source": [
    "search_column=driver.find_element_by_xpath(\"//input[@type='text']\")\n"
   ]
  },
  {
   "cell_type": "code",
   "execution_count": 422,
   "metadata": {},
   "outputs": [],
   "source": [
    "search_column.send_keys(\"london\")"
   ]
  },
  {
   "cell_type": "code",
   "execution_count": 373,
   "metadata": {},
   "outputs": [],
   "source": [
    "from selenium.webdriver.common.keys import Keys"
   ]
  },
  {
   "cell_type": "code",
   "execution_count": 423,
   "metadata": {},
   "outputs": [],
   "source": [
    "search_btn=driver.find_element_by_xpath(\"//button[@id='search-button']\")\n"
   ]
  },
  {
   "cell_type": "code",
   "execution_count": 403,
   "metadata": {},
   "outputs": [],
   "source": [
    "search_btn.send_keys(Keys.ENTER)"
   ]
  },
  {
   "cell_type": "code",
   "execution_count": 424,
   "metadata": {},
   "outputs": [
    {
     "ename": "ElementClickInterceptedException",
     "evalue": "Message: element click intercepted: Element <button id=\"search-button\" title=\"...\" class=\"button primary large\" data-v-184ab25e=\"\" data-v-090ebbfd=\"\">Let's go!</button> is not clickable at point (631, 545). Other element would receive the click: <li data-v-50946134=\"\" tabindex=\"-1\">...</li>\n  (Session info: chrome=94.0.4606.61)\n",
     "output_type": "error",
     "traceback": [
      "\u001b[1;31m---------------------------------------------------------------------------\u001b[0m",
      "\u001b[1;31mElementClickInterceptedException\u001b[0m          Traceback (most recent call last)",
      "\u001b[1;32m<ipython-input-424-de9dba617963>\u001b[0m in \u001b[0;36m<module>\u001b[1;34m\u001b[0m\n\u001b[1;32m----> 1\u001b[1;33m \u001b[0msearch_btn\u001b[0m\u001b[1;33m.\u001b[0m\u001b[0mclick\u001b[0m\u001b[1;33m(\u001b[0m\u001b[1;33m)\u001b[0m\u001b[1;33m\u001b[0m\u001b[1;33m\u001b[0m\u001b[0m\n\u001b[0m",
      "\u001b[1;32m~\\anaconda3\\lib\\site-packages\\selenium\\webdriver\\remote\\webelement.py\u001b[0m in \u001b[0;36mclick\u001b[1;34m(self)\u001b[0m\n\u001b[0;32m     78\u001b[0m     \u001b[1;32mdef\u001b[0m \u001b[0mclick\u001b[0m\u001b[1;33m(\u001b[0m\u001b[0mself\u001b[0m\u001b[1;33m)\u001b[0m\u001b[1;33m:\u001b[0m\u001b[1;33m\u001b[0m\u001b[1;33m\u001b[0m\u001b[0m\n\u001b[0;32m     79\u001b[0m         \u001b[1;34m\"\"\"Clicks the element.\"\"\"\u001b[0m\u001b[1;33m\u001b[0m\u001b[1;33m\u001b[0m\u001b[0m\n\u001b[1;32m---> 80\u001b[1;33m         \u001b[0mself\u001b[0m\u001b[1;33m.\u001b[0m\u001b[0m_execute\u001b[0m\u001b[1;33m(\u001b[0m\u001b[0mCommand\u001b[0m\u001b[1;33m.\u001b[0m\u001b[0mCLICK_ELEMENT\u001b[0m\u001b[1;33m)\u001b[0m\u001b[1;33m\u001b[0m\u001b[1;33m\u001b[0m\u001b[0m\n\u001b[0m\u001b[0;32m     81\u001b[0m \u001b[1;33m\u001b[0m\u001b[0m\n\u001b[0;32m     82\u001b[0m     \u001b[1;32mdef\u001b[0m \u001b[0msubmit\u001b[0m\u001b[1;33m(\u001b[0m\u001b[0mself\u001b[0m\u001b[1;33m)\u001b[0m\u001b[1;33m:\u001b[0m\u001b[1;33m\u001b[0m\u001b[1;33m\u001b[0m\u001b[0m\n",
      "\u001b[1;32m~\\anaconda3\\lib\\site-packages\\selenium\\webdriver\\remote\\webelement.py\u001b[0m in \u001b[0;36m_execute\u001b[1;34m(self, command, params)\u001b[0m\n\u001b[0;32m    631\u001b[0m             \u001b[0mparams\u001b[0m \u001b[1;33m=\u001b[0m \u001b[1;33m{\u001b[0m\u001b[1;33m}\u001b[0m\u001b[1;33m\u001b[0m\u001b[1;33m\u001b[0m\u001b[0m\n\u001b[0;32m    632\u001b[0m         \u001b[0mparams\u001b[0m\u001b[1;33m[\u001b[0m\u001b[1;34m'id'\u001b[0m\u001b[1;33m]\u001b[0m \u001b[1;33m=\u001b[0m \u001b[0mself\u001b[0m\u001b[1;33m.\u001b[0m\u001b[0m_id\u001b[0m\u001b[1;33m\u001b[0m\u001b[1;33m\u001b[0m\u001b[0m\n\u001b[1;32m--> 633\u001b[1;33m         \u001b[1;32mreturn\u001b[0m \u001b[0mself\u001b[0m\u001b[1;33m.\u001b[0m\u001b[0m_parent\u001b[0m\u001b[1;33m.\u001b[0m\u001b[0mexecute\u001b[0m\u001b[1;33m(\u001b[0m\u001b[0mcommand\u001b[0m\u001b[1;33m,\u001b[0m \u001b[0mparams\u001b[0m\u001b[1;33m)\u001b[0m\u001b[1;33m\u001b[0m\u001b[1;33m\u001b[0m\u001b[0m\n\u001b[0m\u001b[0;32m    634\u001b[0m \u001b[1;33m\u001b[0m\u001b[0m\n\u001b[0;32m    635\u001b[0m     \u001b[1;32mdef\u001b[0m \u001b[0mfind_element\u001b[0m\u001b[1;33m(\u001b[0m\u001b[0mself\u001b[0m\u001b[1;33m,\u001b[0m \u001b[0mby\u001b[0m\u001b[1;33m=\u001b[0m\u001b[0mBy\u001b[0m\u001b[1;33m.\u001b[0m\u001b[0mID\u001b[0m\u001b[1;33m,\u001b[0m \u001b[0mvalue\u001b[0m\u001b[1;33m=\u001b[0m\u001b[1;32mNone\u001b[0m\u001b[1;33m)\u001b[0m\u001b[1;33m:\u001b[0m\u001b[1;33m\u001b[0m\u001b[1;33m\u001b[0m\u001b[0m\n",
      "\u001b[1;32m~\\anaconda3\\lib\\site-packages\\selenium\\webdriver\\remote\\webdriver.py\u001b[0m in \u001b[0;36mexecute\u001b[1;34m(self, driver_command, params)\u001b[0m\n\u001b[0;32m    319\u001b[0m         \u001b[0mresponse\u001b[0m \u001b[1;33m=\u001b[0m \u001b[0mself\u001b[0m\u001b[1;33m.\u001b[0m\u001b[0mcommand_executor\u001b[0m\u001b[1;33m.\u001b[0m\u001b[0mexecute\u001b[0m\u001b[1;33m(\u001b[0m\u001b[0mdriver_command\u001b[0m\u001b[1;33m,\u001b[0m \u001b[0mparams\u001b[0m\u001b[1;33m)\u001b[0m\u001b[1;33m\u001b[0m\u001b[1;33m\u001b[0m\u001b[0m\n\u001b[0;32m    320\u001b[0m         \u001b[1;32mif\u001b[0m \u001b[0mresponse\u001b[0m\u001b[1;33m:\u001b[0m\u001b[1;33m\u001b[0m\u001b[1;33m\u001b[0m\u001b[0m\n\u001b[1;32m--> 321\u001b[1;33m             \u001b[0mself\u001b[0m\u001b[1;33m.\u001b[0m\u001b[0merror_handler\u001b[0m\u001b[1;33m.\u001b[0m\u001b[0mcheck_response\u001b[0m\u001b[1;33m(\u001b[0m\u001b[0mresponse\u001b[0m\u001b[1;33m)\u001b[0m\u001b[1;33m\u001b[0m\u001b[1;33m\u001b[0m\u001b[0m\n\u001b[0m\u001b[0;32m    322\u001b[0m             response['value'] = self._unwrap_value(\n\u001b[0;32m    323\u001b[0m                 response.get('value', None))\n",
      "\u001b[1;32m~\\anaconda3\\lib\\site-packages\\selenium\\webdriver\\remote\\errorhandler.py\u001b[0m in \u001b[0;36mcheck_response\u001b[1;34m(self, response)\u001b[0m\n\u001b[0;32m    240\u001b[0m                 \u001b[0malert_text\u001b[0m \u001b[1;33m=\u001b[0m \u001b[0mvalue\u001b[0m\u001b[1;33m[\u001b[0m\u001b[1;34m'alert'\u001b[0m\u001b[1;33m]\u001b[0m\u001b[1;33m.\u001b[0m\u001b[0mget\u001b[0m\u001b[1;33m(\u001b[0m\u001b[1;34m'text'\u001b[0m\u001b[1;33m)\u001b[0m\u001b[1;33m\u001b[0m\u001b[1;33m\u001b[0m\u001b[0m\n\u001b[0;32m    241\u001b[0m             \u001b[1;32mraise\u001b[0m \u001b[0mexception_class\u001b[0m\u001b[1;33m(\u001b[0m\u001b[0mmessage\u001b[0m\u001b[1;33m,\u001b[0m \u001b[0mscreen\u001b[0m\u001b[1;33m,\u001b[0m \u001b[0mstacktrace\u001b[0m\u001b[1;33m,\u001b[0m \u001b[0malert_text\u001b[0m\u001b[1;33m)\u001b[0m\u001b[1;33m\u001b[0m\u001b[1;33m\u001b[0m\u001b[0m\n\u001b[1;32m--> 242\u001b[1;33m         \u001b[1;32mraise\u001b[0m \u001b[0mexception_class\u001b[0m\u001b[1;33m(\u001b[0m\u001b[0mmessage\u001b[0m\u001b[1;33m,\u001b[0m \u001b[0mscreen\u001b[0m\u001b[1;33m,\u001b[0m \u001b[0mstacktrace\u001b[0m\u001b[1;33m)\u001b[0m\u001b[1;33m\u001b[0m\u001b[1;33m\u001b[0m\u001b[0m\n\u001b[0m\u001b[0;32m    243\u001b[0m \u001b[1;33m\u001b[0m\u001b[0m\n\u001b[0;32m    244\u001b[0m     \u001b[1;32mdef\u001b[0m \u001b[0m_value_or_default\u001b[0m\u001b[1;33m(\u001b[0m\u001b[0mself\u001b[0m\u001b[1;33m,\u001b[0m \u001b[0mobj\u001b[0m\u001b[1;33m,\u001b[0m \u001b[0mkey\u001b[0m\u001b[1;33m,\u001b[0m \u001b[0mdefault\u001b[0m\u001b[1;33m)\u001b[0m\u001b[1;33m:\u001b[0m\u001b[1;33m\u001b[0m\u001b[1;33m\u001b[0m\u001b[0m\n",
      "\u001b[1;31mElementClickInterceptedException\u001b[0m: Message: element click intercepted: Element <button id=\"search-button\" title=\"...\" class=\"button primary large\" data-v-184ab25e=\"\" data-v-090ebbfd=\"\">Let's go!</button> is not clickable at point (631, 545). Other element would receive the click: <li data-v-50946134=\"\" tabindex=\"-1\">...</li>\n  (Session info: chrome=94.0.4606.61)\n"
     ]
    }
   ],
   "source": [
    "search_btn.click()"
   ]
  },
  {
   "cell_type": "code",
   "execution_count": 427,
   "metadata": {},
   "outputs": [],
   "source": [
    "#search button malfunctioning(its working sometimes and sometimes it isnt)\n",
    "london_hostels=driver.find_elements_by_xpath(\"//div[@class='card']/a\")\n",
    "london=london_hostels[7].get_attribute('href')"
   ]
  },
  {
   "cell_type": "code",
   "execution_count": 428,
   "metadata": {},
   "outputs": [],
   "source": [
    "driver.get(london)"
   ]
  },
  {
   "cell_type": "code",
   "execution_count": 456,
   "metadata": {},
   "outputs": [],
   "source": [
    "#scraping urls for search results\n",
    "def scrape_urls(xpath):\n",
    "    \n",
    "    url_el=driver.find_elements_by_xpath(xpath)\n",
    "    urls=[]\n",
    "    for i in url_el:\n",
    "        urls.append(i.get_attribute('href'))\n",
    "    return urls"
   ]
  },
  {
   "cell_type": "code",
   "execution_count": 430,
   "metadata": {},
   "outputs": [],
   "source": [
    "def get_text(web_el):\n",
    "    list=[]\n",
    "    for i in web_el:\n",
    "        list.append(i.text)\n",
    "    return list\n",
    "        "
   ]
  },
  {
   "cell_type": "code",
   "execution_count": 457,
   "metadata": {},
   "outputs": [],
   "source": [
    "#scraping distance from city centre\n",
    "def calc_dist(xpath):\n",
    "    \n",
    "    dist_el=driver.find_elements_by_xpath(xpath)\n",
    "    distance=[]\n",
    "    distance.extend(get_text(dist_el))\n",
    "    return distance"
   ]
  },
  {
   "cell_type": "code",
   "execution_count": 432,
   "metadata": {},
   "outputs": [
    {
     "data": {
      "text/plain": [
       "0"
      ]
     },
     "execution_count": 432,
     "metadata": {},
     "output_type": "execute_result"
    }
   ],
   "source": [
    "len(distance)"
   ]
  },
  {
   "cell_type": "code",
   "execution_count": 454,
   "metadata": {},
   "outputs": [],
   "source": [
    "#scraping hostel name\n",
    "def scrape_names(xpath):\n",
    "    \n",
    "    name_el=driver.find_elements_by_xpath(xpath)\n",
    "    name=[]\n",
    "    name.extend(get_text(name_el))\n",
    "    return name"
   ]
  },
  {
   "cell_type": "code",
   "execution_count": 434,
   "metadata": {},
   "outputs": [],
   "source": [
    "#scraping the ratings\n",
    "def scrape_rating():\n",
    "    \n",
    "    rating=[]\n",
    "    try:\n",
    "        rating_el=driver.find_elements_by_xpath(\"//div[@class='score orange big']\")\n",
    "        rating.append(rating_el[0].text)\n",
    "    except:\n",
    "        rating.append(\"--\")\n",
    "    return rating"
   ]
  },
  {
   "cell_type": "code",
   "execution_count": 435,
   "metadata": {},
   "outputs": [],
   "source": [
    "def scrape_total_rev():\n",
    "    reviews=[]\n",
    "    try:\n",
    "        rev_el=driver.find_elements_by_xpath(\"//div[@class='reviews']\")\n",
    "        reviews.append(rev_el[0].text)\n",
    "    except:\n",
    "        reviews.append(\"--\")\n",
    "    return reviews\n",
    "        "
   ]
  },
  {
   "cell_type": "code",
   "execution_count": 436,
   "metadata": {},
   "outputs": [],
   "source": [
    "def overall_rev():\n",
    "    overall=[]\n",
    "    try:\n",
    "        overall_=driver.find_elements_by_xpath(\"//div[@class='keyword']/span\")\n",
    "        overall.append(overall_[0].text)\n",
    "    except:\n",
    "        overall.append(\"--\")\n",
    "    return overall"
   ]
  },
  {
   "cell_type": "code",
   "execution_count": 437,
   "metadata": {},
   "outputs": [],
   "source": [
    "def scrape_des():\n",
    "    description=[]\n",
    "    try:\n",
    "        \n",
    "        des_el=driver.find_elements_by_xpath(\"//div[@class='content collapse-content']\")\n",
    "        description.append(des_el[0].text)\n",
    "    except:\n",
    "        description.append(\"--\")\n",
    "    return description"
   ]
  },
  {
   "cell_type": "code",
   "execution_count": 438,
   "metadata": {},
   "outputs": [],
   "source": [
    "def scrape_fac():\n",
    "    facility=[]\n",
    "    try:\n",
    "        fac_el=driver.find_elements_by_xpath(\"//ul[@class='facilities']/li\")\n",
    "        facility.append(get_text(fac_el))\n",
    "    except:\n",
    "        facility.append(\"--\")\n",
    "    return facility"
   ]
  },
  {
   "cell_type": "code",
   "execution_count": 439,
   "metadata": {},
   "outputs": [],
   "source": [
    "def scrape_dorm():\n",
    "    dorm=[]\n",
    "    try:\n",
    "        dorm_el=driver.find_elements_by_xpath(\"//div[@class='room-title-container']\")\n",
    "        dorm.append(get_text(dorm_el))\n",
    "    except:\n",
    "        dorm.append(\"--\")\n",
    "    return dorm"
   ]
  },
  {
   "cell_type": "code",
   "execution_count": 440,
   "metadata": {},
   "outputs": [],
   "source": [
    "def scrape_price():\n",
    "    price=[]\n",
    "    price_=[]\n",
    "    try:\n",
    "        price_el=driver.find_elements_by_xpath(\"//div[@class='price']\")\n",
    "        for i in range(0,len(price_el),2):\n",
    "            price_.append(price_el[i])\n",
    "        price.append(get_text(price_))\n",
    "    except:\n",
    "        price.append(\"--\")\n",
    "    return price"
   ]
  },
  {
   "cell_type": "code",
   "execution_count": 441,
   "metadata": {},
   "outputs": [],
   "source": [
    "import time"
   ]
  },
  {
   "cell_type": "code",
   "execution_count": 458,
   "metadata": {},
   "outputs": [
    {
     "data": {
      "text/plain": [
       "0"
      ]
     },
     "execution_count": 458,
     "metadata": {},
     "output_type": "execute_result"
    }
   ],
   "source": [
    "urls=[]\n",
    "name.extend(scrape_names(\"//h2/a\"))\n",
    "distance.extend(calc_dist(\"//div[@class='addressline']\"))\n",
    "urls.extend(scrape_urls(\"h2/a\"))\n",
    "len(urls)"
   ]
  },
  {
   "cell_type": "code",
   "execution_count": 449,
   "metadata": {},
   "outputs": [
    {
     "name": "stdout",
     "output_type": "stream",
     "text": [
      "iteration 0\n",
      "iteration 1\n",
      "iteration 2\n",
      "iteration 3\n",
      "iteration 4\n",
      "iteration 5\n",
      "iteration 6\n",
      "iteration 7\n",
      "iteration 8\n",
      "iteration 9\n",
      "iteration 10\n",
      "iteration 11\n",
      "iteration 12\n",
      "iteration 13\n",
      "iteration 14\n",
      "iteration 15\n",
      "iteration 16\n",
      "iteration 17\n",
      "iteration 18\n",
      "iteration 19\n",
      "iteration 20\n",
      "iteration 21\n",
      "iteration 22\n",
      "iteration 23\n",
      "iteration 24\n",
      "iteration 25\n",
      "iteration 26\n",
      "iteration 27\n",
      "iteration 28\n",
      "iteration 29\n",
      "iteration 30\n",
      "iteration 31\n"
     ]
    },
    {
     "data": {
      "text/plain": [
       "32"
      ]
     },
     "execution_count": 449,
     "metadata": {},
     "output_type": "execute_result"
    }
   ],
   "source": [
    "name=[]\n",
    "distance=[]\n",
    "description=[]\n",
    "total_rev=[]\n",
    "overall_review=[]\n",
    "rating=[]\n",
    "facility=[]\n",
    "dorm=[]\n",
    "price=[]\n",
    "\n",
    "p=0\n",
    "\n",
    "for i in urls:\n",
    "    print('iteration',p)\n",
    "    driver.get(i)\n",
    "    time.sleep(3)\n",
    "    description.extend(scrape_des())\n",
    "    total_rev.extend(scrape_total_rev())\n",
    "    overall_review.extend(overall_rev())\n",
    "    rating.extend(scrape_rating())\n",
    "    facility.extend(scrape_fac())\n",
    "    dorm.extend(scrape_dorm())\n",
    "    price.extend(scrape_price())\n",
    "    p=p+1\n",
    "len(price)"
   ]
  },
  {
   "cell_type": "code",
   "execution_count": 453,
   "metadata": {},
   "outputs": [
    {
     "data": {
      "text/plain": [
       "[]"
      ]
     },
     "execution_count": 453,
     "metadata": {},
     "output_type": "execute_result"
    }
   ],
   "source": [
    "distance"
   ]
  },
  {
   "cell_type": "markdown",
   "metadata": {},
   "source": [
    "THE WEBSITE HOSTELWORLD.COM STARTED MALFUNCTIONING\n",
    "THE XPATH THAT I USED TO SEARCH FOR 'LONDON' EARLIER WAS LATER NOT FOUND\n",
    "SAME THINGS HAPPEND WITH THE URL AND THE REST OF THE X PATHS.\n",
    "LEAVING THIS QUESTION OUT UNTIL I GET A SOLUTION AFTER RAISING A TICKET.\n"
   ]
  },
  {
   "cell_type": "code",
   "execution_count": null,
   "metadata": {},
   "outputs": [],
   "source": []
  }
 ],
 "metadata": {
  "kernelspec": {
   "display_name": "Python 3",
   "language": "python",
   "name": "python3"
  },
  "language_info": {
   "codemirror_mode": {
    "name": "ipython",
    "version": 3
   },
   "file_extension": ".py",
   "mimetype": "text/x-python",
   "name": "python",
   "nbconvert_exporter": "python",
   "pygments_lexer": "ipython3",
   "version": "3.8.5"
  }
 },
 "nbformat": 4,
 "nbformat_minor": 4
}
